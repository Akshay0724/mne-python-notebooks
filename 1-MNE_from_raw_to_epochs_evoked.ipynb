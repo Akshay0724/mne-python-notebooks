{
 "metadata": {
  "name": "",
  "signature": "sha256:80aed630841cb6af6162eef292f5ce2a31d84167c6bce422a89b0c06cff0208f"
 },
 "nbformat": 3,
 "nbformat_minor": 0,
 "worksheets": [
  {
   "cells": [
    {
     "cell_type": "markdown",
     "metadata": {},
     "source": [
      "MNE : From raw data to epochs and evoked responses (ERF/ERP)\n",
      "============================================================\n",
      "\n",
      "`\n",
      "Authors:\n",
      "Alexandre Gramfort\n",
      "Denis Engemann\n",
      "`"
     ]
    },
    {
     "cell_type": "code",
     "collapsed": false,
     "input": [
      "# add plot inline in the page\n",
      "%matplotlib inline\n",
      "import numpy as np"
     ],
     "language": "python",
     "metadata": {},
     "outputs": [],
     "prompt_number": 1
    },
    {
     "cell_type": "markdown",
     "metadata": {},
     "source": [
      "First, load the mne package:"
     ]
    },
    {
     "cell_type": "code",
     "collapsed": false,
     "input": [
      "import mne\n",
      "mne.pick_types?"
     ],
     "language": "python",
     "metadata": {},
     "outputs": [],
     "prompt_number": 2
    },
    {
     "cell_type": "code",
     "collapsed": false,
     "input": [],
     "language": "python",
     "metadata": {},
     "outputs": [],
     "prompt_number": 2
    },
    {
     "cell_type": "markdown",
     "metadata": {},
     "source": [
      "We set the log-level to 'WARNING' so the output is less verbose"
     ]
    },
    {
     "cell_type": "code",
     "collapsed": false,
     "input": [
      "mne.set_log_level('WARNING')"
     ],
     "language": "python",
     "metadata": {},
     "outputs": [],
     "prompt_number": 3
    },
    {
     "cell_type": "heading",
     "level": 2,
     "metadata": {},
     "source": [
      "Access raw data"
     ]
    },
    {
     "cell_type": "markdown",
     "metadata": {},
     "source": [
      "Now we import the sample dataset. If you don't already have it, it will be downloaded automatically (but be patient approx. 2GB)"
     ]
    },
    {
     "cell_type": "code",
     "collapsed": false,
     "input": [
      "from mne.datasets import sample\n",
      "data_path = sample.data_path()\n",
      "# data_path = '/home/tutorial/MNE-sample-data'\n",
      "raw_fname = data_path + '/MEG/sample/sample_audvis_filt-0-40_raw.fif'\n",
      "\n",
      "print raw_fname"
     ],
     "language": "python",
     "metadata": {},
     "outputs": [
      {
       "output_type": "stream",
       "stream": "stdout",
       "text": [
        "/Users/dengemann/mne_data/MNE-sample-data/MEG/sample/sample_audvis_filt-0-40_raw.fif\n"
       ]
      },
      {
       "output_type": "stream",
       "stream": "stderr",
       "text": [
        "/Users/dengemann/github/mne-python/mne/datasets/utils.py:206: UserWarning: The sample dataset (version 0.7) is older than mne-python (version 0.9.git). If the examples fail, you may need to update the sample dataset by using mne.datasets.sample.data_path(force_update=True)\n",
        "  name=name, current=data_version, newest=mne_version))\n"
       ]
      }
     ],
     "prompt_number": 4
    },
    {
     "cell_type": "code",
     "collapsed": false,
     "input": [
      "print raw_fname"
     ],
     "language": "python",
     "metadata": {},
     "outputs": [
      {
       "output_type": "stream",
       "stream": "stdout",
       "text": [
        "/Users/dengemann/mne_data/MNE-sample-data/MEG/sample/sample_audvis_filt-0-40_raw.fif\n"
       ]
      }
     ],
     "prompt_number": 5
    },
    {
     "cell_type": "markdown",
     "metadata": {},
     "source": [
      "Read data from file:"
     ]
    },
    {
     "cell_type": "code",
     "collapsed": false,
     "input": [
      "raw = mne.io.Raw(raw_fname)\n",
      "print raw"
     ],
     "language": "python",
     "metadata": {},
     "outputs": [
      {
       "output_type": "stream",
       "stream": "stdout",
       "text": [
        "<Raw  |  n_channels x n_times : 376 x 41700>\n"
       ]
      }
     ],
     "prompt_number": 6
    },
    {
     "cell_type": "code",
     "collapsed": false,
     "input": [
      "raw.ch_names[315:315 + 3]"
     ],
     "language": "python",
     "metadata": {},
     "outputs": [
      {
       "metadata": {},
       "output_type": "pyout",
       "prompt_number": 7,
       "text": [
        "['EEG 001', 'EEG 002', 'EEG 003']"
       ]
      }
     ],
     "prompt_number": 7
    },
    {
     "cell_type": "code",
     "collapsed": false,
     "input": [
      "print raw.info"
     ],
     "language": "python",
     "metadata": {},
     "outputs": [
      {
       "output_type": "stream",
       "stream": "stdout",
       "text": [
        "<Info | 17 non-empty fields\n",
        "    bads : list | MEG 2443, EEG 053\n",
        "    buffer_size_sec : numpy.float64 | 13.3196808772\n",
        "    ch_names : list | MEG 0113, MEG 0112, MEG 0111, MEG 0122, MEG 0123, ...\n",
        "    chs : list | 376 items (EOG: 1, EEG: 60, STIM: 9, GRAD: 204, MAG: 102)\n",
        "    comps : list | 0 items\n",
        "    dev_head_t : dict | 3 items\n",
        "    dig : list | 146 items\n",
        "    file_id : dict | 4 items\n",
        "    filename : unicode | /Users/den.../sample_audvis_filt-0-40_raw.fif\n",
        "    highpass : float | 0.10000000149\n",
        "    lowpass : float | 40.0\n",
        "    meas_date : numpy.ndarray | 2002-12-03 20:01:10\n",
        "    meas_id : dict | 4 items\n",
        "    nchan : int | 376\n",
        "    orig_blocks : dict | 2 items\n",
        "    projs : list | PCA-v1: off, PCA-v2: off, PCA-v3: off, ...\n",
        "    sfreq : float | 150.153747559\n",
        "    acq_pars : NoneType\n",
        "    acq_stim : NoneType\n",
        "    ctf_head_t : NoneType\n",
        "    description : NoneType\n",
        "    dev_ctf_t : NoneType\n",
        "    experimenter : NoneType\n",
        "    line_freq : NoneType\n",
        "    proj_id : NoneType\n",
        "    proj_name : NoneType\n",
        "    subject_info : NoneType\n",
        ">\n"
       ]
      }
     ],
     "prompt_number": 8
    },
    {
     "cell_type": "markdown",
     "metadata": {},
     "source": [
      "Look at the channels in raw:"
     ]
    },
    {
     "cell_type": "code",
     "collapsed": false,
     "input": [
      "print raw.ch_names[:5]"
     ],
     "language": "python",
     "metadata": {},
     "outputs": [
      {
       "output_type": "stream",
       "stream": "stdout",
       "text": [
        "['MEG 0113', 'MEG 0112', 'MEG 0111', 'MEG 0122', 'MEG 0123']\n"
       ]
      }
     ],
     "prompt_number": 9
    },
    {
     "cell_type": "code",
     "collapsed": false,
     "input": [
      "data, times = raw[:, :10]\n",
      "print data.shape"
     ],
     "language": "python",
     "metadata": {},
     "outputs": [
      {
       "output_type": "stream",
       "stream": "stdout",
       "text": [
        "(376, 10)\n"
       ]
      }
     ],
     "prompt_number": 10
    },
    {
     "cell_type": "markdown",
     "metadata": {},
     "source": [
      "Read and plot a segment of raw data"
     ]
    },
    {
     "cell_type": "code",
     "collapsed": false,
     "input": [
      "start, stop = raw.time_as_index([100, 115])  # 100 s to 115 s data segment\n",
      "data, times = raw[:306, start:stop]\n",
      "print data.shape\n",
      "print times.shape\n",
      "print times.min(), times.max()"
     ],
     "language": "python",
     "metadata": {},
     "outputs": [
      {
       "output_type": "stream",
       "stream": "stdout",
       "text": [
        "(306, 2252)\n",
        "(2252,)\n",
        "99.9975041858 114.988805013\n"
       ]
      }
     ],
     "prompt_number": 11
    },
    {
     "cell_type": "code",
     "collapsed": false,
     "input": [
      "# picks = mne.pick_types(raw.info, meg='mag', exclude=[])\n",
      "# print pick"
     ],
     "language": "python",
     "metadata": {},
     "outputs": [],
     "prompt_number": 12
    },
    {
     "cell_type": "markdown",
     "metadata": {},
     "source": [
      "Take some magnetometer data and plot it"
     ]
    },
    {
     "cell_type": "code",
     "collapsed": false,
     "input": [
      "picks = mne.pick_types(raw.info, meg='mag', exclude=[])\n",
      "data, times = raw[picks[:10], start:stop]\n",
      "\n",
      "import matplotlib.pyplot as plt\n",
      "plt.plot(times, data.T)\n",
      "plt.xlabel('time (s)')\n",
      "plt.ylabel('MEG data (T)')"
     ],
     "language": "python",
     "metadata": {},
     "outputs": [
      {
       "metadata": {},
       "output_type": "pyout",
       "prompt_number": 13,
       "text": [
        "<matplotlib.text.Text at 0x1127bdc10>"
       ]
      },
      {
       "metadata": {},
       "output_type": "display_data",
       "png": "[encoded data removed]",
       "text": [
        "<matplotlib.figure.Figure at 0x110a52f50>"
       ]
      }
     ],
     "prompt_number": 13
    },
    {
     "cell_type": "code",
     "collapsed": false,
     "input": [
      "len(mne.pick_types(raw.info, meg=False, eeg=True, exclude='bads'))"
     ],
     "language": "python",
     "metadata": {},
     "outputs": [
      {
       "metadata": {},
       "output_type": "pyout",
       "prompt_number": 14,
       "text": [
        "59"
       ]
      }
     ],
     "prompt_number": 14
    },
    {
     "cell_type": "code",
     "collapsed": false,
     "input": [
      "raw.info['bads']"
     ],
     "language": "python",
     "metadata": {},
     "outputs": [
      {
       "metadata": {},
       "output_type": "pyout",
       "prompt_number": 15,
       "text": [
        "[u'MEG 2443', u'EEG 053']"
       ]
      }
     ],
     "prompt_number": 15
    },
    {
     "cell_type": "markdown",
     "metadata": {},
     "source": [
      "Save a segment of 150s of raw data (MEG only):"
     ]
    },
    {
     "cell_type": "code",
     "collapsed": false,
     "input": [
      "picks = mne.pick_types(raw.info, meg=True, eeg=False, stim=True, exclude=[])\n",
      "raw.save('sample_audvis_meg_raw.fif', tmin=0., tmax=150., picks=picks, overwrite=True)"
     ],
     "language": "python",
     "metadata": {},
     "outputs": [],
     "prompt_number": 16
    },
    {
     "cell_type": "markdown",
     "metadata": {},
     "source": [
      "Filtering:"
     ]
    },
    {
     "cell_type": "code",
     "collapsed": false,
     "input": [
      "raw_beta = mne.io.Raw(raw_fname, preload=True)  # reload data with preload for filtering\n",
      "\n",
      "# keep beta band\n",
      "raw_beta.filter(13.0, 30.0, method='iir')\n",
      "\n",
      "# save the result\n",
      "raw_beta.save('sample_audvis_beta_raw.fif', overwrite=True)\n",
      "\n",
      "print raw_beta.info"
     ],
     "language": "python",
     "metadata": {},
     "outputs": [
      {
       "output_type": "stream",
       "stream": "stdout",
       "text": [
        "<Info | 17 non-empty fields\n",
        "    bads : list | MEG 2443, EEG 053\n",
        "    buffer_size_sec : numpy.float64 | 13.3196808772\n",
        "    ch_names : list | MEG 0113, MEG 0112, MEG 0111, MEG 0122, MEG 0123, ...\n",
        "    chs : list | 376 items (EOG: 1, EEG: 60, STIM: 9, GRAD: 204, MAG: 102)\n",
        "    comps : list | 0 items\n",
        "    dev_head_t : dict | 3 items\n",
        "    dig : list | 146 items\n",
        "    file_id : dict | 4 items\n",
        "    filename : unicode | /Users/den.../sample_audvis_filt-0-40_raw.fif\n",
        "    highpass : float | 13.0\n",
        "    lowpass : float | 30.0\n",
        "    meas_date : numpy.ndarray | 2002-12-03 20:01:10\n",
        "    meas_id : dict | 4 items\n",
        "    nchan : int | 376\n",
        "    orig_blocks : dict | 2 items\n",
        "    projs : list | PCA-v1: off, PCA-v2: off, PCA-v3: off, ...\n",
        "    sfreq : float | 150.153747559\n",
        "    acq_pars : NoneType\n",
        "    acq_stim : NoneType\n",
        "    ctf_head_t : NoneType\n",
        "    description : NoneType\n",
        "    dev_ctf_t : NoneType\n",
        "    experimenter : NoneType\n",
        "    line_freq : NoneType\n",
        "    proj_id : NoneType\n",
        "    proj_name : NoneType\n",
        "    subject_info : NoneType\n",
        ">\n"
       ]
      }
     ],
     "prompt_number": 17
    },
    {
     "cell_type": "markdown",
     "metadata": {},
     "source": [
      "## Exercise :\n",
      "\n",
      "- Filter the raw data between 1Hz and 40Hz. Observe the absence of the slow drifts.\n",
      "- Plot the magnetometers and the gradiometers separately. Observe the different units."
     ]
    },
    {
     "cell_type": "heading",
     "level": 2,
     "metadata": {},
     "source": [
      "Define and read epochs"
     ]
    },
    {
     "cell_type": "markdown",
     "metadata": {},
     "source": [
      "First extract events:"
     ]
    },
    {
     "cell_type": "code",
     "collapsed": false,
     "input": [
      "events = mne.find_events(raw, stim_channel='STI 014')"
     ],
     "language": "python",
     "metadata": {},
     "outputs": [],
     "prompt_number": 18
    },
    {
     "cell_type": "code",
     "collapsed": false,
     "input": [
      "print events[:5]  # events is a 2d array"
     ],
     "language": "python",
     "metadata": {},
     "outputs": [
      {
       "output_type": "stream",
       "stream": "stdout",
       "text": [
        "[[6994    0    2]\n",
        " [7086    0    3]\n",
        " [7192    0    1]\n",
        " [7304    0    4]\n",
        " [7413    0    2]]\n"
       ]
      }
     ],
     "prompt_number": 19
    },
    {
     "cell_type": "code",
     "collapsed": false,
     "input": [
      "len(events[events[:, 2] == 2])"
     ],
     "language": "python",
     "metadata": {},
     "outputs": [
      {
       "metadata": {},
       "output_type": "pyout",
       "prompt_number": 20,
       "text": [
        "73"
       ]
      }
     ],
     "prompt_number": 20
    },
    {
     "cell_type": "code",
     "collapsed": false,
     "input": [
      "len(events)"
     ],
     "language": "python",
     "metadata": {},
     "outputs": [
      {
       "metadata": {},
       "output_type": "pyout",
       "prompt_number": 21,
       "text": [
        "319"
       ]
      }
     ],
     "prompt_number": 21
    },
    {
     "cell_type": "markdown",
     "metadata": {},
     "source": [
      "Where are they coming from?"
     ]
    },
    {
     "cell_type": "code",
     "collapsed": false,
     "input": [
      "d, t = raw[raw.ch_names.index('STI 014'), :]\n",
      "d.shape"
     ],
     "language": "python",
     "metadata": {},
     "outputs": [
      {
       "metadata": {},
       "output_type": "pyout",
       "prompt_number": 22,
       "text": [
        "(1, 41700)"
       ]
      }
     ],
     "prompt_number": 22
    },
    {
     "cell_type": "code",
     "collapsed": false,
     "input": [
      "raw.ch_names.index('STI 014')"
     ],
     "language": "python",
     "metadata": {},
     "outputs": [
      {
       "metadata": {},
       "output_type": "pyout",
       "prompt_number": 23,
       "text": [
        "312"
       ]
      }
     ],
     "prompt_number": 23
    },
    {
     "cell_type": "code",
     "collapsed": false,
     "input": [
      "raw = mne.io.Raw(raw_fname, preload=True)  # reload data with preload for filtering\n",
      "raw.filter(1, 40, method='iir')"
     ],
     "language": "python",
     "metadata": {},
     "outputs": [],
     "prompt_number": 24
    },
    {
     "cell_type": "code",
     "collapsed": false,
     "input": [
      "plt.plot(d[0,:1000])"
     ],
     "language": "python",
     "metadata": {},
     "outputs": [
      {
       "metadata": {},
       "output_type": "pyout",
       "prompt_number": 25,
       "text": [
        "[<matplotlib.lines.Line2D at 0x11f006890>]"
       ]
      },
      {
       "metadata": {},
       "output_type": "display_data",
       "png": "[encoded data removed]",
       "text": [
        "<matplotlib.figure.Figure at 0x110a42cd0>"
       ]
      }
     ],
     "prompt_number": 25
    },
    {
     "cell_type": "markdown",
     "metadata": {},
     "source": [
      "Events are stored as 2D numpy array where the first column is the time instant and the last one is the event number. It is therefore easy to manipulate."
     ]
    },
    {
     "cell_type": "code",
     "collapsed": false,
     "input": [
      "events_new = events.copy()\n",
      "events_new[events_new[:, 2] == 2, 2] = 1  # matlab like syntax\n",
      "events_new[events_new[:, 2] == 4, 2] = 3\n",
      "print events_new[:5]\n",
      "print events[:5]"
     ],
     "language": "python",
     "metadata": {},
     "outputs": [
      {
       "output_type": "stream",
       "stream": "stdout",
       "text": [
        "[[6994    0    1]\n",
        " [7086    0    3]\n",
        " [7192    0    1]\n",
        " [7304    0    3]\n",
        " [7413    0    1]]\n",
        "[[6994    0    2]\n",
        " [7086    0    3]\n",
        " [7192    0    1]\n",
        " [7304    0    4]\n",
        " [7413    0    2]]\n"
       ]
      }
     ],
     "prompt_number": 26
    },
    {
     "cell_type": "code",
     "collapsed": false,
     "input": [
      "fig = mne.viz.plot_events(events, raw.info['sfreq'], raw.first_samp)"
     ],
     "language": "python",
     "metadata": {},
     "outputs": [
      {
       "metadata": {},
       "output_type": "display_data",
       "png": "[encoded data removed]",
       "text": [
        "<matplotlib.figure.Figure at 0x1128518d0>"
       ]
      }
     ],
     "prompt_number": 27
    },
    {
     "cell_type": "markdown",
     "metadata": {},
     "source": [
      "Define epochs parameters:"
     ]
    },
    {
     "cell_type": "code",
     "collapsed": false,
     "input": [
      "event_id = dict(aud_l=1, aud_r=2)  # event trigger and conditions\n",
      "tmin = -0.2  # start of each epoch (200ms before the trigger)\n",
      "tmax = 0.5  # end of each epoch (500ms after the trigger)"
     ],
     "language": "python",
     "metadata": {},
     "outputs": [],
     "prompt_number": 28
    },
    {
     "cell_type": "code",
     "collapsed": false,
     "input": [
      "event_id"
     ],
     "language": "python",
     "metadata": {},
     "outputs": [
      {
       "metadata": {},
       "output_type": "pyout",
       "prompt_number": 29,
       "text": [
        "{'aud_l': 1, 'aud_r': 2}"
       ]
      }
     ],
     "prompt_number": 29
    },
    {
     "cell_type": "markdown",
     "metadata": {},
     "source": [
      "Mark 2 channels as bad:"
     ]
    },
    {
     "cell_type": "code",
     "collapsed": false,
     "input": [
      "raw.info['bads'] = ['MEG 2443', 'EEG 053']\n",
      "print raw.info['bads']"
     ],
     "language": "python",
     "metadata": {},
     "outputs": [
      {
       "output_type": "stream",
       "stream": "stdout",
       "text": [
        "['MEG 2443', 'EEG 053']\n"
       ]
      }
     ],
     "prompt_number": 30
    },
    {
     "cell_type": "markdown",
     "metadata": {},
     "source": [
      "The variable raw.info[\u2018bads\u2019] is just a python list.\n",
      "\n",
      "Pick the good channels:"
     ]
    },
    {
     "cell_type": "code",
     "collapsed": false,
     "input": [
      "picks = mne.pick_types(raw.info, meg=True, eeg=True, eog=True,\n",
      "                       stim=False, exclude='bads')"
     ],
     "language": "python",
     "metadata": {},
     "outputs": [],
     "prompt_number": 31
    },
    {
     "cell_type": "markdown",
     "metadata": {},
     "source": [
      "Alternatively one can restrict to magnetometers or gradiometers with:"
     ]
    },
    {
     "cell_type": "code",
     "collapsed": false,
     "input": [
      "mag_picks = mne.pick_types(raw.info, meg='mag', eog=True, exclude='bads')\n",
      "grad_picks = mne.pick_types(raw.info, meg='grad', eog=True, exclude='bads')"
     ],
     "language": "python",
     "metadata": {},
     "outputs": [],
     "prompt_number": 32
    },
    {
     "cell_type": "markdown",
     "metadata": {},
     "source": [
      "Define the baseline period:"
     ]
    },
    {
     "cell_type": "code",
     "collapsed": false,
     "input": [
      "baseline = (None, 0)  # means from the first instant to t = 0"
     ],
     "language": "python",
     "metadata": {},
     "outputs": [],
     "prompt_number": 33
    },
    {
     "cell_type": "markdown",
     "metadata": {},
     "source": [
      "Define peak-to-peak rejection parameters for gradiometers, magnetometers and EOG:"
     ]
    },
    {
     "cell_type": "code",
     "collapsed": false,
     "input": [
      "reject = dict(grad=4000e-13, mag=4e-12, eog=150e-6)"
     ],
     "language": "python",
     "metadata": {},
     "outputs": [],
     "prompt_number": 34
    },
    {
     "cell_type": "markdown",
     "metadata": {},
     "source": [
      "Read epochs:"
     ]
    },
    {
     "cell_type": "code",
     "collapsed": false,
     "input": [
      "epochs = mne.Epochs(raw, events, event_id, tmin, tmax, proj=True,\n",
      "                    picks=picks, baseline=baseline, reject=reject)"
     ],
     "language": "python",
     "metadata": {},
     "outputs": [],
     "prompt_number": 35
    },
    {
     "cell_type": "markdown",
     "metadata": {},
     "source": [
      "See what channels contribute to epochs rejection:"
     ]
    },
    {
     "cell_type": "code",
     "collapsed": false,
     "input": [
      "epochs.drop_bad_epochs()\n",
      "epochs.plot_drop_log();"
     ],
     "language": "python",
     "metadata": {},
     "outputs": [
      {
       "metadata": {},
       "output_type": "display_data",
       "png": "[encoded data removed]",
       "text": [
        "<matplotlib.figure.Figure at 0x117025410>"
       ]
      }
     ],
     "prompt_number": 36
    },
    {
     "cell_type": "markdown",
     "metadata": {},
     "source": [
      "Scipy supports reading and writing of matlab files. You can save your single trials with:"
     ]
    },
    {
     "cell_type": "code",
     "collapsed": false,
     "input": [
      "from scipy import io\n",
      "io.savemat('epochs_data.mat', dict(epochs_data=epochs_data),\n",
      "           oned_as='row')"
     ],
     "language": "python",
     "metadata": {},
     "outputs": [
      {
       "ename": "NameError",
       "evalue": "name 'epochs_data' is not defined",
       "output_type": "pyerr",
       "traceback": [
        "\u001b[0;31m---------------------------------------------------------------------------\u001b[0m\n\u001b[0;31mNameError\u001b[0m                                 Traceback (most recent call last)",
        "\u001b[0;32m<ipython-input-37-286e27275cac>\u001b[0m in \u001b[0;36m<module>\u001b[0;34m()\u001b[0m\n\u001b[1;32m      1\u001b[0m \u001b[0;32mfrom\u001b[0m \u001b[0mscipy\u001b[0m \u001b[0;32mimport\u001b[0m \u001b[0mio\u001b[0m\u001b[0;34m\u001b[0m\u001b[0m\n\u001b[0;32m----> 2\u001b[0;31m io.savemat('epochs_data.mat', dict(epochs_data=epochs_data),\n\u001b[0m\u001b[1;32m      3\u001b[0m            oned_as='row')\n",
        "\u001b[0;31mNameError\u001b[0m: name 'epochs_data' is not defined"
       ]
      }
     ],
     "prompt_number": 37
    },
    {
     "cell_type": "markdown",
     "metadata": {},
     "source": [
      "or if you want to keep all the information about the data you can save your epochs in a fif file:"
     ]
    },
    {
     "cell_type": "code",
     "collapsed": false,
     "input": [
      "epochs.save('sample-epo.fif')"
     ],
     "language": "python",
     "metadata": {},
     "outputs": []
    },
    {
     "cell_type": "markdown",
     "metadata": {},
     "source": [
      "### Average the epochs to get ERF/ERP"
     ]
    },
    {
     "cell_type": "code",
     "collapsed": false,
     "input": [
      "evoked = epochs.average()"
     ],
     "language": "python",
     "metadata": {},
     "outputs": [],
     "prompt_number": 38
    },
    {
     "cell_type": "markdown",
     "metadata": {},
     "source": [
      "### Now let's visualize our ERP/ERF:"
     ]
    },
    {
     "cell_type": "code",
     "collapsed": false,
     "input": [
      "fig = evoked.plot(show=False)  # butterfly plots\n",
      "fig.subplots_adjust(hspace=1.0)\n",
      "for text in fig.findobj(mpl.text.Text):\n",
      "    text.set_fontsize(8)\n",
      "    text.set_color('magenta')\n",
      "fig.savefig('alex.pdf')"
     ],
     "language": "python",
     "metadata": {},
     "outputs": [
      {
       "metadata": {},
       "output_type": "display_data",
       "png": "[encoded data removed]",
       "text": [
        "<matplotlib.figure.Figure at 0x115181a10>"
       ]
      }
     ],
     "prompt_number": 54
    },
    {
     "cell_type": "code",
     "collapsed": false,
     "input": [
      "# topography plots\n",
      "evoked.plot_topomap(times=np.linspace(0.05, 0.15, 5), ch_type='mag');\n",
      "evoked.plot_topomap(times=np.linspace(0.05, 0.15, 5), ch_type='grad');\n",
      "evoked.plot_topomap(times=np.linspace(0.05, 0.15, 5), ch_type='eeg');"
     ],
     "language": "python",
     "metadata": {},
     "outputs": []
    },
    {
     "cell_type": "markdown",
     "metadata": {},
     "source": [
      "### Get single epochs for one condition:\n",
      "\n",
      "Syntax is `epochs[condition]`"
     ]
    },
    {
     "cell_type": "code",
     "collapsed": false,
     "input": [
      "epochs_data = epochs['aud_l'].get_data()\n",
      "print epochs_data.shape"
     ],
     "language": "python",
     "metadata": {},
     "outputs": []
    },
    {
     "cell_type": "markdown",
     "metadata": {},
     "source": [
      "epochs_data is a 3D array of dimension (55 epochs, 365 channels, 106 time instants)."
     ]
    },
    {
     "cell_type": "code",
     "collapsed": false,
     "input": [
      "# Loop over conditions\n",
      "for k in event_id:\n",
      "    epochs[k].average().plot();"
     ],
     "language": "python",
     "metadata": {},
     "outputs": []
    },
    {
     "cell_type": "code",
     "collapsed": false,
     "input": [
      "evokeds = [epochs[k].average() for k in event_id]\n",
      "from mne.viz import plot_topo\n",
      "layout = mne.find_layout(epochs.info)\n",
      "plot_topo(evokeds, layout=layout, color=['blue', 'orange']);"
     ],
     "language": "python",
     "metadata": {},
     "outputs": []
    },
    {
     "cell_type": "markdown",
     "metadata": {},
     "source": [
      "### Write evoked data to disk"
     ]
    },
    {
     "cell_type": "code",
     "collapsed": false,
     "input": [
      "evoked.save('sample-ave.fif')"
     ],
     "language": "python",
     "metadata": {},
     "outputs": []
    },
    {
     "cell_type": "markdown",
     "metadata": {},
     "source": [
      "or to write multiple conditions in 1 file"
     ]
    },
    {
     "cell_type": "code",
     "collapsed": false,
     "input": [
      "mne.write_evokeds('sample-ave.fif', evokeds)"
     ],
     "language": "python",
     "metadata": {},
     "outputs": []
    },
    {
     "cell_type": "markdown",
     "metadata": {},
     "source": [
      "## Exercise:\n",
      "\n",
      "- Recompute epochs and evoked on highpassed data without baseline. Is it different?"
     ]
    },
    {
     "cell_type": "markdown",
     "metadata": {},
     "source": [
      "### Reading evoked from disk\n",
      "\n",
      "It is also possible to read evoked data stored in a fif file:"
     ]
    },
    {
     "cell_type": "code",
     "collapsed": false,
     "input": [
      "evoked_fname = data_path + '/MEG/sample/sample_audvis-ave.fif'\n",
      "evoked1 = mne.read_evokeds(evoked_fname, condition=0, baseline=(None, 0), proj=True)"
     ],
     "language": "python",
     "metadata": {},
     "outputs": []
    },
    {
     "cell_type": "markdown",
     "metadata": {},
     "source": [
      "Or another one stored in the same file:"
     ]
    },
    {
     "cell_type": "code",
     "collapsed": false,
     "input": [
      "evoked2 = mne.read_evokeds(evoked_fname, condition=1,\n",
      "                           baseline=(None, 0), proj=True)"
     ],
     "language": "python",
     "metadata": {},
     "outputs": []
    },
    {
     "cell_type": "markdown",
     "metadata": {},
     "source": [
      "Or give the explicit name of the averaged condition:"
     ]
    },
    {
     "cell_type": "code",
     "collapsed": false,
     "input": [
      "evoked3 = mne.read_evokeds(evoked_fname, condition='Left visual',\n",
      "                           baseline=(None, 0), proj=True)"
     ],
     "language": "python",
     "metadata": {},
     "outputs": []
    },
    {
     "cell_type": "markdown",
     "metadata": {},
     "source": [
      "### Compute a contrast:"
     ]
    },
    {
     "cell_type": "code",
     "collapsed": false,
     "input": [
      "contrast = evokeds[0] - evokeds[1]\n",
      "print contrast"
     ],
     "language": "python",
     "metadata": {},
     "outputs": []
    },
    {
     "cell_type": "code",
     "collapsed": false,
     "input": [
      "fig = contrast.plot()"
     ],
     "language": "python",
     "metadata": {},
     "outputs": []
    },
    {
     "cell_type": "markdown",
     "metadata": {},
     "source": [
      "### Save your figure as pdf"
     ]
    },
    {
     "cell_type": "code",
     "collapsed": false,
     "input": [
      "%matplotlib qt4\n",
      "import numpy as np\n",
      "contrast.plot_topomap(times=np.linspace(0.05, 0.15, 5), ch_type='mag')\n",
      "plt.savefig('toto.pdf')\n",
      "!open toto.pdf"
     ],
     "language": "python",
     "metadata": {},
     "outputs": []
    },
    {
     "cell_type": "markdown",
     "metadata": {},
     "source": [
      "## Excercise\n",
      "- Extract Epochs restricted to magnetometers on unfiltered data (sample_audvis_raw.fif)\n",
      "- What is the effect of setting proj=True or proj=False in Epochs?\n",
      "- Add ECG projections to raw with raw.add_proj. Do you get rid of ECG?"
     ]
    },
    {
     "cell_type": "code",
     "collapsed": false,
     "input": [
      "raw.add_proj?"
     ],
     "language": "python",
     "metadata": {},
     "outputs": []
    },
    {
     "cell_type": "code",
     "collapsed": false,
     "input": [],
     "language": "python",
     "metadata": {},
     "outputs": []
    }
   ],
   "metadata": {}
  }
 ]
}