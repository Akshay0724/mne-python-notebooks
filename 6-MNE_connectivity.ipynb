{
 "metadata": {
  "name": ""
 },
 "nbformat": 3,
 "nbformat_minor": 0,
 "worksheets": [
  {
   "cells": [
    {
     "cell_type": "markdown",
     "metadata": {},
     "source": [
      "Compute source space connectivity and visualize it using a circular graph\n",
      "=========================================================================\n",
      "\n",
      "This example computes the all-to-all connectivity between 68 regions in\n",
      "source space based on dSPM inverse solutions and a FreeSurfer cortical\n",
      "parcellation. The connectivity is visualized using a circular graph which\n",
      "is ordered based on the locations of the regions.\n",
      "\n",
      "\n",
      "Authors: Martin Luessi <mluessi@nmr.mgh.harvard.edu>\n",
      "         Alexandre Gramfort <gramfort@nmr.mgh.harvard.edu>\n",
      "         Nicolas P. Rougier (graph code borrowed from his matplotlib gallery)\n",
      "\n",
      "License: BSD (3-clause)"
     ]
    },
    {
     "cell_type": "code",
     "collapsed": false,
     "input": [
      "# add plot inline in the page\n",
      "%pylab --no-import-all inline"
     ],
     "language": "python",
     "metadata": {},
     "outputs": [
      {
       "output_type": "stream",
       "stream": "stdout",
       "text": [
        "Populating the interactive namespace from numpy and matplotlib\n"
       ]
      }
     ],
     "prompt_number": 1
    },
    {
     "cell_type": "code",
     "collapsed": false,
     "input": [
      "import numpy as np\n",
      "import mne\n",
      "from mne.datasets import sample\n",
      "from mne.fiff import Raw, pick_types\n",
      "from mne.minimum_norm import read_inverse_operator\n",
      "\n",
      "data_path = sample.data_path()\n",
      "subjects_dir = data_path + '/subjects'\n",
      "fname_inv = data_path + '/MEG/sample/sample_audvis-meg-oct-6-meg-inv.fif'\n",
      "fname_raw = data_path + '/MEG/sample/sample_audvis_filt-0-40_raw.fif'\n",
      "fname_event = data_path + '/MEG/sample/sample_audvis_filt-0-40_raw-eve.fif'\n",
      "\n",
      "# Load data\n",
      "inverse_operator = read_inverse_operator(fname_inv)\n",
      "raw = Raw(fname_raw)\n",
      "events = mne.read_events(fname_event)\n",
      "\n",
      "# Add a bad channel\n",
      "raw.info['bads'] += ['MEG 2443']\n",
      "\n",
      "# Pick MEG channels\n",
      "picks = pick_types(raw.info, meg=True, eeg=False, stim=False, eog=True,\n",
      "                   exclude='bads')\n",
      "\n",
      "# Define epochs for left-auditory condition\n",
      "event_id, tmin, tmax = 1, -0.2, 0.5\n",
      "epochs = mne.Epochs(raw, events, event_id, tmin, tmax, picks=picks,\n",
      "                    baseline=(None, 0), reject=dict(mag=4e-12, grad=4000e-13,\n",
      "                                                    eog=150e-6))"
     ],
     "language": "python",
     "metadata": {},
     "outputs": [
      {
       "output_type": "stream",
       "stream": "stdout",
       "text": [
        "Reading inverse operator decomposition from /Users/dengemann/python/mne-python/examples/MNE-sample-data/MEG/sample/sample_audvis-meg-oct-6-meg-inv.fif...\n"
       ]
      },
      {
       "output_type": "stream",
       "stream": "stdout",
       "text": [
        "    Reading inverse operator info...\n"
       ]
      },
      {
       "output_type": "stream",
       "stream": "stdout",
       "text": [
        "    [done]\n"
       ]
      },
      {
       "output_type": "stream",
       "stream": "stdout",
       "text": [
        "    Reading inverse operator decomposition...\n"
       ]
      },
      {
       "output_type": "stream",
       "stream": "stdout",
       "text": [
        "    [done]\n"
       ]
      },
      {
       "output_type": "stream",
       "stream": "stdout",
       "text": [
        "    305 x 305 full covariance (kind = 1) found.\n"
       ]
      },
      {
       "output_type": "stream",
       "stream": "stdout",
       "text": [
        "    Read a total of 4 projection items:\n"
       ]
      },
      {
       "output_type": "stream",
       "stream": "stdout",
       "text": [
        "        PCA-v1 (1 x 102) active\n"
       ]
      },
      {
       "output_type": "stream",
       "stream": "stdout",
       "text": [
        "        PCA-v2 (1 x 102) active\n"
       ]
      },
      {
       "output_type": "stream",
       "stream": "stdout",
       "text": [
        "        PCA-v3 (1 x 102) active\n"
       ]
      },
      {
       "output_type": "stream",
       "stream": "stdout",
       "text": [
        "        Average EEG reference (1 x 60) active\n"
       ]
      },
      {
       "output_type": "stream",
       "stream": "stdout",
       "text": [
        "    Noise covariance matrix read.\n"
       ]
      },
      {
       "output_type": "stream",
       "stream": "stdout",
       "text": [
        "    22494 x 22494 diagonal covariance (kind = 2) found.\n"
       ]
      },
      {
       "output_type": "stream",
       "stream": "stdout",
       "text": [
        "    Source covariance matrix read.\n"
       ]
      },
      {
       "output_type": "stream",
       "stream": "stdout",
       "text": [
        "    22494 x 22494 diagonal covariance (kind = 6) found.\n"
       ]
      },
      {
       "output_type": "stream",
       "stream": "stdout",
       "text": [
        "    Orientation priors read.\n"
       ]
      },
      {
       "output_type": "stream",
       "stream": "stdout",
       "text": [
        "    22494 x 22494 diagonal covariance (kind = 5) found.\n"
       ]
      },
      {
       "output_type": "stream",
       "stream": "stdout",
       "text": [
        "    Depth priors read.\n"
       ]
      },
      {
       "output_type": "stream",
       "stream": "stdout",
       "text": [
        "    Did not find the desired covariance matrix (kind = 3)\n"
       ]
      },
      {
       "output_type": "stream",
       "stream": "stdout",
       "text": [
        "    Reading a source space...\n"
       ]
      },
      {
       "output_type": "stream",
       "stream": "stdout",
       "text": [
        "    Computing patch statistics...\n"
       ]
      },
      {
       "output_type": "stream",
       "stream": "stdout",
       "text": [
        "    Patch information added...\n"
       ]
      },
      {
       "output_type": "stream",
       "stream": "stdout",
       "text": [
        "    Distance information added...\n"
       ]
      },
      {
       "output_type": "stream",
       "stream": "stdout",
       "text": [
        "    [done]\n"
       ]
      },
      {
       "output_type": "stream",
       "stream": "stdout",
       "text": [
        "    Reading a source space...\n"
       ]
      },
      {
       "output_type": "stream",
       "stream": "stdout",
       "text": [
        "    Computing patch statistics...\n"
       ]
      },
      {
       "output_type": "stream",
       "stream": "stdout",
       "text": [
        "    Patch information added...\n"
       ]
      },
      {
       "output_type": "stream",
       "stream": "stdout",
       "text": [
        "    Distance information added...\n"
       ]
      },
      {
       "output_type": "stream",
       "stream": "stdout",
       "text": [
        "    [done]\n"
       ]
      },
      {
       "output_type": "stream",
       "stream": "stdout",
       "text": [
        "    2 source spaces read\n"
       ]
      },
      {
       "output_type": "stream",
       "stream": "stdout",
       "text": [
        "    Read a total of 4 projection items:\n"
       ]
      },
      {
       "output_type": "stream",
       "stream": "stdout",
       "text": [
        "        PCA-v1 (1 x 102) active\n"
       ]
      },
      {
       "output_type": "stream",
       "stream": "stdout",
       "text": [
        "        PCA-v2 (1 x 102) active\n"
       ]
      },
      {
       "output_type": "stream",
       "stream": "stdout",
       "text": [
        "        PCA-v3 (1 x 102) active\n"
       ]
      },
      {
       "output_type": "stream",
       "stream": "stdout",
       "text": [
        "        Average EEG reference (1 x 60) active\n"
       ]
      },
      {
       "output_type": "stream",
       "stream": "stdout",
       "text": [
        "    Source spaces transformed to the inverse solution coordinate frame\n"
       ]
      },
      {
       "output_type": "stream",
       "stream": "stdout",
       "text": [
        "Opening raw data file /Users/dengemann/python/mne-python/examples/MNE-sample-data/MEG/sample/sample_audvis_filt-0-40_raw.fif...\n"
       ]
      },
      {
       "output_type": "stream",
       "stream": "stdout",
       "text": [
        "    Read a total of 4 projection items:\n"
       ]
      },
      {
       "output_type": "stream",
       "stream": "stdout",
       "text": [
        "        PCA-v1 (1 x 102)  idle\n"
       ]
      },
      {
       "output_type": "stream",
       "stream": "stdout",
       "text": [
        "        PCA-v2 (1 x 102)  idle\n"
       ]
      },
      {
       "output_type": "stream",
       "stream": "stdout",
       "text": [
        "        PCA-v3 (1 x 102)  idle\n"
       ]
      },
      {
       "output_type": "stream",
       "stream": "stdout",
       "text": [
        "        Average EEG reference (1 x 60)  idle\n"
       ]
      },
      {
       "output_type": "stream",
       "stream": "stdout",
       "text": [
        "Current compensation grade : 0\n"
       ]
      },
      {
       "output_type": "stream",
       "stream": "stdout",
       "text": [
        "    Range : 6450 ... 48149 =     42.956 ...   320.665 secs\n"
       ]
      },
      {
       "output_type": "stream",
       "stream": "stdout",
       "text": [
        "Ready.\n"
       ]
      },
      {
       "output_type": "stream",
       "stream": "stdout",
       "text": [
        "Created an SSP operator (subspace dimension = 3)\n"
       ]
      },
      {
       "output_type": "stream",
       "stream": "stdout",
       "text": [
        "4 projection items activated\n"
       ]
      },
      {
       "output_type": "stream",
       "stream": "stdout",
       "text": [
        "72 matching events found\n"
       ]
      }
     ],
     "prompt_number": 2
    },
    {
     "cell_type": "code",
     "collapsed": false,
     "input": [
      "from mne.minimum_norm import apply_inverse_epochs\n",
      "\n",
      "# Compute inverse solution and for each epoch. By using \"return_generator=True\"\n",
      "# stcs will be a generator object instead of a list.\n",
      "snr = 1.0  # use lower SNR for single epochs\n",
      "lambda2 = 1.0 / snr ** 2\n",
      "method = \"dSPM\"  # use dSPM method (could also be MNE or sLORETA)\n",
      "stcs = apply_inverse_epochs(epochs, inverse_operator, lambda2, method,\n",
      "                            pick_ori=\"normal\", return_generator=True)\n",
      "\n",
      "# Get labels for FreeSurfer 'aparc' cortical parcellation with 34 labels/hemi\n",
      "labels, label_colors = mne.labels_from_parc('sample', parc='aparc',\n",
      "                                            subjects_dir=subjects_dir)\n",
      "\n",
      "# Average the source estimates within each label using sign-flips to reduce\n",
      "# signal cancellations, also here we return a generator\n",
      "src = inverse_operator['src']\n",
      "label_ts = mne.extract_label_time_course(stcs, labels, src, mode='mean_flip',\n",
      "                                         return_generator=True)"
     ],
     "language": "python",
     "metadata": {},
     "outputs": [
      {
       "output_type": "stream",
       "stream": "stdout",
       "text": [
        "Reading labels from parcellation..\n"
       ]
      },
      {
       "output_type": "stream",
       "stream": "stdout",
       "text": [
        "Triangle file: created by gramfort on Thu Sep 15 19:44:31 2011 nvert = 155407 ntri = 310810\n"
       ]
      },
      {
       "output_type": "stream",
       "stream": "stdout",
       "text": [
        "   read 34 labels from /Users/dengemann/python/mne-python/examples/MNE-sample-data/subjects/sample/label/lh.aparc.annot\n"
       ]
      },
      {
       "output_type": "stream",
       "stream": "stdout",
       "text": [
        "Triangle file: created by gramfort on Thu Sep 15 22:04:14 2011 nvert = 156866 ntri = 313728\n"
       ]
      },
      {
       "output_type": "stream",
       "stream": "stdout",
       "text": [
        "   read 34 labels from /Users/dengemann/python/mne-python/examples/MNE-sample-data/subjects/sample/label/rh.aparc.annot\n"
       ]
      },
      {
       "output_type": "stream",
       "stream": "stdout",
       "text": [
        "[done]\n"
       ]
      }
     ],
     "prompt_number": 3
    },
    {
     "cell_type": "code",
     "collapsed": false,
     "input": [
      "from mne.connectivity import spectral_connectivity\n",
      "\n",
      "# Now we are ready to compute the connectivity in the alpha band. Notice\n",
      "# from the status messages, how mne-python: 1) reads an epoch from the raw\n",
      "# file, 2) applies SSP and baseline correction, 3) computes the inverse to\n",
      "# obtain a source estimate, 4) averages the source estimate to obtain a\n",
      "# time series for each label, 5) includes the label time series in the\n",
      "# connectivity computation, and then moves to the next epoch. This\n",
      "# behaviour is because we are using generators and allows us to\n",
      "# compute connectivity in computationally efficient manner where the amount\n",
      "# of memory (RAM) needed is independent from the number of epochs.\n",
      "fmin = 8.\n",
      "fmax = 13.\n",
      "sfreq = raw.info['sfreq']  # the sampling frequency\n",
      "\n",
      "con, freqs, times, n_epochs, n_tapers = spectral_connectivity(label_ts,\n",
      "        method='wpli2_debiased', mode='multitaper', sfreq=sfreq, fmin=fmin,\n",
      "        fmax=fmax, faverage=True, mt_adaptive=True, n_jobs=2)\n",
      "\n",
      "# con is a 3D array, get the connectivity for the first (and only) freq. band\n",
      "con = con[:, :, 0]"
     ],
     "language": "python",
     "metadata": {},
     "outputs": [
      {
       "output_type": "stream",
       "stream": "stdout",
       "text": [
        "Connectivity computation...\n"
       ]
      },
      {
       "output_type": "stream",
       "stream": "stdout",
       "text": [
        "Preparing the inverse operator for use...\n"
       ]
      },
      {
       "output_type": "stream",
       "stream": "stdout",
       "text": [
        "    Scaled noise and source covariance from nave = 1 to nave = 1\n"
       ]
      },
      {
       "output_type": "stream",
       "stream": "stdout",
       "text": [
        "    Created the regularized inverter\n"
       ]
      },
      {
       "output_type": "stream",
       "stream": "stdout",
       "text": [
        "    Created an SSP operator (subspace dimension = 3)\n"
       ]
      },
      {
       "output_type": "stream",
       "stream": "stdout",
       "text": [
        "    Created the whitener using a full noise covariance matrix (3 small eigenvalues omitted)\n"
       ]
      },
      {
       "output_type": "stream",
       "stream": "stdout",
       "text": [
        "    Computing noise-normalization factors (dSPM)...\n"
       ]
      },
      {
       "output_type": "stream",
       "stream": "stdout",
       "text": [
        "[done]\n"
       ]
      },
      {
       "output_type": "stream",
       "stream": "stdout",
       "text": [
        "Picked 305 channels from the data\n"
       ]
      },
      {
       "output_type": "stream",
       "stream": "stdout",
       "text": [
        "Computing inverse...\n"
       ]
      },
      {
       "output_type": "stream",
       "stream": "stdout",
       "text": [
        "(eigenleads need to be weighted)...\n"
       ]
      },
      {
       "output_type": "stream",
       "stream": "stdout",
       "text": [
        "Reading 712 ... 817  =      4.742 ...     5.441 secs...\n"
       ]
      },
      {
       "output_type": "stream",
       "stream": "stdout",
       "text": [
        "[done]\n"
       ]
      },
      {
       "output_type": "stream",
       "stream": "stdout",
       "text": [
        "Applying baseline correction ... (mode: mean)\n"
       ]
      },
      {
       "output_type": "stream",
       "stream": "stdout",
       "text": [
        "Processing epoch : 1\n"
       ]
      },
      {
       "output_type": "stream",
       "stream": "stdout",
       "text": [
        "Extracting time courses for 68 labels (mode: mean_flip)\n"
       ]
      },
      {
       "output_type": "stream",
       "stream": "stdout",
       "text": [
        "Reading 1132 ... 1237  =      7.539 ...     8.238 secs...\n"
       ]
      },
      {
       "output_type": "stream",
       "stream": "stdout",
       "text": [
        "[done]\n"
       ]
      },
      {
       "output_type": "stream",
       "stream": "stdout",
       "text": [
        "Applying baseline correction ... (mode: mean)\n"
       ]
      },
      {
       "output_type": "stream",
       "stream": "stdout",
       "text": [
        "Processing epoch : 2\n"
       ]
      },
      {
       "output_type": "stream",
       "stream": "stdout",
       "text": [
        "Extracting time courses for 68 labels (mode: mean_flip)\n"
       ]
      },
      {
       "output_type": "stream",
       "stream": "stdout",
       "text": [
        "    computing connectivity for 2278 connections\n"
       ]
      },
      {
       "output_type": "stream",
       "stream": "stdout",
       "text": [
        "    using t=0.000s..0.699s for estimation (106 points)\n"
       ]
      },
      {
       "output_type": "stream",
       "stream": "stdout",
       "text": [
        "    frequencies: 8.5Hz..12.7Hz (4 points)\n"
       ]
      },
      {
       "output_type": "stream",
       "stream": "stdout",
       "text": [
        "    connectivity scores will be averaged for each band\n"
       ]
      },
      {
       "output_type": "stream",
       "stream": "stdout",
       "text": [
        "    using multitaper spectrum estimation with 7 DPSS windows\n"
       ]
      },
      {
       "output_type": "stream",
       "stream": "stdout",
       "text": [
        "    the following metrics will be computed: Debiased WPLI Square\n"
       ]
      },
      {
       "output_type": "stream",
       "stream": "stdout",
       "text": [
        "    computing connectivity for epochs 1..2\n"
       ]
      },
      {
       "output_type": "stream",
       "stream": "stdout",
       "text": [
        "Reading 1545 ... 1650  =     10.289 ...    10.989 secs...\n"
       ]
      },
      {
       "output_type": "stream",
       "stream": "stdout",
       "text": [
        "[done]\n"
       ]
      },
      {
       "output_type": "stream",
       "stream": "stdout",
       "text": [
        "Applying baseline correction ... (mode: mean)\n"
       ]
      },
      {
       "output_type": "stream",
       "stream": "stdout",
       "text": [
        "Processing epoch : 3\n"
       ]
      },
      {
       "output_type": "stream",
       "stream": "stdout",
       "text": [
        "Extracting time courses for 68 labels (mode: mean_flip)\n"
       ]
      },
      {
       "output_type": "stream",
       "stream": "stdout",
       "text": [
        "Reading 1948 ... 2053  =     12.973 ...    13.673 secs...\n"
       ]
      },
      {
       "output_type": "stream",
       "stream": "stdout",
       "text": [
        "[done]\n"
       ]
      },
      {
       "output_type": "stream",
       "stream": "stdout",
       "text": [
        "Applying baseline correction ... (mode: mean)\n"
       ]
      },
      {
       "output_type": "stream",
       "stream": "stdout",
       "text": [
        "Processing epoch : 4\n"
       ]
      },
      {
       "output_type": "stream",
       "stream": "stdout",
       "text": [
        "Extracting time courses for 68 labels (mode: mean_flip)\n"
       ]
      },
      {
       "output_type": "stream",
       "stream": "stdout",
       "text": [
        "    computing connectivity for epochs 3..4\n"
       ]
      },
      {
       "output_type": "stream",
       "stream": "stderr",
       "text": [
        "[Parallel(n_jobs=2)]: Done   1 out of   2 | elapsed:    0.1s remaining:    0.1s\n",
        "[Parallel(n_jobs=2)]: Done   2 out of   2 | elapsed:    0.1s finished\n"
       ]
      },
      {
       "output_type": "stream",
       "stream": "stdout",
       "text": [
        "Reading 2377 ... 2482  =     15.830 ...    16.530 secs...\n"
       ]
      },
      {
       "output_type": "stream",
       "stream": "stdout",
       "text": [
        "[done]\n"
       ]
      },
      {
       "output_type": "stream",
       "stream": "stdout",
       "text": [
        "Applying baseline correction ... (mode: mean)\n"
       ]
      },
      {
       "output_type": "stream",
       "stream": "stdout",
       "text": [
        "Processing epoch : 5\n"
       ]
      },
      {
       "output_type": "stream",
       "stream": "stdout",
       "text": [
        "Extracting time courses for 68 labels (mode: mean_flip)\n"
       ]
      },
      {
       "output_type": "stream",
       "stream": "stdout",
       "text": [
        "Reading 2771 ... 2876  =     18.454 ...    19.154 secs...\n"
       ]
      },
      {
       "output_type": "stream",
       "stream": "stdout",
       "text": [
        "[done]\n"
       ]
      },
      {
       "output_type": "stream",
       "stream": "stdout",
       "text": [
        "Applying baseline correction ... (mode: mean)\n"
       ]
      },
      {
       "output_type": "stream",
       "stream": "stdout",
       "text": [
        "Processing epoch : 6\n"
       ]
      },
      {
       "output_type": "stream",
       "stream": "stdout",
       "text": [
        "Extracting time courses for 68 labels (mode: mean_flip)\n"
       ]
      },
      {
       "output_type": "stream",
       "stream": "stdout",
       "text": [
        "    computing connectivity for epochs 5..6\n"
       ]
      },
      {
       "output_type": "stream",
       "stream": "stderr",
       "text": [
        "[Parallel(n_jobs=2)]: Done   1 out of   2 | elapsed:    0.1s remaining:    0.1s\n",
        "[Parallel(n_jobs=2)]: Done   2 out of   2 | elapsed:    0.1s finished\n"
       ]
      },
      {
       "output_type": "stream",
       "stream": "stdout",
       "text": [
        "Reading 3197 ... 3302  =     21.292 ...    21.991 secs...\n"
       ]
      },
      {
       "output_type": "stream",
       "stream": "stdout",
       "text": [
        "[done]\n"
       ]
      },
      {
       "output_type": "stream",
       "stream": "stdout",
       "text": [
        "Applying baseline correction ... (mode: mean)\n"
       ]
      },
      {
       "output_type": "stream",
       "stream": "stdout",
       "text": [
        "Processing epoch : 7\n"
       ]
      },
      {
       "output_type": "stream",
       "stream": "stdout",
       "text": [
        "Extracting time courses for 68 labels (mode: mean_flip)\n"
       ]
      },
      {
       "output_type": "stream",
       "stream": "stdout",
       "text": [
        "Reading 3621 ... 3726  =     24.115 ...    24.815 secs...\n"
       ]
      },
      {
       "output_type": "stream",
       "stream": "stdout",
       "text": [
        "[done]\n"
       ]
      },
      {
       "output_type": "stream",
       "stream": "stdout",
       "text": [
        "Applying baseline correction ... (mode: mean)\n"
       ]
      },
      {
       "output_type": "stream",
       "stream": "stdout",
       "text": [
        "Processing epoch : 8\n"
       ]
      },
      {
       "output_type": "stream",
       "stream": "stdout",
       "text": [
        "Extracting time courses for 68 labels (mode: mean_flip)\n"
       ]
      },
      {
       "output_type": "stream",
       "stream": "stdout",
       "text": [
        "    computing connectivity for epochs 7..8\n"
       ]
      },
      {
       "output_type": "stream",
       "stream": "stderr",
       "text": [
        "[Parallel(n_jobs=2)]: Done   1 out of   2 | elapsed:    0.1s remaining:    0.1s\n",
        "[Parallel(n_jobs=2)]: Done   2 out of   2 | elapsed:    0.1s finished\n"
       ]
      },
      {
       "output_type": "stream",
       "stream": "stdout",
       "text": [
        "Reading 4051 ... 4156  =     26.979 ...    27.678 secs...\n"
       ]
      },
      {
       "output_type": "stream",
       "stream": "stdout",
       "text": [
        "[done]\n"
       ]
      },
      {
       "output_type": "stream",
       "stream": "stdout",
       "text": [
        "Applying baseline correction ... (mode: mean)\n"
       ]
      },
      {
       "output_type": "stream",
       "stream": "stdout",
       "text": [
        "Processing epoch : 9\n"
       ]
      },
      {
       "output_type": "stream",
       "stream": "stdout",
       "text": [
        "Extracting time courses for 68 labels (mode: mean_flip)\n"
       ]
      },
      {
       "output_type": "stream",
       "stream": "stdout",
       "text": [
        "Reading 4465 ... 4570  =     29.736 ...    30.435 secs...\n"
       ]
      },
      {
       "output_type": "stream",
       "stream": "stdout",
       "text": [
        "[done]\n"
       ]
      },
      {
       "output_type": "stream",
       "stream": "stdout",
       "text": [
        "Applying baseline correction ... (mode: mean)\n"
       ]
      },
      {
       "output_type": "stream",
       "stream": "stdout",
       "text": [
        "Processing epoch : 10\n"
       ]
      },
      {
       "output_type": "stream",
       "stream": "stdout",
       "text": [
        "Extracting time courses for 68 labels (mode: mean_flip)\n"
       ]
      },
      {
       "output_type": "stream",
       "stream": "stdout",
       "text": [
        "    computing connectivity for epochs 9..10\n"
       ]
      },
      {
       "output_type": "stream",
       "stream": "stderr",
       "text": [
        "[Parallel(n_jobs=2)]: Done   1 out of   2 | elapsed:    0.1s remaining:    0.1s\n",
        "[Parallel(n_jobs=2)]: Done   2 out of   2 | elapsed:    0.1s finished\n"
       ]
      },
      {
       "output_type": "stream",
       "stream": "stdout",
       "text": [
        "Reading 4891 ... 4996  =     32.573 ...    33.273 secs...\n"
       ]
      },
      {
       "output_type": "stream",
       "stream": "stdout",
       "text": [
        "[done]\n"
       ]
      },
      {
       "output_type": "stream",
       "stream": "stdout",
       "text": [
        "Applying baseline correction ... (mode: mean)\n"
       ]
      },
      {
       "output_type": "stream",
       "stream": "stdout",
       "text": [
        "    Rejecting  epoch based on EOG : ['EOG 061']\n"
       ]
      },
      {
       "output_type": "stream",
       "stream": "stdout",
       "text": [
        "Reading 5293 ... 5398  =     35.251 ...    35.950 secs...\n"
       ]
      },
      {
       "output_type": "stream",
       "stream": "stdout",
       "text": [
        "[done]\n"
       ]
      },
      {
       "output_type": "stream",
       "stream": "stdout",
       "text": [
        "Applying baseline correction ... (mode: mean)\n"
       ]
      },
      {
       "output_type": "stream",
       "stream": "stdout",
       "text": [
        "Processing epoch : 11\n"
       ]
      },
      {
       "output_type": "stream",
       "stream": "stdout",
       "text": [
        "Extracting time courses for 68 labels (mode: mean_flip)\n"
       ]
      },
      {
       "output_type": "stream",
       "stream": "stdout",
       "text": [
        "Reading 5700 ... 5805  =     37.961 ...    38.660 secs...\n"
       ]
      },
      {
       "output_type": "stream",
       "stream": "stdout",
       "text": [
        "[done]\n"
       ]
      },
      {
       "output_type": "stream",
       "stream": "stdout",
       "text": [
        "Applying baseline correction ... (mode: mean)\n"
       ]
      },
      {
       "output_type": "stream",
       "stream": "stdout",
       "text": [
        "Processing epoch : 12\n"
       ]
      },
      {
       "output_type": "stream",
       "stream": "stdout",
       "text": [
        "Extracting time courses for 68 labels (mode: mean_flip)\n"
       ]
      },
      {
       "output_type": "stream",
       "stream": "stdout",
       "text": [
        "    computing connectivity for epochs 11..12\n"
       ]
      },
      {
       "output_type": "stream",
       "stream": "stderr",
       "text": [
        "[Parallel(n_jobs=2)]: Done   1 out of   2 | elapsed:    0.1s remaining:    0.1s\n",
        "[Parallel(n_jobs=2)]: Done   2 out of   2 | elapsed:    0.1s finished\n"
       ]
      },
      {
       "output_type": "stream",
       "stream": "stdout",
       "text": [
        "Reading 6087 ... 6192  =     40.538 ...    41.238 secs...\n"
       ]
      },
      {
       "output_type": "stream",
       "stream": "stdout",
       "text": [
        "[done]\n"
       ]
      },
      {
       "output_type": "stream",
       "stream": "stdout",
       "text": [
        "Applying baseline correction ... (mode: mean)\n"
       ]
      },
      {
       "output_type": "stream",
       "stream": "stdout",
       "text": [
        "Processing epoch : 13\n"
       ]
      },
      {
       "output_type": "stream",
       "stream": "stdout",
       "text": [
        "Extracting time courses for 68 labels (mode: mean_flip)\n"
       ]
      },
      {
       "output_type": "stream",
       "stream": "stdout",
       "text": [
        "Reading 6490 ... 6595  =     43.222 ...    43.922 secs...\n"
       ]
      },
      {
       "output_type": "stream",
       "stream": "stdout",
       "text": [
        "[done]\n"
       ]
      },
      {
       "output_type": "stream",
       "stream": "stdout",
       "text": [
        "Applying baseline correction ... (mode: mean)\n"
       ]
      },
      {
       "output_type": "stream",
       "stream": "stdout",
       "text": [
        "    Rejecting  epoch based on EOG : ['EOG 061']\n"
       ]
      },
      {
       "output_type": "stream",
       "stream": "stdout",
       "text": [
        "Reading 6893 ... 6998  =     45.906 ...    46.606 secs...\n"
       ]
      },
      {
       "output_type": "stream",
       "stream": "stdout",
       "text": [
        "[done]\n"
       ]
      },
      {
       "output_type": "stream",
       "stream": "stdout",
       "text": [
        "Applying baseline correction ... (mode: mean)\n"
       ]
      },
      {
       "output_type": "stream",
       "stream": "stdout",
       "text": [
        "    Rejecting  epoch based on EOG : ['EOG 061']\n"
       ]
      },
      {
       "output_type": "stream",
       "stream": "stdout",
       "text": [
        "Reading 7295 ... 7400  =     48.584 ...    49.283 secs...\n"
       ]
      },
      {
       "output_type": "stream",
       "stream": "stdout",
       "text": [
        "[done]\n"
       ]
      },
      {
       "output_type": "stream",
       "stream": "stdout",
       "text": [
        "Applying baseline correction ... (mode: mean)\n"
       ]
      },
      {
       "output_type": "stream",
       "stream": "stdout",
       "text": [
        "Processing epoch : 14\n"
       ]
      },
      {
       "output_type": "stream",
       "stream": "stdout",
       "text": [
        "Extracting time courses for 68 labels (mode: mean_flip)\n"
       ]
      },
      {
       "output_type": "stream",
       "stream": "stdout",
       "text": [
        "    computing connectivity for epochs 13..14\n"
       ]
      },
      {
       "output_type": "stream",
       "stream": "stderr",
       "text": [
        "[Parallel(n_jobs=2)]: Done   1 out of   2 | elapsed:    0.1s remaining:    0.1s\n",
        "[Parallel(n_jobs=2)]: Done   2 out of   2 | elapsed:    0.1s finished\n"
       ]
      },
      {
       "output_type": "stream",
       "stream": "stdout",
       "text": [
        "Reading 7699 ... 7804  =     51.274 ...    51.973 secs...\n"
       ]
      },
      {
       "output_type": "stream",
       "stream": "stdout",
       "text": [
        "[done]\n"
       ]
      },
      {
       "output_type": "stream",
       "stream": "stdout",
       "text": [
        "Applying baseline correction ... (mode: mean)\n"
       ]
      },
      {
       "output_type": "stream",
       "stream": "stdout",
       "text": [
        "Processing epoch : 15\n"
       ]
      },
      {
       "output_type": "stream",
       "stream": "stdout",
       "text": [
        "Extracting time courses for 68 labels (mode: mean_flip)\n"
       ]
      },
      {
       "output_type": "stream",
       "stream": "stdout",
       "text": [
        "Reading 8132 ... 8237  =     54.158 ...    54.857 secs...\n"
       ]
      },
      {
       "output_type": "stream",
       "stream": "stdout",
       "text": [
        "[done]\n"
       ]
      },
      {
       "output_type": "stream",
       "stream": "stdout",
       "text": [
        "Applying baseline correction ... (mode: mean)\n"
       ]
      },
      {
       "output_type": "stream",
       "stream": "stdout",
       "text": [
        "Processing epoch : 16\n"
       ]
      },
      {
       "output_type": "stream",
       "stream": "stdout",
       "text": [
        "Extracting time courses for 68 labels (mode: mean_flip)\n"
       ]
      },
      {
       "output_type": "stream",
       "stream": "stdout",
       "text": [
        "    computing connectivity for epochs 15..16\n"
       ]
      },
      {
       "output_type": "stream",
       "stream": "stderr",
       "text": [
        "[Parallel(n_jobs=2)]: Done   1 out of   2 | elapsed:    0.1s remaining:    0.1s\n",
        "[Parallel(n_jobs=2)]: Done   2 out of   2 | elapsed:    0.1s finished\n"
       ]
      },
      {
       "output_type": "stream",
       "stream": "stdout",
       "text": [
        "Reading 8552 ... 8657  =     56.955 ...    57.654 secs...\n"
       ]
      },
      {
       "output_type": "stream",
       "stream": "stdout",
       "text": [
        "[done]\n"
       ]
      },
      {
       "output_type": "stream",
       "stream": "stdout",
       "text": [
        "Applying baseline correction ... (mode: mean)\n"
       ]
      },
      {
       "output_type": "stream",
       "stream": "stdout",
       "text": [
        "Processing epoch : 17\n"
       ]
      },
      {
       "output_type": "stream",
       "stream": "stdout",
       "text": [
        "Extracting time courses for 68 labels (mode: mean_flip)\n"
       ]
      },
      {
       "output_type": "stream",
       "stream": "stdout",
       "text": [
        "Reading 8987 ... 9092  =     59.852 ...    60.551 secs...\n"
       ]
      },
      {
       "output_type": "stream",
       "stream": "stdout",
       "text": [
        "[done]\n"
       ]
      },
      {
       "output_type": "stream",
       "stream": "stdout",
       "text": [
        "Applying baseline correction ... (mode: mean)\n"
       ]
      },
      {
       "output_type": "stream",
       "stream": "stdout",
       "text": [
        "    Rejecting  epoch based on EOG : ['EOG 061']\n"
       ]
      },
      {
       "output_type": "stream",
       "stream": "stdout",
       "text": [
        "Reading 9403 ... 9508  =     62.622 ...    63.322 secs...\n"
       ]
      },
      {
       "output_type": "stream",
       "stream": "stdout",
       "text": [
        "[done]\n"
       ]
      },
      {
       "output_type": "stream",
       "stream": "stdout",
       "text": [
        "Applying baseline correction ... (mode: mean)\n"
       ]
      },
      {
       "output_type": "stream",
       "stream": "stdout",
       "text": [
        "Processing epoch : 18\n"
       ]
      },
      {
       "output_type": "stream",
       "stream": "stdout",
       "text": [
        "Extracting time courses for 68 labels (mode: mean_flip)\n"
       ]
      },
      {
       "output_type": "stream",
       "stream": "stdout",
       "text": [
        "    computing connectivity for epochs 17..18\n"
       ]
      },
      {
       "output_type": "stream",
       "stream": "stderr",
       "text": [
        "[Parallel(n_jobs=2)]: Done   1 out of   2 | elapsed:    0.1s remaining:    0.1s\n",
        "[Parallel(n_jobs=2)]: Done   2 out of   2 | elapsed:    0.1s finished\n"
       ]
      },
      {
       "output_type": "stream",
       "stream": "stdout",
       "text": [
        "Reading 9815 ... 9920  =     65.366 ...    66.066 secs...\n"
       ]
      },
      {
       "output_type": "stream",
       "stream": "stdout",
       "text": [
        "[done]\n"
       ]
      },
      {
       "output_type": "stream",
       "stream": "stdout",
       "text": [
        "Applying baseline correction ... (mode: mean)\n"
       ]
      },
      {
       "output_type": "stream",
       "stream": "stdout",
       "text": [
        "Processing epoch : 19\n"
       ]
      },
      {
       "output_type": "stream",
       "stream": "stdout",
       "text": [
        "Extracting time courses for 68 labels (mode: mean_flip)\n"
       ]
      },
      {
       "output_type": "stream",
       "stream": "stdout",
       "text": [
        "Reading 10261 ... 10366  =     68.337 ...    69.036 secs...\n"
       ]
      },
      {
       "output_type": "stream",
       "stream": "stdout",
       "text": [
        "[done]\n"
       ]
      },
      {
       "output_type": "stream",
       "stream": "stdout",
       "text": [
        "Applying baseline correction ... (mode: mean)\n"
       ]
      },
      {
       "output_type": "stream",
       "stream": "stdout",
       "text": [
        "Processing epoch : 20\n"
       ]
      },
      {
       "output_type": "stream",
       "stream": "stdout",
       "text": [
        "Extracting time courses for 68 labels (mode: mean_flip)\n"
       ]
      },
      {
       "output_type": "stream",
       "stream": "stdout",
       "text": [
        "    computing connectivity for epochs 19..20\n"
       ]
      },
      {
       "output_type": "stream",
       "stream": "stderr",
       "text": [
        "[Parallel(n_jobs=2)]: Done   1 out of   2 | elapsed:    0.1s remaining:    0.1s\n",
        "[Parallel(n_jobs=2)]: Done   2 out of   2 | elapsed:    0.1s finished\n"
       ]
      },
      {
       "output_type": "stream",
       "stream": "stdout",
       "text": [
        "Reading 10686 ... 10791  =     71.167 ...    71.866 secs...\n"
       ]
      },
      {
       "output_type": "stream",
       "stream": "stdout",
       "text": [
        "[done]\n"
       ]
      },
      {
       "output_type": "stream",
       "stream": "stdout",
       "text": [
        "Applying baseline correction ... (mode: mean)\n"
       ]
      },
      {
       "output_type": "stream",
       "stream": "stdout",
       "text": [
        "    Rejecting  epoch based on EOG : ['EOG 061']\n"
       ]
      },
      {
       "output_type": "stream",
       "stream": "stdout",
       "text": [
        "Reading 11084 ... 11189  =     73.818 ...    74.517 secs...\n"
       ]
      },
      {
       "output_type": "stream",
       "stream": "stdout",
       "text": [
        "[done]\n"
       ]
      },
      {
       "output_type": "stream",
       "stream": "stdout",
       "text": [
        "Applying baseline correction ... (mode: mean)\n"
       ]
      },
      {
       "output_type": "stream",
       "stream": "stdout",
       "text": [
        "Processing epoch : 21\n"
       ]
      },
      {
       "output_type": "stream",
       "stream": "stdout",
       "text": [
        "Extracting time courses for 68 labels (mode: mean_flip)\n"
       ]
      },
      {
       "output_type": "stream",
       "stream": "stdout",
       "text": [
        "Reading 11517 ... 11622  =     76.701 ...    77.401 secs...\n"
       ]
      },
      {
       "output_type": "stream",
       "stream": "stdout",
       "text": [
        "[done]\n"
       ]
      },
      {
       "output_type": "stream",
       "stream": "stdout",
       "text": [
        "Applying baseline correction ... (mode: mean)\n"
       ]
      },
      {
       "output_type": "stream",
       "stream": "stdout",
       "text": [
        "Processing epoch : 22\n"
       ]
      },
      {
       "output_type": "stream",
       "stream": "stdout",
       "text": [
        "Extracting time courses for 68 labels (mode: mean_flip)\n"
       ]
      },
      {
       "output_type": "stream",
       "stream": "stdout",
       "text": [
        "    computing connectivity for epochs 21..22\n"
       ]
      },
      {
       "output_type": "stream",
       "stream": "stderr",
       "text": [
        "[Parallel(n_jobs=2)]: Done   1 out of   2 | elapsed:    0.1s remaining:    0.1s\n",
        "[Parallel(n_jobs=2)]: Done   2 out of   2 | elapsed:    0.1s finished\n"
       ]
      },
      {
       "output_type": "stream",
       "stream": "stdout",
       "text": [
        "Reading 11949 ... 12054  =     79.578 ...    80.278 secs...\n"
       ]
      },
      {
       "output_type": "stream",
       "stream": "stdout",
       "text": [
        "[done]\n"
       ]
      },
      {
       "output_type": "stream",
       "stream": "stdout",
       "text": [
        "Applying baseline correction ... (mode: mean)\n"
       ]
      },
      {
       "output_type": "stream",
       "stream": "stdout",
       "text": [
        "Processing epoch : 23\n"
       ]
      },
      {
       "output_type": "stream",
       "stream": "stdout",
       "text": [
        "Extracting time courses for 68 labels (mode: mean_flip)\n"
       ]
      },
      {
       "output_type": "stream",
       "stream": "stdout",
       "text": [
        "Reading 12743 ... 12848  =     84.866 ...    85.566 secs...\n"
       ]
      },
      {
       "output_type": "stream",
       "stream": "stdout",
       "text": [
        "[done]\n"
       ]
      },
      {
       "output_type": "stream",
       "stream": "stdout",
       "text": [
        "Applying baseline correction ... (mode: mean)\n"
       ]
      },
      {
       "output_type": "stream",
       "stream": "stdout",
       "text": [
        "    Rejecting  epoch based on MAG : ['MEG 1711']\n"
       ]
      },
      {
       "output_type": "stream",
       "stream": "stdout",
       "text": [
        "Reading 13154 ... 13259  =     87.604 ...    88.303 secs...\n"
       ]
      },
      {
       "output_type": "stream",
       "stream": "stdout",
       "text": [
        "[done]\n"
       ]
      },
      {
       "output_type": "stream",
       "stream": "stdout",
       "text": [
        "Applying baseline correction ... (mode: mean)\n"
       ]
      },
      {
       "output_type": "stream",
       "stream": "stdout",
       "text": [
        "Processing epoch : 24\n"
       ]
      },
      {
       "output_type": "stream",
       "stream": "stdout",
       "text": [
        "Extracting time courses for 68 labels (mode: mean_flip)\n"
       ]
      },
      {
       "output_type": "stream",
       "stream": "stdout",
       "text": [
        "    computing connectivity for epochs 23..24\n"
       ]
      },
      {
       "output_type": "stream",
       "stream": "stderr",
       "text": [
        "[Parallel(n_jobs=2)]: Done   1 out of   2 | elapsed:    0.1s remaining:    0.1s\n",
        "[Parallel(n_jobs=2)]: Done   2 out of   2 | elapsed:    0.1s finished\n"
       ]
      },
      {
       "output_type": "stream",
       "stream": "stdout",
       "text": [
        "Reading 13572 ... 13677  =     90.387 ...    91.087 secs...\n"
       ]
      },
      {
       "output_type": "stream",
       "stream": "stdout",
       "text": [
        "[done]\n"
       ]
      },
      {
       "output_type": "stream",
       "stream": "stdout",
       "text": [
        "Applying baseline correction ... (mode: mean)\n"
       ]
      },
      {
       "output_type": "stream",
       "stream": "stdout",
       "text": [
        "Processing epoch : 25\n"
       ]
      },
      {
       "output_type": "stream",
       "stream": "stdout",
       "text": [
        "Extracting time courses for 68 labels (mode: mean_flip)\n"
       ]
      },
      {
       "output_type": "stream",
       "stream": "stdout",
       "text": [
        "Reading 13997 ... 14102  =     93.218 ...    93.917 secs...\n"
       ]
      },
      {
       "output_type": "stream",
       "stream": "stdout",
       "text": [
        "[done]\n"
       ]
      },
      {
       "output_type": "stream",
       "stream": "stdout",
       "text": [
        "Applying baseline correction ... (mode: mean)\n"
       ]
      },
      {
       "output_type": "stream",
       "stream": "stdout",
       "text": [
        "Processing epoch : 26\n"
       ]
      },
      {
       "output_type": "stream",
       "stream": "stdout",
       "text": [
        "Extracting time courses for 68 labels (mode: mean_flip)\n"
       ]
      },
      {
       "output_type": "stream",
       "stream": "stdout",
       "text": [
        "    computing connectivity for epochs 25..26\n"
       ]
      },
      {
       "output_type": "stream",
       "stream": "stderr",
       "text": [
        "[Parallel(n_jobs=2)]: Done   1 out of   2 | elapsed:    0.1s remaining:    0.1s\n",
        "[Parallel(n_jobs=2)]: Done   2 out of   2 | elapsed:    0.1s finished\n"
       ]
      },
      {
       "output_type": "stream",
       "stream": "stdout",
       "text": [
        "Reading 14412 ... 14517  =     95.982 ...    96.681 secs...\n"
       ]
      },
      {
       "output_type": "stream",
       "stream": "stdout",
       "text": [
        "[done]\n"
       ]
      },
      {
       "output_type": "stream",
       "stream": "stdout",
       "text": [
        "Applying baseline correction ... (mode: mean)\n"
       ]
      },
      {
       "output_type": "stream",
       "stream": "stdout",
       "text": [
        "Processing epoch : 27\n"
       ]
      },
      {
       "output_type": "stream",
       "stream": "stdout",
       "text": [
        "Extracting time courses for 68 labels (mode: mean_flip)\n"
       ]
      },
      {
       "output_type": "stream",
       "stream": "stdout",
       "text": [
        "Reading 14844 ... 14949  =     98.859 ...    99.558 secs...\n"
       ]
      },
      {
       "output_type": "stream",
       "stream": "stdout",
       "text": [
        "[done]\n"
       ]
      },
      {
       "output_type": "stream",
       "stream": "stdout",
       "text": [
        "Applying baseline correction ... (mode: mean)\n"
       ]
      },
      {
       "output_type": "stream",
       "stream": "stdout",
       "text": [
        "Processing epoch : 28\n"
       ]
      },
      {
       "output_type": "stream",
       "stream": "stdout",
       "text": [
        "Extracting time courses for 68 labels (mode: mean_flip)\n"
       ]
      },
      {
       "output_type": "stream",
       "stream": "stdout",
       "text": [
        "    computing connectivity for epochs 27..28\n"
       ]
      },
      {
       "output_type": "stream",
       "stream": "stderr",
       "text": [
        "[Parallel(n_jobs=2)]: Done   1 out of   2 | elapsed:    0.1s remaining:    0.1s\n",
        "[Parallel(n_jobs=2)]: Done   2 out of   2 | elapsed:    0.1s finished\n"
       ]
      },
      {
       "output_type": "stream",
       "stream": "stdout",
       "text": [
        "Reading 15262 ... 15367  =    101.642 ...   102.342 secs...\n"
       ]
      },
      {
       "output_type": "stream",
       "stream": "stdout",
       "text": [
        "[done]\n"
       ]
      },
      {
       "output_type": "stream",
       "stream": "stdout",
       "text": [
        "Applying baseline correction ... (mode: mean)\n"
       ]
      },
      {
       "output_type": "stream",
       "stream": "stdout",
       "text": [
        "    Rejecting  epoch based on EOG : ['EOG 061']\n"
       ]
      },
      {
       "output_type": "stream",
       "stream": "stdout",
       "text": [
        "Reading 15668 ... 15773  =    104.346 ...   105.046 secs...\n"
       ]
      },
      {
       "output_type": "stream",
       "stream": "stdout",
       "text": [
        "[done]\n"
       ]
      },
      {
       "output_type": "stream",
       "stream": "stdout",
       "text": [
        "Applying baseline correction ... (mode: mean)\n"
       ]
      },
      {
       "output_type": "stream",
       "stream": "stdout",
       "text": [
        "Processing epoch : 29\n"
       ]
      },
      {
       "output_type": "stream",
       "stream": "stdout",
       "text": [
        "Extracting time courses for 68 labels (mode: mean_flip)\n"
       ]
      },
      {
       "output_type": "stream",
       "stream": "stdout",
       "text": [
        "Reading 16124 ... 16229  =    107.383 ...   108.083 secs...\n"
       ]
      },
      {
       "output_type": "stream",
       "stream": "stdout",
       "text": [
        "[done]\n"
       ]
      },
      {
       "output_type": "stream",
       "stream": "stdout",
       "text": [
        "Applying baseline correction ... (mode: mean)\n"
       ]
      },
      {
       "output_type": "stream",
       "stream": "stdout",
       "text": [
        "Processing epoch : 30\n"
       ]
      },
      {
       "output_type": "stream",
       "stream": "stdout",
       "text": [
        "Extracting time courses for 68 labels (mode: mean_flip)\n"
       ]
      },
      {
       "output_type": "stream",
       "stream": "stdout",
       "text": [
        "    computing connectivity for epochs 29..30\n"
       ]
      },
      {
       "output_type": "stream",
       "stream": "stderr",
       "text": [
        "[Parallel(n_jobs=2)]: Done   1 out of   2 | elapsed:    0.1s remaining:    0.1s\n",
        "[Parallel(n_jobs=2)]: Done   2 out of   2 | elapsed:    0.1s finished\n"
       ]
      },
      {
       "output_type": "stream",
       "stream": "stdout",
       "text": [
        "Reading 16529 ... 16634  =    110.081 ...   110.780 secs...\n"
       ]
      },
      {
       "output_type": "stream",
       "stream": "stdout",
       "text": [
        "[done]\n"
       ]
      },
      {
       "output_type": "stream",
       "stream": "stdout",
       "text": [
        "Applying baseline correction ... (mode: mean)\n"
       ]
      },
      {
       "output_type": "stream",
       "stream": "stdout",
       "text": [
        "Processing epoch : 31\n"
       ]
      },
      {
       "output_type": "stream",
       "stream": "stdout",
       "text": [
        "Extracting time courses for 68 labels (mode: mean_flip)\n"
       ]
      },
      {
       "output_type": "stream",
       "stream": "stdout",
       "text": [
        "Reading 16937 ... 17042  =    112.798 ...   113.497 secs...\n"
       ]
      },
      {
       "output_type": "stream",
       "stream": "stdout",
       "text": [
        "[done]\n"
       ]
      },
      {
       "output_type": "stream",
       "stream": "stdout",
       "text": [
        "Applying baseline correction ... (mode: mean)\n"
       ]
      },
      {
       "output_type": "stream",
       "stream": "stdout",
       "text": [
        "    Rejecting  epoch based on EOG : ['EOG 061']\n"
       ]
      },
      {
       "output_type": "stream",
       "stream": "stdout",
       "text": [
        "Reading 17378 ... 17483  =    115.735 ...   116.434 secs...\n"
       ]
      },
      {
       "output_type": "stream",
       "stream": "stdout",
       "text": [
        "[done]\n"
       ]
      },
      {
       "output_type": "stream",
       "stream": "stdout",
       "text": [
        "Applying baseline correction ... (mode: mean)\n"
       ]
      },
      {
       "output_type": "stream",
       "stream": "stdout",
       "text": [
        "Processing epoch : 32\n"
       ]
      },
      {
       "output_type": "stream",
       "stream": "stdout",
       "text": [
        "Extracting time courses for 68 labels (mode: mean_flip)\n"
       ]
      },
      {
       "output_type": "stream",
       "stream": "stdout",
       "text": [
        "    computing connectivity for epochs 31..32\n"
       ]
      },
      {
       "output_type": "stream",
       "stream": "stderr",
       "text": [
        "[Parallel(n_jobs=2)]: Done   1 out of   2 | elapsed:    0.1s remaining:    0.1s\n",
        "[Parallel(n_jobs=2)]: Done   2 out of   2 | elapsed:    0.1s finished\n"
       ]
      },
      {
       "output_type": "stream",
       "stream": "stdout",
       "text": [
        "Reading 17828 ... 17933  =    118.732 ...   119.431 secs...\n"
       ]
      },
      {
       "output_type": "stream",
       "stream": "stdout",
       "text": [
        "[done]\n"
       ]
      },
      {
       "output_type": "stream",
       "stream": "stdout",
       "text": [
        "Applying baseline correction ... (mode: mean)\n"
       ]
      },
      {
       "output_type": "stream",
       "stream": "stdout",
       "text": [
        "Processing epoch : 33\n"
       ]
      },
      {
       "output_type": "stream",
       "stream": "stdout",
       "text": [
        "Extracting time courses for 68 labels (mode: mean_flip)\n"
       ]
      },
      {
       "output_type": "stream",
       "stream": "stdout",
       "text": [
        "Reading 18245 ... 18350  =    121.509 ...   122.208 secs...\n"
       ]
      },
      {
       "output_type": "stream",
       "stream": "stdout",
       "text": [
        "[done]\n"
       ]
      },
      {
       "output_type": "stream",
       "stream": "stdout",
       "text": [
        "Applying baseline correction ... (mode: mean)\n"
       ]
      },
      {
       "output_type": "stream",
       "stream": "stdout",
       "text": [
        "    Rejecting  epoch based on EOG : ['EOG 061']\n"
       ]
      },
      {
       "output_type": "stream",
       "stream": "stdout",
       "text": [
        "Reading 18675 ... 18780  =    124.373 ...   125.072 secs...\n"
       ]
      },
      {
       "output_type": "stream",
       "stream": "stdout",
       "text": [
        "[done]\n"
       ]
      },
      {
       "output_type": "stream",
       "stream": "stdout",
       "text": [
        "Applying baseline correction ... (mode: mean)\n"
       ]
      },
      {
       "output_type": "stream",
       "stream": "stdout",
       "text": [
        "Processing epoch : 34\n"
       ]
      },
      {
       "output_type": "stream",
       "stream": "stdout",
       "text": [
        "Extracting time courses for 68 labels (mode: mean_flip)\n"
       ]
      },
      {
       "output_type": "stream",
       "stream": "stdout",
       "text": [
        "    computing connectivity for epochs 33..34\n"
       ]
      },
      {
       "output_type": "stream",
       "stream": "stderr",
       "text": [
        "[Parallel(n_jobs=2)]: Done   1 out of   2 | elapsed:    0.1s remaining:    0.1s\n",
        "[Parallel(n_jobs=2)]: Done   2 out of   2 | elapsed:    0.1s finished\n"
       ]
      },
      {
       "output_type": "stream",
       "stream": "stdout",
       "text": [
        "Reading 19092 ... 19197  =    127.150 ...   127.849 secs...\n"
       ]
      },
      {
       "output_type": "stream",
       "stream": "stdout",
       "text": [
        "[done]\n"
       ]
      },
      {
       "output_type": "stream",
       "stream": "stdout",
       "text": [
        "Applying baseline correction ... (mode: mean)\n"
       ]
      },
      {
       "output_type": "stream",
       "stream": "stdout",
       "text": [
        "Processing epoch : 35\n"
       ]
      },
      {
       "output_type": "stream",
       "stream": "stdout",
       "text": [
        "Extracting time courses for 68 labels (mode: mean_flip)\n"
       ]
      },
      {
       "output_type": "stream",
       "stream": "stdout",
       "text": [
        "Reading 19528 ... 19633  =    130.053 ...   130.753 secs...\n"
       ]
      },
      {
       "output_type": "stream",
       "stream": "stdout",
       "text": [
        "[done]\n"
       ]
      },
      {
       "output_type": "stream",
       "stream": "stdout",
       "text": [
        "Applying baseline correction ... (mode: mean)\n"
       ]
      },
      {
       "output_type": "stream",
       "stream": "stdout",
       "text": [
        "    Rejecting  epoch based on EOG : ['EOG 061']\n"
       ]
      },
      {
       "output_type": "stream",
       "stream": "stdout",
       "text": [
        "Reading 19960 ... 20065  =    132.930 ...   133.630 secs...\n"
       ]
      },
      {
       "output_type": "stream",
       "stream": "stdout",
       "text": [
        "[done]\n"
       ]
      },
      {
       "output_type": "stream",
       "stream": "stdout",
       "text": [
        "Applying baseline correction ... (mode: mean)\n"
       ]
      },
      {
       "output_type": "stream",
       "stream": "stdout",
       "text": [
        "    Rejecting  epoch based on EOG : ['EOG 061']\n"
       ]
      },
      {
       "output_type": "stream",
       "stream": "stdout",
       "text": [
        "Reading 20358 ... 20463  =    135.581 ...   136.280 secs...\n"
       ]
      },
      {
       "output_type": "stream",
       "stream": "stdout",
       "text": [
        "[done]\n"
       ]
      },
      {
       "output_type": "stream",
       "stream": "stdout",
       "text": [
        "Applying baseline correction ... (mode: mean)\n"
       ]
      },
      {
       "output_type": "stream",
       "stream": "stdout",
       "text": [
        "Processing epoch : 36\n"
       ]
      },
      {
       "output_type": "stream",
       "stream": "stdout",
       "text": [
        "Extracting time courses for 68 labels (mode: mean_flip)\n"
       ]
      },
      {
       "output_type": "stream",
       "stream": "stdout",
       "text": [
        "    computing connectivity for epochs 35..36\n"
       ]
      },
      {
       "output_type": "stream",
       "stream": "stderr",
       "text": [
        "[Parallel(n_jobs=2)]: Done   1 out of   2 | elapsed:    0.1s remaining:    0.1s\n",
        "[Parallel(n_jobs=2)]: Done   2 out of   2 | elapsed:    0.1s finished\n"
       ]
      },
      {
       "output_type": "stream",
       "stream": "stdout",
       "text": [
        "Reading 21163 ... 21268  =    140.942 ...   141.641 secs...\n"
       ]
      },
      {
       "output_type": "stream",
       "stream": "stdout",
       "text": [
        "[done]\n"
       ]
      },
      {
       "output_type": "stream",
       "stream": "stdout",
       "text": [
        "Applying baseline correction ... (mode: mean)\n"
       ]
      },
      {
       "output_type": "stream",
       "stream": "stdout",
       "text": [
        "    Rejecting  epoch based on EOG : ['EOG 061']\n"
       ]
      },
      {
       "output_type": "stream",
       "stream": "stdout",
       "text": [
        "Reading 21593 ... 21698  =    143.806 ...   144.505 secs...\n"
       ]
      },
      {
       "output_type": "stream",
       "stream": "stdout",
       "text": [
        "[done]\n"
       ]
      },
      {
       "output_type": "stream",
       "stream": "stdout",
       "text": [
        "Applying baseline correction ... (mode: mean)\n"
       ]
      },
      {
       "output_type": "stream",
       "stream": "stdout",
       "text": [
        "    Rejecting  epoch based on EOG : ['EOG 061']\n"
       ]
      },
      {
       "output_type": "stream",
       "stream": "stdout",
       "text": [
        "Reading 22008 ... 22113  =    146.570 ...   147.269 secs...\n"
       ]
      },
      {
       "output_type": "stream",
       "stream": "stdout",
       "text": [
        "[done]\n"
       ]
      },
      {
       "output_type": "stream",
       "stream": "stdout",
       "text": [
        "Applying baseline correction ... (mode: mean)\n"
       ]
      },
      {
       "output_type": "stream",
       "stream": "stdout",
       "text": [
        "Processing epoch : 37\n"
       ]
      },
      {
       "output_type": "stream",
       "stream": "stdout",
       "text": [
        "Extracting time courses for 68 labels (mode: mean_flip)\n"
       ]
      },
      {
       "output_type": "stream",
       "stream": "stdout",
       "text": [
        "Reading 22424 ... 22529  =    149.340 ...   150.040 secs...\n"
       ]
      },
      {
       "output_type": "stream",
       "stream": "stdout",
       "text": [
        "[done]\n"
       ]
      },
      {
       "output_type": "stream",
       "stream": "stdout",
       "text": [
        "Applying baseline correction ... (mode: mean)\n"
       ]
      },
      {
       "output_type": "stream",
       "stream": "stdout",
       "text": [
        "Processing epoch : 38\n"
       ]
      },
      {
       "output_type": "stream",
       "stream": "stdout",
       "text": [
        "Extracting time courses for 68 labels (mode: mean_flip)\n"
       ]
      },
      {
       "output_type": "stream",
       "stream": "stdout",
       "text": [
        "    computing connectivity for epochs 37..38\n"
       ]
      },
      {
       "output_type": "stream",
       "stream": "stderr",
       "text": [
        "[Parallel(n_jobs=2)]: Done   1 out of   2 | elapsed:    0.0s remaining:    0.0s\n",
        "[Parallel(n_jobs=2)]: Done   2 out of   2 | elapsed:    0.0s finished\n"
       ]
      },
      {
       "output_type": "stream",
       "stream": "stdout",
       "text": [
        "Reading 22846 ... 22951  =    152.151 ...   152.850 secs...\n"
       ]
      },
      {
       "output_type": "stream",
       "stream": "stdout",
       "text": [
        "[done]\n"
       ]
      },
      {
       "output_type": "stream",
       "stream": "stdout",
       "text": [
        "Applying baseline correction ... (mode: mean)\n"
       ]
      },
      {
       "output_type": "stream",
       "stream": "stdout",
       "text": [
        "Processing epoch : 39\n"
       ]
      },
      {
       "output_type": "stream",
       "stream": "stdout",
       "text": [
        "Extracting time courses for 68 labels (mode: mean_flip)\n"
       ]
      },
      {
       "output_type": "stream",
       "stream": "stdout",
       "text": [
        "Reading 23239 ... 23344  =    154.768 ...   155.467 secs...\n"
       ]
      },
      {
       "output_type": "stream",
       "stream": "stdout",
       "text": [
        "[done]\n"
       ]
      },
      {
       "output_type": "stream",
       "stream": "stdout",
       "text": [
        "Applying baseline correction ... (mode: mean)\n"
       ]
      },
      {
       "output_type": "stream",
       "stream": "stdout",
       "text": [
        "Processing epoch : 40\n"
       ]
      },
      {
       "output_type": "stream",
       "stream": "stdout",
       "text": [
        "Extracting time courses for 68 labels (mode: mean_flip)\n"
       ]
      },
      {
       "output_type": "stream",
       "stream": "stdout",
       "text": [
        "    computing connectivity for epochs 39..40\n"
       ]
      },
      {
       "output_type": "stream",
       "stream": "stderr",
       "text": [
        "[Parallel(n_jobs=2)]: Done   1 out of   2 | elapsed:    0.0s remaining:    0.0s\n",
        "[Parallel(n_jobs=2)]: Done   2 out of   2 | elapsed:    0.0s finished\n"
       ]
      },
      {
       "output_type": "stream",
       "stream": "stdout",
       "text": [
        "Reading 23654 ... 23759  =    157.532 ...   158.231 secs...\n"
       ]
      },
      {
       "output_type": "stream",
       "stream": "stdout",
       "text": [
        "[done]\n"
       ]
      },
      {
       "output_type": "stream",
       "stream": "stdout",
       "text": [
        "Applying baseline correction ... (mode: mean)\n"
       ]
      },
      {
       "output_type": "stream",
       "stream": "stdout",
       "text": [
        "Processing epoch : 41\n"
       ]
      },
      {
       "output_type": "stream",
       "stream": "stdout",
       "text": [
        "Extracting time courses for 68 labels (mode: mean_flip)\n"
       ]
      },
      {
       "output_type": "stream",
       "stream": "stdout",
       "text": [
        "Reading 24074 ... 24179  =    160.329 ...   161.028 secs...\n"
       ]
      },
      {
       "output_type": "stream",
       "stream": "stdout",
       "text": [
        "[done]\n"
       ]
      },
      {
       "output_type": "stream",
       "stream": "stdout",
       "text": [
        "Applying baseline correction ... (mode: mean)\n"
       ]
      },
      {
       "output_type": "stream",
       "stream": "stdout",
       "text": [
        "Processing epoch : 42\n"
       ]
      },
      {
       "output_type": "stream",
       "stream": "stdout",
       "text": [
        "Extracting time courses for 68 labels (mode: mean_flip)\n"
       ]
      },
      {
       "output_type": "stream",
       "stream": "stdout",
       "text": [
        "    computing connectivity for epochs 41..42\n"
       ]
      },
      {
       "output_type": "stream",
       "stream": "stderr",
       "text": [
        "[Parallel(n_jobs=2)]: Done   1 out of   2 | elapsed:    0.1s remaining:    0.1s\n",
        "[Parallel(n_jobs=2)]: Done   2 out of   2 | elapsed:    0.1s finished\n"
       ]
      },
      {
       "output_type": "stream",
       "stream": "stdout",
       "text": [
        "Reading 24502 ... 24607  =    163.179 ...   163.879 secs...\n"
       ]
      },
      {
       "output_type": "stream",
       "stream": "stdout",
       "text": [
        "[done]\n"
       ]
      },
      {
       "output_type": "stream",
       "stream": "stdout",
       "text": [
        "Applying baseline correction ... (mode: mean)\n"
       ]
      },
      {
       "output_type": "stream",
       "stream": "stdout",
       "text": [
        "Processing epoch : 43\n"
       ]
      },
      {
       "output_type": "stream",
       "stream": "stdout",
       "text": [
        "Extracting time courses for 68 labels (mode: mean_flip)\n"
       ]
      },
      {
       "output_type": "stream",
       "stream": "stdout",
       "text": [
        "Reading 24947 ... 25052  =    166.143 ...   166.842 secs...\n"
       ]
      },
      {
       "output_type": "stream",
       "stream": "stdout",
       "text": [
        "[done]\n"
       ]
      },
      {
       "output_type": "stream",
       "stream": "stdout",
       "text": [
        "Applying baseline correction ... (mode: mean)\n"
       ]
      },
      {
       "output_type": "stream",
       "stream": "stdout",
       "text": [
        "Processing epoch : 44\n"
       ]
      },
      {
       "output_type": "stream",
       "stream": "stdout",
       "text": [
        "Extracting time courses for 68 labels (mode: mean_flip)\n"
       ]
      },
      {
       "output_type": "stream",
       "stream": "stdout",
       "text": [
        "    computing connectivity for epochs 43..44\n"
       ]
      },
      {
       "output_type": "stream",
       "stream": "stderr",
       "text": [
        "[Parallel(n_jobs=2)]: Done   1 out of   2 | elapsed:    0.1s remaining:    0.1s\n",
        "[Parallel(n_jobs=2)]: Done   2 out of   2 | elapsed:    0.1s finished\n"
       ]
      },
      {
       "output_type": "stream",
       "stream": "stdout",
       "text": [
        "Reading 25352 ... 25457  =    168.840 ...   169.540 secs...\n"
       ]
      },
      {
       "output_type": "stream",
       "stream": "stdout",
       "text": [
        "[done]\n"
       ]
      },
      {
       "output_type": "stream",
       "stream": "stdout",
       "text": [
        "Applying baseline correction ... (mode: mean)\n"
       ]
      },
      {
       "output_type": "stream",
       "stream": "stdout",
       "text": [
        "    Rejecting  epoch based on EOG : ['EOG 061']\n"
       ]
      },
      {
       "output_type": "stream",
       "stream": "stdout",
       "text": [
        "Reading 25751 ... 25856  =    171.498 ...   172.197 secs...\n"
       ]
      },
      {
       "output_type": "stream",
       "stream": "stdout",
       "text": [
        "[done]\n"
       ]
      },
      {
       "output_type": "stream",
       "stream": "stdout",
       "text": [
        "Applying baseline correction ... (mode: mean)\n"
       ]
      },
      {
       "output_type": "stream",
       "stream": "stdout",
       "text": [
        "Processing epoch : 45\n"
       ]
      },
      {
       "output_type": "stream",
       "stream": "stdout",
       "text": [
        "Extracting time courses for 68 labels (mode: mean_flip)\n"
       ]
      },
      {
       "output_type": "stream",
       "stream": "stdout",
       "text": [
        "Reading 26143 ... 26248  =    174.108 ...   174.807 secs...\n"
       ]
      },
      {
       "output_type": "stream",
       "stream": "stdout",
       "text": [
        "[done]\n"
       ]
      },
      {
       "output_type": "stream",
       "stream": "stdout",
       "text": [
        "Applying baseline correction ... (mode: mean)\n"
       ]
      },
      {
       "output_type": "stream",
       "stream": "stdout",
       "text": [
        "    Rejecting  epoch based on EOG : ['EOG 061']\n"
       ]
      },
      {
       "output_type": "stream",
       "stream": "stdout",
       "text": [
        "Reading 26540 ... 26645  =    176.752 ...   177.451 secs...\n"
       ]
      },
      {
       "output_type": "stream",
       "stream": "stdout",
       "text": [
        "[done]\n"
       ]
      },
      {
       "output_type": "stream",
       "stream": "stdout",
       "text": [
        "Applying baseline correction ... (mode: mean)\n"
       ]
      },
      {
       "output_type": "stream",
       "stream": "stdout",
       "text": [
        "Processing epoch : 46\n"
       ]
      },
      {
       "output_type": "stream",
       "stream": "stdout",
       "text": [
        "Extracting time courses for 68 labels (mode: mean_flip)\n"
       ]
      },
      {
       "output_type": "stream",
       "stream": "stdout",
       "text": [
        "    computing connectivity for epochs 45..46\n"
       ]
      },
      {
       "output_type": "stream",
       "stream": "stderr",
       "text": [
        "[Parallel(n_jobs=2)]: Done   1 out of   2 | elapsed:    0.1s remaining:    0.1s\n",
        "[Parallel(n_jobs=2)]: Done   2 out of   2 | elapsed:    0.1s finished\n"
       ]
      },
      {
       "output_type": "stream",
       "stream": "stdout",
       "text": [
        "Reading 27403 ... 27508  =    182.500 ...   183.199 secs...\n"
       ]
      },
      {
       "output_type": "stream",
       "stream": "stdout",
       "text": [
        "[done]\n"
       ]
      },
      {
       "output_type": "stream",
       "stream": "stdout",
       "text": [
        "Applying baseline correction ... (mode: mean)\n"
       ]
      },
      {
       "output_type": "stream",
       "stream": "stdout",
       "text": [
        "Processing epoch : 47\n"
       ]
      },
      {
       "output_type": "stream",
       "stream": "stdout",
       "text": [
        "Extracting time courses for 68 labels (mode: mean_flip)\n"
       ]
      },
      {
       "output_type": "stream",
       "stream": "stdout",
       "text": [
        "Reading 27803 ... 27908  =    185.164 ...   185.863 secs...\n"
       ]
      },
      {
       "output_type": "stream",
       "stream": "stdout",
       "text": [
        "[done]\n"
       ]
      },
      {
       "output_type": "stream",
       "stream": "stdout",
       "text": [
        "Applying baseline correction ... (mode: mean)\n"
       ]
      },
      {
       "output_type": "stream",
       "stream": "stdout",
       "text": [
        "Processing epoch : 48\n"
       ]
      },
      {
       "output_type": "stream",
       "stream": "stdout",
       "text": [
        "Extracting time courses for 68 labels (mode: mean_flip)\n"
       ]
      },
      {
       "output_type": "stream",
       "stream": "stdout",
       "text": [
        "    computing connectivity for epochs 47..48\n"
       ]
      },
      {
       "output_type": "stream",
       "stream": "stderr",
       "text": [
        "[Parallel(n_jobs=2)]: Done   1 out of   2 | elapsed:    0.1s remaining:    0.1s\n",
        "[Parallel(n_jobs=2)]: Done   2 out of   2 | elapsed:    0.1s finished\n"
       ]
      },
      {
       "output_type": "stream",
       "stream": "stdout",
       "text": [
        "Reading 28229 ... 28334  =    188.001 ...   188.700 secs...\n"
       ]
      },
      {
       "output_type": "stream",
       "stream": "stdout",
       "text": [
        "[done]\n"
       ]
      },
      {
       "output_type": "stream",
       "stream": "stdout",
       "text": [
        "Applying baseline correction ... (mode: mean)\n"
       ]
      },
      {
       "output_type": "stream",
       "stream": "stdout",
       "text": [
        "    Rejecting  epoch based on EOG : ['EOG 061']\n"
       ]
      },
      {
       "output_type": "stream",
       "stream": "stdout",
       "text": [
        "Reading 28673 ... 28778  =    190.958 ...   191.657 secs...\n"
       ]
      },
      {
       "output_type": "stream",
       "stream": "stdout",
       "text": [
        "[done]\n"
       ]
      },
      {
       "output_type": "stream",
       "stream": "stdout",
       "text": [
        "Applying baseline correction ... (mode: mean)\n"
       ]
      },
      {
       "output_type": "stream",
       "stream": "stdout",
       "text": [
        "    Rejecting  epoch based on EOG : ['EOG 061']\n"
       ]
      },
      {
       "output_type": "stream",
       "stream": "stdout",
       "text": [
        "Reading 29537 ... 29642  =    196.712 ...   197.411 secs...\n"
       ]
      },
      {
       "output_type": "stream",
       "stream": "stdout",
       "text": [
        "[done]\n"
       ]
      },
      {
       "output_type": "stream",
       "stream": "stdout",
       "text": [
        "Applying baseline correction ... (mode: mean)\n"
       ]
      },
      {
       "output_type": "stream",
       "stream": "stdout",
       "text": [
        "Processing epoch : 49\n"
       ]
      },
      {
       "output_type": "stream",
       "stream": "stdout",
       "text": [
        "Extracting time courses for 68 labels (mode: mean_flip)\n"
       ]
      },
      {
       "output_type": "stream",
       "stream": "stdout",
       "text": [
        "Reading 29936 ... 30041  =    199.369 ...   200.068 secs...\n"
       ]
      },
      {
       "output_type": "stream",
       "stream": "stdout",
       "text": [
        "[done]\n"
       ]
      },
      {
       "output_type": "stream",
       "stream": "stdout",
       "text": [
        "Applying baseline correction ... (mode: mean)\n"
       ]
      },
      {
       "output_type": "stream",
       "stream": "stdout",
       "text": [
        "Processing epoch : 50\n"
       ]
      },
      {
       "output_type": "stream",
       "stream": "stdout",
       "text": [
        "Extracting time courses for 68 labels (mode: mean_flip)\n"
       ]
      },
      {
       "output_type": "stream",
       "stream": "stdout",
       "text": [
        "    computing connectivity for epochs 49..50\n"
       ]
      },
      {
       "output_type": "stream",
       "stream": "stderr",
       "text": [
        "[Parallel(n_jobs=2)]: Done   1 out of   2 | elapsed:    0.1s remaining:    0.1s\n",
        "[Parallel(n_jobs=2)]: Done   2 out of   2 | elapsed:    0.1s finished\n"
       ]
      },
      {
       "output_type": "stream",
       "stream": "stdout",
       "text": [
        "Reading 30384 ... 30489  =    202.353 ...   203.052 secs...\n"
       ]
      },
      {
       "output_type": "stream",
       "stream": "stdout",
       "text": [
        "[done]\n"
       ]
      },
      {
       "output_type": "stream",
       "stream": "stdout",
       "text": [
        "Applying baseline correction ... (mode: mean)\n"
       ]
      },
      {
       "output_type": "stream",
       "stream": "stdout",
       "text": [
        "Processing epoch : 51\n"
       ]
      },
      {
       "output_type": "stream",
       "stream": "stdout",
       "text": [
        "Extracting time courses for 68 labels (mode: mean_flip)\n"
       ]
      },
      {
       "output_type": "stream",
       "stream": "stdout",
       "text": [
        "Reading 30810 ... 30915  =    205.190 ...   205.889 secs...\n"
       ]
      },
      {
       "output_type": "stream",
       "stream": "stdout",
       "text": [
        "[done]\n"
       ]
      },
      {
       "output_type": "stream",
       "stream": "stdout",
       "text": [
        "Applying baseline correction ... (mode: mean)\n"
       ]
      },
      {
       "output_type": "stream",
       "stream": "stdout",
       "text": [
        "Processing epoch : 52\n"
       ]
      },
      {
       "output_type": "stream",
       "stream": "stdout",
       "text": [
        "Extracting time courses for 68 labels (mode: mean_flip)\n"
       ]
      },
      {
       "output_type": "stream",
       "stream": "stdout",
       "text": [
        "    computing connectivity for epochs 51..52\n"
       ]
      },
      {
       "output_type": "stream",
       "stream": "stderr",
       "text": [
        "[Parallel(n_jobs=2)]: Done   1 out of   2 | elapsed:    0.0s remaining:    0.0s\n",
        "[Parallel(n_jobs=2)]: Done   2 out of   2 | elapsed:    0.1s finished\n"
       ]
      },
      {
       "output_type": "stream",
       "stream": "stdout",
       "text": [
        "Reading 31238 ... 31343  =    208.040 ...   208.739 secs...\n"
       ]
      },
      {
       "output_type": "stream",
       "stream": "stdout",
       "text": [
        "[done]\n"
       ]
      },
      {
       "output_type": "stream",
       "stream": "stdout",
       "text": [
        "Applying baseline correction ... (mode: mean)\n"
       ]
      },
      {
       "output_type": "stream",
       "stream": "stdout",
       "text": [
        "Processing epoch : 53\n"
       ]
      },
      {
       "output_type": "stream",
       "stream": "stdout",
       "text": [
        "Extracting time courses for 68 labels (mode: mean_flip)\n"
       ]
      },
      {
       "output_type": "stream",
       "stream": "stdout",
       "text": [
        "Reading 31626 ... 31731  =    210.624 ...   211.323 secs...\n"
       ]
      },
      {
       "output_type": "stream",
       "stream": "stdout",
       "text": [
        "[done]\n"
       ]
      },
      {
       "output_type": "stream",
       "stream": "stdout",
       "text": [
        "Applying baseline correction ... (mode: mean)\n"
       ]
      },
      {
       "output_type": "stream",
       "stream": "stdout",
       "text": [
        "Processing epoch : 54\n"
       ]
      },
      {
       "output_type": "stream",
       "stream": "stdout",
       "text": [
        "Extracting time courses for 68 labels (mode: mean_flip)\n"
       ]
      },
      {
       "output_type": "stream",
       "stream": "stdout",
       "text": [
        "    computing connectivity for epochs 53..54\n"
       ]
      },
      {
       "output_type": "stream",
       "stream": "stderr",
       "text": [
        "[Parallel(n_jobs=2)]: Done   1 out of   2 | elapsed:    0.1s remaining:    0.1s\n",
        "[Parallel(n_jobs=2)]: Done   2 out of   2 | elapsed:    0.1s finished\n"
       ]
      },
      {
       "output_type": "stream",
       "stream": "stdout",
       "text": [
        "Reading 32040 ... 32145  =    213.381 ...   214.081 secs...\n"
       ]
      },
      {
       "output_type": "stream",
       "stream": "stdout",
       "text": [
        "[done]\n"
       ]
      },
      {
       "output_type": "stream",
       "stream": "stdout",
       "text": [
        "Applying baseline correction ... (mode: mean)\n"
       ]
      },
      {
       "output_type": "stream",
       "stream": "stdout",
       "text": [
        "Processing epoch : 55\n"
       ]
      },
      {
       "output_type": "stream",
       "stream": "stdout",
       "text": [
        "Extracting time courses for 68 labels (mode: mean_flip)\n"
       ]
      },
      {
       "output_type": "stream",
       "stream": "stdout",
       "text": [
        "[done]\n"
       ]
      },
      {
       "output_type": "stream",
       "stream": "stdout",
       "text": [
        "    computing connectivity for epochs 55..55\n"
       ]
      },
      {
       "output_type": "stream",
       "stream": "stderr",
       "text": [
        "[Parallel(n_jobs=2)]: Done   1 out of   2 | elapsed:    0.1s remaining:    0.1s\n",
        "[Parallel(n_jobs=2)]: Done   2 out of   2 | elapsed:    0.1s finished\n"
       ]
      },
      {
       "output_type": "stream",
       "stream": "stdout",
       "text": [
        "    assembling connectivity matrix\n"
       ]
      },
      {
       "output_type": "stream",
       "stream": "stdout",
       "text": [
        "[Connectivity computation done]\n"
       ]
      },
      {
       "output_type": "stream",
       "stream": "stderr",
       "text": [
        "[Parallel(n_jobs=2)]: Done   1 out of   1 | elapsed:    0.1s remaining:    0.0s\n",
        "[Parallel(n_jobs=2)]: Done   1 out of   1 | elapsed:    0.1s finished\n"
       ]
      }
     ],
     "prompt_number": 4
    },
    {
     "cell_type": "code",
     "collapsed": false,
     "input": [
      "from mne.viz import circular_layout, plot_connectivity_circle\n",
      "\n",
      "# before we visualize connectivity we have to write some Python to reorder the labels\n",
      "# based on their location in the left hemi\n",
      "\n",
      "# Get the y-location of the label\n",
      "label_keys = list()\n",
      "for label in labels:\n",
      "    if not label.name.endswith('lh'):\n",
      "        continue\n",
      "    ypos = np.mean(label.pos[:, 1])\n",
      "    label_keys.append((ypos, label.name))\n",
      "\n",
      "# Reorder the labels based on their location\n",
      "lh_labels = [label for (ypos, label) in sorted(label_keys)]\n",
      "\n",
      "# For the right hemi\n",
      "rh_labels = [label.replace('lh', 'rh') for label in lh_labels]\n",
      "\n",
      "# Save the plot order and create a circular layout\n",
      "node_order = list()\n",
      "node_order.extend(lh_labels[::-1])  # reverse the order via index trick\n",
      "node_order.extend(rh_labels)\n",
      "\n",
      "label_names = [l.name for l in labels]\n",
      "\n",
      "node_angles = circular_layout(label_names, node_order, start_pos=90)\n",
      "\n",
      "# Plot the graph using node colors from the FreeSurfer parcellation. We only\n",
      "# show the 300 strongest connections.\n",
      "\n",
      "plot_connectivity_circle(con, label_names, n_lines=300, node_angles=node_angles,\n",
      "                         node_colors=label_colors,\n",
      "                         title='All-to-All Connectivity left-Auditory '\n",
      "                               'Condition')\n",
      "import matplotlib.pyplot as plt\n",
      "plt.savefig('circle.png', facecolor='black')\n",
      "plt.show()"
     ],
     "language": "python",
     "metadata": {},
     "outputs": [
      {
       "metadata": {},
       "output_type": "display_data",
       "png": "[encoded data removed]",
       "text": [
        "<matplotlib.figure.Figure at 0x112bff890>"
       ]
      }
     ],
     "prompt_number": 14
    },
    {
     "cell_type": "markdown",
     "metadata": {},
     "source": [
      "Compute full spectrum source space connectivity between labels\n",
      "==============================================================\n",
      "\n",
      "The connectivity is computed between 4 labels across the spectrum\n",
      "between 5 and 40 Hz.\n",
      "\n",
      "Authors: Alexandre Gramfort <gramfort@nmr.mgh.harvard.edu>\n",
      "\n",
      "License: BSD (3-clause)"
     ]
    },
    {
     "cell_type": "code",
     "collapsed": false,
     "input": [
      "# Pick MEG channels\n",
      "picks = pick_types(raw.info, meg=True, eeg=False, stim=False, eog=True,\n",
      "                   exclude='bads')\n",
      "\n",
      "# Define epochs for left-auditory condition\n",
      "event_id, tmin, tmax = 1, -0.2, 0.5\n",
      "epochs = mne.Epochs(raw, events, event_id, tmin, tmax, picks=picks,\n",
      "                    baseline=(None, 0), reject=dict(mag=4e-12, grad=4000e-13,\n",
      "                                                    eog=150e-6))"
     ],
     "language": "python",
     "metadata": {},
     "outputs": [
      {
       "output_type": "stream",
       "stream": "stdout",
       "text": [
        "Created an SSP operator (subspace dimension = 3)\n"
       ]
      },
      {
       "output_type": "stream",
       "stream": "stdout",
       "text": [
        "4 projection items activated\n"
       ]
      },
      {
       "output_type": "stream",
       "stream": "stdout",
       "text": [
        "72 matching events found\n"
       ]
      }
     ],
     "prompt_number": 150
    },
    {
     "cell_type": "code",
     "collapsed": false,
     "input": [
      "# Compute inverse solution and for each epoch. By using \"return_generator=True\"\n",
      "# stcs will be a generator object instead of a list.\n",
      "snr = 1.0  # use lower SNR for single epochs\n",
      "lambda2 = 1.0 / snr ** 2\n",
      "method = \"dSPM\"  # use dSPM method (could also be MNE or sLORETA)\n",
      "stcs = apply_inverse_epochs(epochs, inverse_operator, lambda2, method,\n",
      "                            pick_ori=\"normal\", return_generator=True)\n",
      "\n",
      "# Read some labels\n",
      "names = ['Aud-lh', 'Aud-rh', 'Vis-lh', 'Vis-rh']\n",
      "labels = [mne.read_label(data_path + '/MEG/sample/labels/%s.label' % name)\n",
      "          for name in names]\n",
      "\n",
      "# Average the source estimates within each label using sign-flips to reduce\n",
      "# signal cancellations, also here we return a generator\n",
      "src = inverse_operator['src']\n",
      "label_ts = mne.extract_label_time_course(stcs, labels, src, mode='mean_flip',\n",
      "                                         return_generator=True)\n",
      "\n",
      "fmin, fmax = 5., 40.\n",
      "sfreq = raw.info['sfreq']  # the sampling frequency\n",
      "\n",
      "con, freqs, times, n_epochs, n_tapers = spectral_connectivity(label_ts,\n",
      "        method='wpli2_debiased', mode='multitaper', sfreq=sfreq, fmin=fmin,\n",
      "        fmax=fmax, mt_adaptive=True, n_jobs=2)"
     ],
     "language": "python",
     "metadata": {},
     "outputs": [
      {
       "output_type": "stream",
       "stream": "stdout",
       "text": [
        "Connectivity computation...\n"
       ]
      },
      {
       "output_type": "stream",
       "stream": "stdout",
       "text": [
        "Preparing the inverse operator for use...\n"
       ]
      },
      {
       "output_type": "stream",
       "stream": "stdout",
       "text": [
        "    Scaled noise and source covariance from nave = 1 to nave = 1\n"
       ]
      },
      {
       "output_type": "stream",
       "stream": "stdout",
       "text": [
        "    Created the regularized inverter\n"
       ]
      },
      {
       "output_type": "stream",
       "stream": "stdout",
       "text": [
        "    Created an SSP operator (subspace dimension = 3)\n"
       ]
      },
      {
       "output_type": "stream",
       "stream": "stdout",
       "text": [
        "    Created the whitener using a full noise covariance matrix (3 small eigenvalues omitted)\n"
       ]
      },
      {
       "output_type": "stream",
       "stream": "stdout",
       "text": [
        "    Computing noise-normalization factors (dSPM)...\n"
       ]
      },
      {
       "output_type": "stream",
       "stream": "stdout",
       "text": [
        "[done]\n"
       ]
      },
      {
       "output_type": "stream",
       "stream": "stdout",
       "text": [
        "Picked 305 channels from the data\n"
       ]
      },
      {
       "output_type": "stream",
       "stream": "stdout",
       "text": [
        "Computing inverse...\n"
       ]
      },
      {
       "output_type": "stream",
       "stream": "stdout",
       "text": [
        "(eigenleads need to be weighted)...\n"
       ]
      },
      {
       "output_type": "stream",
       "stream": "stdout",
       "text": [
        "Reading 712 ... 817  =      4.742 ...     5.441 secs...\n"
       ]
      },
      {
       "output_type": "stream",
       "stream": "stdout",
       "text": [
        "[done]\n"
       ]
      },
      {
       "output_type": "stream",
       "stream": "stdout",
       "text": [
        "Applying baseline correction ... (mode: mean)\n"
       ]
      },
      {
       "output_type": "stream",
       "stream": "stdout",
       "text": [
        "Processing epoch : 1\n"
       ]
      },
      {
       "output_type": "stream",
       "stream": "stdout",
       "text": [
        "Extracting time courses for 4 labels (mode: mean_flip)\n"
       ]
      },
      {
       "output_type": "stream",
       "stream": "stdout",
       "text": [
        "Reading 1132 ... 1237  =      7.539 ...     8.238 secs...\n"
       ]
      },
      {
       "output_type": "stream",
       "stream": "stdout",
       "text": [
        "[done]\n"
       ]
      },
      {
       "output_type": "stream",
       "stream": "stdout",
       "text": [
        "Applying baseline correction ... (mode: mean)\n"
       ]
      },
      {
       "output_type": "stream",
       "stream": "stdout",
       "text": [
        "Processing epoch : 2\n"
       ]
      },
      {
       "output_type": "stream",
       "stream": "stdout",
       "text": [
        "Extracting time courses for 4 labels (mode: mean_flip)\n"
       ]
      },
      {
       "output_type": "stream",
       "stream": "stdout",
       "text": [
        "    computing connectivity for 6 connections\n"
       ]
      },
      {
       "output_type": "stream",
       "stream": "stdout",
       "text": [
        "    using t=0.000s..0.699s for estimation (106 points)\n"
       ]
      },
      {
       "output_type": "stream",
       "stream": "stdout",
       "text": [
        "    frequencies: 5.7Hz..39.7Hz (25 points)\n"
       ]
      },
      {
       "output_type": "stream",
       "stream": "stdout",
       "text": [
        "    using multitaper spectrum estimation with 7 DPSS windows\n"
       ]
      },
      {
       "output_type": "stream",
       "stream": "stdout",
       "text": [
        "    the following metrics will be computed: Debiased WPLI Square\n"
       ]
      },
      {
       "output_type": "stream",
       "stream": "stdout",
       "text": [
        "    computing connectivity for epochs 1..2\n"
       ]
      },
      {
       "output_type": "stream",
       "stream": "stdout",
       "text": [
        "Reading 1545 ... 1650  =     10.289 ...    10.989 secs...\n"
       ]
      },
      {
       "output_type": "stream",
       "stream": "stdout",
       "text": [
        "[done]\n"
       ]
      },
      {
       "output_type": "stream",
       "stream": "stdout",
       "text": [
        "Applying baseline correction ... (mode: mean)\n"
       ]
      },
      {
       "output_type": "stream",
       "stream": "stdout",
       "text": [
        "Processing epoch : 3\n"
       ]
      },
      {
       "output_type": "stream",
       "stream": "stdout",
       "text": [
        "Extracting time courses for 4 labels (mode: mean_flip)\n"
       ]
      },
      {
       "output_type": "stream",
       "stream": "stdout",
       "text": [
        "Reading 1948 ... 2053  =     12.973 ...    13.673 secs...\n"
       ]
      },
      {
       "output_type": "stream",
       "stream": "stdout",
       "text": [
        "[done]\n"
       ]
      },
      {
       "output_type": "stream",
       "stream": "stdout",
       "text": [
        "Applying baseline correction ... (mode: mean)\n"
       ]
      },
      {
       "output_type": "stream",
       "stream": "stdout",
       "text": [
        "Processing epoch : 4\n"
       ]
      },
      {
       "output_type": "stream",
       "stream": "stdout",
       "text": [
        "Extracting time courses for 4 labels (mode: mean_flip)\n"
       ]
      },
      {
       "output_type": "stream",
       "stream": "stdout",
       "text": [
        "    computing connectivity for epochs 3..4\n"
       ]
      },
      {
       "output_type": "stream",
       "stream": "stderr",
       "text": [
        "[Parallel(n_jobs=2)]: Done   1 out of   2 | elapsed:    0.0s remaining:    0.0s\n",
        "[Parallel(n_jobs=2)]: Done   2 out of   2 | elapsed:    0.0s finished\n"
       ]
      },
      {
       "output_type": "stream",
       "stream": "stdout",
       "text": [
        "Reading 2377 ... 2482  =     15.830 ...    16.530 secs...\n"
       ]
      },
      {
       "output_type": "stream",
       "stream": "stdout",
       "text": [
        "[done]\n"
       ]
      },
      {
       "output_type": "stream",
       "stream": "stdout",
       "text": [
        "Applying baseline correction ... (mode: mean)\n"
       ]
      },
      {
       "output_type": "stream",
       "stream": "stdout",
       "text": [
        "Processing epoch : 5\n"
       ]
      },
      {
       "output_type": "stream",
       "stream": "stdout",
       "text": [
        "Extracting time courses for 4 labels (mode: mean_flip)\n"
       ]
      },
      {
       "output_type": "stream",
       "stream": "stdout",
       "text": [
        "Reading 2771 ... 2876  =     18.454 ...    19.154 secs...\n"
       ]
      },
      {
       "output_type": "stream",
       "stream": "stdout",
       "text": [
        "[done]\n"
       ]
      },
      {
       "output_type": "stream",
       "stream": "stdout",
       "text": [
        "Applying baseline correction ... (mode: mean)\n"
       ]
      },
      {
       "output_type": "stream",
       "stream": "stdout",
       "text": [
        "Processing epoch : 6\n"
       ]
      },
      {
       "output_type": "stream",
       "stream": "stdout",
       "text": [
        "Extracting time courses for 4 labels (mode: mean_flip)\n"
       ]
      },
      {
       "output_type": "stream",
       "stream": "stdout",
       "text": [
        "    computing connectivity for epochs 5..6\n"
       ]
      },
      {
       "output_type": "stream",
       "stream": "stderr",
       "text": [
        "[Parallel(n_jobs=2)]: Done   1 out of   2 | elapsed:    0.0s remaining:    0.0s\n",
        "[Parallel(n_jobs=2)]: Done   2 out of   2 | elapsed:    0.0s finished\n"
       ]
      },
      {
       "output_type": "stream",
       "stream": "stdout",
       "text": [
        "Reading 3197 ... 3302  =     21.292 ...    21.991 secs...\n"
       ]
      },
      {
       "output_type": "stream",
       "stream": "stdout",
       "text": [
        "[done]\n"
       ]
      },
      {
       "output_type": "stream",
       "stream": "stdout",
       "text": [
        "Applying baseline correction ... (mode: mean)\n"
       ]
      },
      {
       "output_type": "stream",
       "stream": "stdout",
       "text": [
        "Processing epoch : 7\n"
       ]
      },
      {
       "output_type": "stream",
       "stream": "stdout",
       "text": [
        "Extracting time courses for 4 labels (mode: mean_flip)\n"
       ]
      },
      {
       "output_type": "stream",
       "stream": "stdout",
       "text": [
        "Reading 3621 ... 3726  =     24.115 ...    24.815 secs...\n"
       ]
      },
      {
       "output_type": "stream",
       "stream": "stdout",
       "text": [
        "[done]\n"
       ]
      },
      {
       "output_type": "stream",
       "stream": "stdout",
       "text": [
        "Applying baseline correction ... (mode: mean)\n"
       ]
      },
      {
       "output_type": "stream",
       "stream": "stdout",
       "text": [
        "Processing epoch : 8\n"
       ]
      },
      {
       "output_type": "stream",
       "stream": "stdout",
       "text": [
        "Extracting time courses for 4 labels (mode: mean_flip)\n"
       ]
      },
      {
       "output_type": "stream",
       "stream": "stdout",
       "text": [
        "    computing connectivity for epochs 7..8\n"
       ]
      },
      {
       "output_type": "stream",
       "stream": "stderr",
       "text": [
        "[Parallel(n_jobs=2)]: Done   1 out of   2 | elapsed:    0.0s remaining:    0.0s\n",
        "[Parallel(n_jobs=2)]: Done   2 out of   2 | elapsed:    0.0s finished\n"
       ]
      },
      {
       "output_type": "stream",
       "stream": "stdout",
       "text": [
        "Reading 4051 ... 4156  =     26.979 ...    27.678 secs...\n"
       ]
      },
      {
       "output_type": "stream",
       "stream": "stdout",
       "text": [
        "[done]\n"
       ]
      },
      {
       "output_type": "stream",
       "stream": "stdout",
       "text": [
        "Applying baseline correction ... (mode: mean)\n"
       ]
      },
      {
       "output_type": "stream",
       "stream": "stdout",
       "text": [
        "Processing epoch : 9\n"
       ]
      },
      {
       "output_type": "stream",
       "stream": "stdout",
       "text": [
        "Extracting time courses for 4 labels (mode: mean_flip)\n"
       ]
      },
      {
       "output_type": "stream",
       "stream": "stdout",
       "text": [
        "Reading 4465 ... 4570  =     29.736 ...    30.435 secs...\n"
       ]
      },
      {
       "output_type": "stream",
       "stream": "stdout",
       "text": [
        "[done]\n"
       ]
      },
      {
       "output_type": "stream",
       "stream": "stdout",
       "text": [
        "Applying baseline correction ... (mode: mean)\n"
       ]
      },
      {
       "output_type": "stream",
       "stream": "stdout",
       "text": [
        "Processing epoch : 10\n"
       ]
      },
      {
       "output_type": "stream",
       "stream": "stdout",
       "text": [
        "Extracting time courses for 4 labels (mode: mean_flip)\n"
       ]
      },
      {
       "output_type": "stream",
       "stream": "stdout",
       "text": [
        "    computing connectivity for epochs 9..10\n"
       ]
      },
      {
       "output_type": "stream",
       "stream": "stderr",
       "text": [
        "[Parallel(n_jobs=2)]: Done   1 out of   2 | elapsed:    0.0s remaining:    0.0s\n",
        "[Parallel(n_jobs=2)]: Done   2 out of   2 | elapsed:    0.0s finished\n"
       ]
      },
      {
       "output_type": "stream",
       "stream": "stdout",
       "text": [
        "Reading 4891 ... 4996  =     32.573 ...    33.273 secs...\n"
       ]
      },
      {
       "output_type": "stream",
       "stream": "stdout",
       "text": [
        "[done]\n"
       ]
      },
      {
       "output_type": "stream",
       "stream": "stdout",
       "text": [
        "Applying baseline correction ... (mode: mean)\n"
       ]
      },
      {
       "output_type": "stream",
       "stream": "stdout",
       "text": [
        "    Rejecting  epoch based on EOG : ['EOG 061']\n"
       ]
      },
      {
       "output_type": "stream",
       "stream": "stdout",
       "text": [
        "Reading 5293 ... 5398  =     35.251 ...    35.950 secs...\n"
       ]
      },
      {
       "output_type": "stream",
       "stream": "stdout",
       "text": [
        "[done]\n"
       ]
      },
      {
       "output_type": "stream",
       "stream": "stdout",
       "text": [
        "Applying baseline correction ... (mode: mean)\n"
       ]
      },
      {
       "output_type": "stream",
       "stream": "stdout",
       "text": [
        "Processing epoch : 11\n"
       ]
      },
      {
       "output_type": "stream",
       "stream": "stdout",
       "text": [
        "Extracting time courses for 4 labels (mode: mean_flip)\n"
       ]
      },
      {
       "output_type": "stream",
       "stream": "stdout",
       "text": [
        "Reading 5700 ... 5805  =     37.961 ...    38.660 secs...\n"
       ]
      },
      {
       "output_type": "stream",
       "stream": "stdout",
       "text": [
        "[done]\n"
       ]
      },
      {
       "output_type": "stream",
       "stream": "stdout",
       "text": [
        "Applying baseline correction ... (mode: mean)\n"
       ]
      },
      {
       "output_type": "stream",
       "stream": "stdout",
       "text": [
        "Processing epoch : 12\n"
       ]
      },
      {
       "output_type": "stream",
       "stream": "stdout",
       "text": [
        "Extracting time courses for 4 labels (mode: mean_flip)\n"
       ]
      },
      {
       "output_type": "stream",
       "stream": "stdout",
       "text": [
        "    computing connectivity for epochs 11..12\n"
       ]
      },
      {
       "output_type": "stream",
       "stream": "stderr",
       "text": [
        "[Parallel(n_jobs=2)]: Done   1 out of   2 | elapsed:    0.0s remaining:    0.0s\n",
        "[Parallel(n_jobs=2)]: Done   2 out of   2 | elapsed:    0.0s finished\n"
       ]
      },
      {
       "output_type": "stream",
       "stream": "stdout",
       "text": [
        "Reading 6087 ... 6192  =     40.538 ...    41.238 secs...\n"
       ]
      },
      {
       "output_type": "stream",
       "stream": "stdout",
       "text": [
        "[done]\n"
       ]
      },
      {
       "output_type": "stream",
       "stream": "stdout",
       "text": [
        "Applying baseline correction ... (mode: mean)\n"
       ]
      },
      {
       "output_type": "stream",
       "stream": "stdout",
       "text": [
        "Processing epoch : 13\n"
       ]
      },
      {
       "output_type": "stream",
       "stream": "stdout",
       "text": [
        "Extracting time courses for 4 labels (mode: mean_flip)\n"
       ]
      },
      {
       "output_type": "stream",
       "stream": "stdout",
       "text": [
        "Reading 6490 ... 6595  =     43.222 ...    43.922 secs...\n"
       ]
      },
      {
       "output_type": "stream",
       "stream": "stdout",
       "text": [
        "[done]\n"
       ]
      },
      {
       "output_type": "stream",
       "stream": "stdout",
       "text": [
        "Applying baseline correction ... (mode: mean)\n"
       ]
      },
      {
       "output_type": "stream",
       "stream": "stdout",
       "text": [
        "    Rejecting  epoch based on EOG : ['EOG 061']\n"
       ]
      },
      {
       "output_type": "stream",
       "stream": "stdout",
       "text": [
        "Reading 6893 ... 6998  =     45.906 ...    46.606 secs...\n"
       ]
      },
      {
       "output_type": "stream",
       "stream": "stdout",
       "text": [
        "[done]\n"
       ]
      },
      {
       "output_type": "stream",
       "stream": "stdout",
       "text": [
        "Applying baseline correction ... (mode: mean)\n"
       ]
      },
      {
       "output_type": "stream",
       "stream": "stdout",
       "text": [
        "    Rejecting  epoch based on EOG : ['EOG 061']\n"
       ]
      },
      {
       "output_type": "stream",
       "stream": "stdout",
       "text": [
        "Reading 7295 ... 7400  =     48.584 ...    49.283 secs...\n"
       ]
      },
      {
       "output_type": "stream",
       "stream": "stdout",
       "text": [
        "[done]\n"
       ]
      },
      {
       "output_type": "stream",
       "stream": "stdout",
       "text": [
        "Applying baseline correction ... (mode: mean)\n"
       ]
      },
      {
       "output_type": "stream",
       "stream": "stdout",
       "text": [
        "Processing epoch : 14\n"
       ]
      },
      {
       "output_type": "stream",
       "stream": "stdout",
       "text": [
        "Extracting time courses for 4 labels (mode: mean_flip)\n"
       ]
      },
      {
       "output_type": "stream",
       "stream": "stdout",
       "text": [
        "    computing connectivity for epochs 13..14\n"
       ]
      },
      {
       "output_type": "stream",
       "stream": "stderr",
       "text": [
        "[Parallel(n_jobs=2)]: Done   1 out of   2 | elapsed:    0.0s remaining:    0.0s\n",
        "[Parallel(n_jobs=2)]: Done   2 out of   2 | elapsed:    0.0s finished\n"
       ]
      },
      {
       "output_type": "stream",
       "stream": "stdout",
       "text": [
        "Reading 7699 ... 7804  =     51.274 ...    51.973 secs...\n"
       ]
      },
      {
       "output_type": "stream",
       "stream": "stdout",
       "text": [
        "[done]\n"
       ]
      },
      {
       "output_type": "stream",
       "stream": "stdout",
       "text": [
        "Applying baseline correction ... (mode: mean)\n"
       ]
      },
      {
       "output_type": "stream",
       "stream": "stdout",
       "text": [
        "Processing epoch : 15\n"
       ]
      },
      {
       "output_type": "stream",
       "stream": "stdout",
       "text": [
        "Extracting time courses for 4 labels (mode: mean_flip)\n"
       ]
      },
      {
       "output_type": "stream",
       "stream": "stdout",
       "text": [
        "Reading 8132 ... 8237  =     54.158 ...    54.857 secs...\n"
       ]
      },
      {
       "output_type": "stream",
       "stream": "stdout",
       "text": [
        "[done]\n"
       ]
      },
      {
       "output_type": "stream",
       "stream": "stdout",
       "text": [
        "Applying baseline correction ... (mode: mean)\n"
       ]
      },
      {
       "output_type": "stream",
       "stream": "stdout",
       "text": [
        "Processing epoch : 16\n"
       ]
      },
      {
       "output_type": "stream",
       "stream": "stdout",
       "text": [
        "Extracting time courses for 4 labels (mode: mean_flip)\n"
       ]
      },
      {
       "output_type": "stream",
       "stream": "stdout",
       "text": [
        "    computing connectivity for epochs 15..16\n"
       ]
      },
      {
       "output_type": "stream",
       "stream": "stderr",
       "text": [
        "[Parallel(n_jobs=2)]: Done   1 out of   2 | elapsed:    0.0s remaining:    0.0s\n",
        "[Parallel(n_jobs=2)]: Done   2 out of   2 | elapsed:    0.0s finished\n"
       ]
      },
      {
       "output_type": "stream",
       "stream": "stdout",
       "text": [
        "Reading 8552 ... 8657  =     56.955 ...    57.654 secs...\n"
       ]
      },
      {
       "output_type": "stream",
       "stream": "stdout",
       "text": [
        "[done]\n"
       ]
      },
      {
       "output_type": "stream",
       "stream": "stdout",
       "text": [
        "Applying baseline correction ... (mode: mean)\n"
       ]
      },
      {
       "output_type": "stream",
       "stream": "stdout",
       "text": [
        "Processing epoch : 17\n"
       ]
      },
      {
       "output_type": "stream",
       "stream": "stdout",
       "text": [
        "Extracting time courses for 4 labels (mode: mean_flip)\n"
       ]
      },
      {
       "output_type": "stream",
       "stream": "stdout",
       "text": [
        "Reading 8987 ... 9092  =     59.852 ...    60.551 secs...\n"
       ]
      },
      {
       "output_type": "stream",
       "stream": "stdout",
       "text": [
        "[done]\n"
       ]
      },
      {
       "output_type": "stream",
       "stream": "stdout",
       "text": [
        "Applying baseline correction ... (mode: mean)\n"
       ]
      },
      {
       "output_type": "stream",
       "stream": "stdout",
       "text": [
        "    Rejecting  epoch based on EOG : ['EOG 061']\n"
       ]
      },
      {
       "output_type": "stream",
       "stream": "stdout",
       "text": [
        "Reading 9403 ... 9508  =     62.622 ...    63.322 secs...\n"
       ]
      },
      {
       "output_type": "stream",
       "stream": "stdout",
       "text": [
        "[done]\n"
       ]
      },
      {
       "output_type": "stream",
       "stream": "stdout",
       "text": [
        "Applying baseline correction ... (mode: mean)\n"
       ]
      },
      {
       "output_type": "stream",
       "stream": "stdout",
       "text": [
        "Processing epoch : 18\n"
       ]
      },
      {
       "output_type": "stream",
       "stream": "stdout",
       "text": [
        "Extracting time courses for 4 labels (mode: mean_flip)\n"
       ]
      },
      {
       "output_type": "stream",
       "stream": "stdout",
       "text": [
        "    computing connectivity for epochs 17..18\n"
       ]
      },
      {
       "output_type": "stream",
       "stream": "stderr",
       "text": [
        "[Parallel(n_jobs=2)]: Done   1 out of   2 | elapsed:    0.0s remaining:    0.0s\n",
        "[Parallel(n_jobs=2)]: Done   2 out of   2 | elapsed:    0.0s finished\n"
       ]
      },
      {
       "output_type": "stream",
       "stream": "stdout",
       "text": [
        "Reading 9815 ... 9920  =     65.366 ...    66.066 secs...\n"
       ]
      },
      {
       "output_type": "stream",
       "stream": "stdout",
       "text": [
        "[done]\n"
       ]
      },
      {
       "output_type": "stream",
       "stream": "stdout",
       "text": [
        "Applying baseline correction ... (mode: mean)\n"
       ]
      },
      {
       "output_type": "stream",
       "stream": "stdout",
       "text": [
        "Processing epoch : 19\n"
       ]
      },
      {
       "output_type": "stream",
       "stream": "stdout",
       "text": [
        "Extracting time courses for 4 labels (mode: mean_flip)\n"
       ]
      },
      {
       "output_type": "stream",
       "stream": "stdout",
       "text": [
        "Reading 10261 ... 10366  =     68.337 ...    69.036 secs...\n"
       ]
      },
      {
       "output_type": "stream",
       "stream": "stdout",
       "text": [
        "[done]\n"
       ]
      },
      {
       "output_type": "stream",
       "stream": "stdout",
       "text": [
        "Applying baseline correction ... (mode: mean)\n"
       ]
      },
      {
       "output_type": "stream",
       "stream": "stdout",
       "text": [
        "Processing epoch : 20\n"
       ]
      },
      {
       "output_type": "stream",
       "stream": "stdout",
       "text": [
        "Extracting time courses for 4 labels (mode: mean_flip)\n"
       ]
      },
      {
       "output_type": "stream",
       "stream": "stdout",
       "text": [
        "    computing connectivity for epochs 19..20\n"
       ]
      },
      {
       "output_type": "stream",
       "stream": "stderr",
       "text": [
        "[Parallel(n_jobs=2)]: Done   1 out of   2 | elapsed:    0.0s remaining:    0.0s\n",
        "[Parallel(n_jobs=2)]: Done   2 out of   2 | elapsed:    0.0s finished\n"
       ]
      },
      {
       "output_type": "stream",
       "stream": "stdout",
       "text": [
        "Reading 10686 ... 10791  =     71.167 ...    71.866 secs...\n"
       ]
      },
      {
       "output_type": "stream",
       "stream": "stdout",
       "text": [
        "[done]\n"
       ]
      },
      {
       "output_type": "stream",
       "stream": "stdout",
       "text": [
        "Applying baseline correction ... (mode: mean)\n"
       ]
      },
      {
       "output_type": "stream",
       "stream": "stdout",
       "text": [
        "    Rejecting  epoch based on EOG : ['EOG 061']\n"
       ]
      },
      {
       "output_type": "stream",
       "stream": "stdout",
       "text": [
        "Reading 11084 ... 11189  =     73.818 ...    74.517 secs...\n"
       ]
      },
      {
       "output_type": "stream",
       "stream": "stdout",
       "text": [
        "[done]\n"
       ]
      },
      {
       "output_type": "stream",
       "stream": "stdout",
       "text": [
        "Applying baseline correction ... (mode: mean)\n"
       ]
      },
      {
       "output_type": "stream",
       "stream": "stdout",
       "text": [
        "Processing epoch : 21\n"
       ]
      },
      {
       "output_type": "stream",
       "stream": "stdout",
       "text": [
        "Extracting time courses for 4 labels (mode: mean_flip)\n"
       ]
      },
      {
       "output_type": "stream",
       "stream": "stdout",
       "text": [
        "Reading 11517 ... 11622  =     76.701 ...    77.401 secs...\n"
       ]
      },
      {
       "output_type": "stream",
       "stream": "stdout",
       "text": [
        "[done]\n"
       ]
      },
      {
       "output_type": "stream",
       "stream": "stdout",
       "text": [
        "Applying baseline correction ... (mode: mean)\n"
       ]
      },
      {
       "output_type": "stream",
       "stream": "stdout",
       "text": [
        "Processing epoch : 22\n"
       ]
      },
      {
       "output_type": "stream",
       "stream": "stdout",
       "text": [
        "Extracting time courses for 4 labels (mode: mean_flip)\n"
       ]
      },
      {
       "output_type": "stream",
       "stream": "stdout",
       "text": [
        "    computing connectivity for epochs 21..22\n"
       ]
      },
      {
       "output_type": "stream",
       "stream": "stderr",
       "text": [
        "[Parallel(n_jobs=2)]: Done   1 out of   2 | elapsed:    0.0s remaining:    0.0s\n",
        "[Parallel(n_jobs=2)]: Done   2 out of   2 | elapsed:    0.0s finished\n"
       ]
      },
      {
       "output_type": "stream",
       "stream": "stdout",
       "text": [
        "Reading 11949 ... 12054  =     79.578 ...    80.278 secs...\n"
       ]
      },
      {
       "output_type": "stream",
       "stream": "stdout",
       "text": [
        "[done]\n"
       ]
      },
      {
       "output_type": "stream",
       "stream": "stdout",
       "text": [
        "Applying baseline correction ... (mode: mean)\n"
       ]
      },
      {
       "output_type": "stream",
       "stream": "stdout",
       "text": [
        "Processing epoch : 23\n"
       ]
      },
      {
       "output_type": "stream",
       "stream": "stdout",
       "text": [
        "Extracting time courses for 4 labels (mode: mean_flip)\n"
       ]
      },
      {
       "output_type": "stream",
       "stream": "stdout",
       "text": [
        "Reading 12743 ... 12848  =     84.866 ...    85.566 secs...\n"
       ]
      },
      {
       "output_type": "stream",
       "stream": "stdout",
       "text": [
        "[done]\n"
       ]
      },
      {
       "output_type": "stream",
       "stream": "stdout",
       "text": [
        "Applying baseline correction ... (mode: mean)\n"
       ]
      },
      {
       "output_type": "stream",
       "stream": "stdout",
       "text": [
        "    Rejecting  epoch based on MAG : ['MEG 1711']\n"
       ]
      },
      {
       "output_type": "stream",
       "stream": "stdout",
       "text": [
        "Reading 13154 ... 13259  =     87.604 ...    88.303 secs...\n"
       ]
      },
      {
       "output_type": "stream",
       "stream": "stdout",
       "text": [
        "[done]\n"
       ]
      },
      {
       "output_type": "stream",
       "stream": "stdout",
       "text": [
        "Applying baseline correction ... (mode: mean)\n"
       ]
      },
      {
       "output_type": "stream",
       "stream": "stdout",
       "text": [
        "Processing epoch : 24\n"
       ]
      },
      {
       "output_type": "stream",
       "stream": "stdout",
       "text": [
        "Extracting time courses for 4 labels (mode: mean_flip)\n"
       ]
      },
      {
       "output_type": "stream",
       "stream": "stdout",
       "text": [
        "    computing connectivity for epochs 23..24\n"
       ]
      },
      {
       "output_type": "stream",
       "stream": "stderr",
       "text": [
        "[Parallel(n_jobs=2)]: Done   1 out of   2 | elapsed:    0.0s remaining:    0.0s\n",
        "[Parallel(n_jobs=2)]: Done   2 out of   2 | elapsed:    0.0s finished\n"
       ]
      },
      {
       "output_type": "stream",
       "stream": "stdout",
       "text": [
        "Reading 13572 ... 13677  =     90.387 ...    91.087 secs...\n"
       ]
      },
      {
       "output_type": "stream",
       "stream": "stdout",
       "text": [
        "[done]\n"
       ]
      },
      {
       "output_type": "stream",
       "stream": "stdout",
       "text": [
        "Applying baseline correction ... (mode: mean)\n"
       ]
      },
      {
       "output_type": "stream",
       "stream": "stdout",
       "text": [
        "Processing epoch : 25\n"
       ]
      },
      {
       "output_type": "stream",
       "stream": "stdout",
       "text": [
        "Extracting time courses for 4 labels (mode: mean_flip)\n"
       ]
      },
      {
       "output_type": "stream",
       "stream": "stdout",
       "text": [
        "Reading 13997 ... 14102  =     93.218 ...    93.917 secs...\n"
       ]
      },
      {
       "output_type": "stream",
       "stream": "stdout",
       "text": [
        "[done]\n"
       ]
      },
      {
       "output_type": "stream",
       "stream": "stdout",
       "text": [
        "Applying baseline correction ... (mode: mean)\n"
       ]
      },
      {
       "output_type": "stream",
       "stream": "stdout",
       "text": [
        "Processing epoch : 26\n"
       ]
      },
      {
       "output_type": "stream",
       "stream": "stdout",
       "text": [
        "Extracting time courses for 4 labels (mode: mean_flip)\n"
       ]
      },
      {
       "output_type": "stream",
       "stream": "stdout",
       "text": [
        "    computing connectivity for epochs 25..26\n"
       ]
      },
      {
       "output_type": "stream",
       "stream": "stderr",
       "text": [
        "[Parallel(n_jobs=2)]: Done   1 out of   2 | elapsed:    0.0s remaining:    0.0s\n",
        "[Parallel(n_jobs=2)]: Done   2 out of   2 | elapsed:    0.0s finished\n"
       ]
      },
      {
       "output_type": "stream",
       "stream": "stdout",
       "text": [
        "Reading 14412 ... 14517  =     95.982 ...    96.681 secs...\n"
       ]
      },
      {
       "output_type": "stream",
       "stream": "stdout",
       "text": [
        "[done]\n"
       ]
      },
      {
       "output_type": "stream",
       "stream": "stdout",
       "text": [
        "Applying baseline correction ... (mode: mean)\n"
       ]
      },
      {
       "output_type": "stream",
       "stream": "stdout",
       "text": [
        "Processing epoch : 27\n"
       ]
      },
      {
       "output_type": "stream",
       "stream": "stdout",
       "text": [
        "Extracting time courses for 4 labels (mode: mean_flip)\n"
       ]
      },
      {
       "output_type": "stream",
       "stream": "stdout",
       "text": [
        "Reading 14844 ... 14949  =     98.859 ...    99.558 secs...\n"
       ]
      },
      {
       "output_type": "stream",
       "stream": "stdout",
       "text": [
        "[done]\n"
       ]
      },
      {
       "output_type": "stream",
       "stream": "stdout",
       "text": [
        "Applying baseline correction ... (mode: mean)\n"
       ]
      },
      {
       "output_type": "stream",
       "stream": "stdout",
       "text": [
        "Processing epoch : 28\n"
       ]
      },
      {
       "output_type": "stream",
       "stream": "stdout",
       "text": [
        "Extracting time courses for 4 labels (mode: mean_flip)\n"
       ]
      },
      {
       "output_type": "stream",
       "stream": "stdout",
       "text": [
        "    computing connectivity for epochs 27..28\n"
       ]
      },
      {
       "output_type": "stream",
       "stream": "stderr",
       "text": [
        "[Parallel(n_jobs=2)]: Done   1 out of   2 | elapsed:    0.0s remaining:    0.0s\n",
        "[Parallel(n_jobs=2)]: Done   2 out of   2 | elapsed:    0.0s finished\n"
       ]
      },
      {
       "output_type": "stream",
       "stream": "stdout",
       "text": [
        "Reading 15262 ... 15367  =    101.642 ...   102.342 secs...\n"
       ]
      },
      {
       "output_type": "stream",
       "stream": "stdout",
       "text": [
        "[done]\n"
       ]
      },
      {
       "output_type": "stream",
       "stream": "stdout",
       "text": [
        "Applying baseline correction ... (mode: mean)\n"
       ]
      },
      {
       "output_type": "stream",
       "stream": "stdout",
       "text": [
        "    Rejecting  epoch based on EOG : ['EOG 061']\n"
       ]
      },
      {
       "output_type": "stream",
       "stream": "stdout",
       "text": [
        "Reading 15668 ... 15773  =    104.346 ...   105.046 secs...\n"
       ]
      },
      {
       "output_type": "stream",
       "stream": "stdout",
       "text": [
        "[done]\n"
       ]
      },
      {
       "output_type": "stream",
       "stream": "stdout",
       "text": [
        "Applying baseline correction ... (mode: mean)\n"
       ]
      },
      {
       "output_type": "stream",
       "stream": "stdout",
       "text": [
        "Processing epoch : 29\n"
       ]
      },
      {
       "output_type": "stream",
       "stream": "stdout",
       "text": [
        "Extracting time courses for 4 labels (mode: mean_flip)\n"
       ]
      },
      {
       "output_type": "stream",
       "stream": "stdout",
       "text": [
        "Reading 16124 ... 16229  =    107.383 ...   108.083 secs...\n"
       ]
      },
      {
       "output_type": "stream",
       "stream": "stdout",
       "text": [
        "[done]\n"
       ]
      },
      {
       "output_type": "stream",
       "stream": "stdout",
       "text": [
        "Applying baseline correction ... (mode: mean)\n"
       ]
      },
      {
       "output_type": "stream",
       "stream": "stdout",
       "text": [
        "Processing epoch : 30\n"
       ]
      },
      {
       "output_type": "stream",
       "stream": "stdout",
       "text": [
        "Extracting time courses for 4 labels (mode: mean_flip)\n"
       ]
      },
      {
       "output_type": "stream",
       "stream": "stdout",
       "text": [
        "    computing connectivity for epochs 29..30\n"
       ]
      },
      {
       "output_type": "stream",
       "stream": "stderr",
       "text": [
        "[Parallel(n_jobs=2)]: Done   1 out of   2 | elapsed:    0.0s remaining:    0.0s\n",
        "[Parallel(n_jobs=2)]: Done   2 out of   2 | elapsed:    0.0s finished\n"
       ]
      },
      {
       "output_type": "stream",
       "stream": "stdout",
       "text": [
        "Reading 16529 ... 16634  =    110.081 ...   110.780 secs...\n"
       ]
      },
      {
       "output_type": "stream",
       "stream": "stdout",
       "text": [
        "[done]\n"
       ]
      },
      {
       "output_type": "stream",
       "stream": "stdout",
       "text": [
        "Applying baseline correction ... (mode: mean)\n"
       ]
      },
      {
       "output_type": "stream",
       "stream": "stdout",
       "text": [
        "Processing epoch : 31\n"
       ]
      },
      {
       "output_type": "stream",
       "stream": "stdout",
       "text": [
        "Extracting time courses for 4 labels (mode: mean_flip)\n"
       ]
      },
      {
       "output_type": "stream",
       "stream": "stdout",
       "text": [
        "Reading 16937 ... 17042  =    112.798 ...   113.497 secs...\n"
       ]
      },
      {
       "output_type": "stream",
       "stream": "stdout",
       "text": [
        "[done]\n"
       ]
      },
      {
       "output_type": "stream",
       "stream": "stdout",
       "text": [
        "Applying baseline correction ... (mode: mean)\n"
       ]
      },
      {
       "output_type": "stream",
       "stream": "stdout",
       "text": [
        "    Rejecting  epoch based on EOG : ['EOG 061']\n"
       ]
      },
      {
       "output_type": "stream",
       "stream": "stdout",
       "text": [
        "Reading 17378 ... 17483  =    115.735 ...   116.434 secs...\n"
       ]
      },
      {
       "output_type": "stream",
       "stream": "stdout",
       "text": [
        "[done]\n"
       ]
      },
      {
       "output_type": "stream",
       "stream": "stdout",
       "text": [
        "Applying baseline correction ... (mode: mean)\n"
       ]
      },
      {
       "output_type": "stream",
       "stream": "stdout",
       "text": [
        "Processing epoch : 32\n"
       ]
      },
      {
       "output_type": "stream",
       "stream": "stdout",
       "text": [
        "Extracting time courses for 4 labels (mode: mean_flip)\n"
       ]
      },
      {
       "output_type": "stream",
       "stream": "stdout",
       "text": [
        "    computing connectivity for epochs 31..32\n"
       ]
      },
      {
       "output_type": "stream",
       "stream": "stderr",
       "text": [
        "[Parallel(n_jobs=2)]: Done   1 out of   2 | elapsed:    0.0s remaining:    0.0s\n",
        "[Parallel(n_jobs=2)]: Done   2 out of   2 | elapsed:    0.0s finished\n"
       ]
      },
      {
       "output_type": "stream",
       "stream": "stdout",
       "text": [
        "Reading 17828 ... 17933  =    118.732 ...   119.431 secs...\n"
       ]
      },
      {
       "output_type": "stream",
       "stream": "stdout",
       "text": [
        "[done]\n"
       ]
      },
      {
       "output_type": "stream",
       "stream": "stdout",
       "text": [
        "Applying baseline correction ... (mode: mean)\n"
       ]
      },
      {
       "output_type": "stream",
       "stream": "stdout",
       "text": [
        "Processing epoch : 33\n"
       ]
      },
      {
       "output_type": "stream",
       "stream": "stdout",
       "text": [
        "Extracting time courses for 4 labels (mode: mean_flip)\n"
       ]
      },
      {
       "output_type": "stream",
       "stream": "stdout",
       "text": [
        "Reading 18245 ... 18350  =    121.509 ...   122.208 secs...\n"
       ]
      },
      {
       "output_type": "stream",
       "stream": "stdout",
       "text": [
        "[done]\n"
       ]
      },
      {
       "output_type": "stream",
       "stream": "stdout",
       "text": [
        "Applying baseline correction ... (mode: mean)\n"
       ]
      },
      {
       "output_type": "stream",
       "stream": "stdout",
       "text": [
        "    Rejecting  epoch based on EOG : ['EOG 061']\n"
       ]
      },
      {
       "output_type": "stream",
       "stream": "stdout",
       "text": [
        "Reading 18675 ... 18780  =    124.373 ...   125.072 secs...\n"
       ]
      },
      {
       "output_type": "stream",
       "stream": "stdout",
       "text": [
        "[done]\n"
       ]
      },
      {
       "output_type": "stream",
       "stream": "stdout",
       "text": [
        "Applying baseline correction ... (mode: mean)\n"
       ]
      },
      {
       "output_type": "stream",
       "stream": "stdout",
       "text": [
        "Processing epoch : 34\n"
       ]
      },
      {
       "output_type": "stream",
       "stream": "stdout",
       "text": [
        "Extracting time courses for 4 labels (mode: mean_flip)\n"
       ]
      },
      {
       "output_type": "stream",
       "stream": "stdout",
       "text": [
        "    computing connectivity for epochs 33..34\n"
       ]
      },
      {
       "output_type": "stream",
       "stream": "stderr",
       "text": [
        "[Parallel(n_jobs=2)]: Done   1 out of   2 | elapsed:    0.0s remaining:    0.0s\n",
        "[Parallel(n_jobs=2)]: Done   2 out of   2 | elapsed:    0.0s finished\n"
       ]
      },
      {
       "output_type": "stream",
       "stream": "stdout",
       "text": [
        "Reading 19092 ... 19197  =    127.150 ...   127.849 secs...\n"
       ]
      },
      {
       "output_type": "stream",
       "stream": "stdout",
       "text": [
        "[done]\n"
       ]
      },
      {
       "output_type": "stream",
       "stream": "stdout",
       "text": [
        "Applying baseline correction ... (mode: mean)\n"
       ]
      },
      {
       "output_type": "stream",
       "stream": "stdout",
       "text": [
        "Processing epoch : 35\n"
       ]
      },
      {
       "output_type": "stream",
       "stream": "stdout",
       "text": [
        "Extracting time courses for 4 labels (mode: mean_flip)\n"
       ]
      },
      {
       "output_type": "stream",
       "stream": "stdout",
       "text": [
        "Reading 19528 ... 19633  =    130.053 ...   130.753 secs...\n"
       ]
      },
      {
       "output_type": "stream",
       "stream": "stdout",
       "text": [
        "[done]\n"
       ]
      },
      {
       "output_type": "stream",
       "stream": "stdout",
       "text": [
        "Applying baseline correction ... (mode: mean)\n"
       ]
      },
      {
       "output_type": "stream",
       "stream": "stdout",
       "text": [
        "    Rejecting  epoch based on EOG : ['EOG 061']\n"
       ]
      },
      {
       "output_type": "stream",
       "stream": "stdout",
       "text": [
        "Reading 19960 ... 20065  =    132.930 ...   133.630 secs...\n"
       ]
      },
      {
       "output_type": "stream",
       "stream": "stdout",
       "text": [
        "[done]\n"
       ]
      },
      {
       "output_type": "stream",
       "stream": "stdout",
       "text": [
        "Applying baseline correction ... (mode: mean)\n"
       ]
      },
      {
       "output_type": "stream",
       "stream": "stdout",
       "text": [
        "    Rejecting  epoch based on EOG : ['EOG 061']\n"
       ]
      },
      {
       "output_type": "stream",
       "stream": "stdout",
       "text": [
        "Reading 20358 ... 20463  =    135.581 ...   136.280 secs...\n"
       ]
      },
      {
       "output_type": "stream",
       "stream": "stdout",
       "text": [
        "[done]\n"
       ]
      },
      {
       "output_type": "stream",
       "stream": "stdout",
       "text": [
        "Applying baseline correction ... (mode: mean)\n"
       ]
      },
      {
       "output_type": "stream",
       "stream": "stdout",
       "text": [
        "Processing epoch : 36\n"
       ]
      },
      {
       "output_type": "stream",
       "stream": "stdout",
       "text": [
        "Extracting time courses for 4 labels (mode: mean_flip)\n"
       ]
      },
      {
       "output_type": "stream",
       "stream": "stdout",
       "text": [
        "    computing connectivity for epochs 35..36\n"
       ]
      },
      {
       "output_type": "stream",
       "stream": "stderr",
       "text": [
        "[Parallel(n_jobs=2)]: Done   1 out of   2 | elapsed:    0.0s remaining:    0.0s\n",
        "[Parallel(n_jobs=2)]: Done   2 out of   2 | elapsed:    0.0s finished\n"
       ]
      },
      {
       "output_type": "stream",
       "stream": "stdout",
       "text": [
        "Reading 21163 ... 21268  =    140.942 ...   141.641 secs...\n"
       ]
      },
      {
       "output_type": "stream",
       "stream": "stdout",
       "text": [
        "[done]\n"
       ]
      },
      {
       "output_type": "stream",
       "stream": "stdout",
       "text": [
        "Applying baseline correction ... (mode: mean)\n"
       ]
      },
      {
       "output_type": "stream",
       "stream": "stdout",
       "text": [
        "    Rejecting  epoch based on EOG : ['EOG 061']\n"
       ]
      },
      {
       "output_type": "stream",
       "stream": "stdout",
       "text": [
        "Reading 21593 ... 21698  =    143.806 ...   144.505 secs...\n"
       ]
      },
      {
       "output_type": "stream",
       "stream": "stdout",
       "text": [
        "[done]\n"
       ]
      },
      {
       "output_type": "stream",
       "stream": "stdout",
       "text": [
        "Applying baseline correction ... (mode: mean)\n"
       ]
      },
      {
       "output_type": "stream",
       "stream": "stdout",
       "text": [
        "    Rejecting  epoch based on EOG : ['EOG 061']\n"
       ]
      },
      {
       "output_type": "stream",
       "stream": "stdout",
       "text": [
        "Reading 22008 ... 22113  =    146.570 ...   147.269 secs...\n"
       ]
      },
      {
       "output_type": "stream",
       "stream": "stdout",
       "text": [
        "[done]\n"
       ]
      },
      {
       "output_type": "stream",
       "stream": "stdout",
       "text": [
        "Applying baseline correction ... (mode: mean)\n"
       ]
      },
      {
       "output_type": "stream",
       "stream": "stdout",
       "text": [
        "Processing epoch : 37\n"
       ]
      },
      {
       "output_type": "stream",
       "stream": "stdout",
       "text": [
        "Extracting time courses for 4 labels (mode: mean_flip)\n"
       ]
      },
      {
       "output_type": "stream",
       "stream": "stdout",
       "text": [
        "Reading 22424 ... 22529  =    149.340 ...   150.040 secs...\n"
       ]
      },
      {
       "output_type": "stream",
       "stream": "stdout",
       "text": [
        "[done]\n"
       ]
      },
      {
       "output_type": "stream",
       "stream": "stdout",
       "text": [
        "Applying baseline correction ... (mode: mean)\n"
       ]
      },
      {
       "output_type": "stream",
       "stream": "stdout",
       "text": [
        "Processing epoch : 38\n"
       ]
      },
      {
       "output_type": "stream",
       "stream": "stdout",
       "text": [
        "Extracting time courses for 4 labels (mode: mean_flip)\n"
       ]
      },
      {
       "output_type": "stream",
       "stream": "stdout",
       "text": [
        "    computing connectivity for epochs 37..38\n"
       ]
      },
      {
       "output_type": "stream",
       "stream": "stderr",
       "text": [
        "[Parallel(n_jobs=2)]: Done   1 out of   2 | elapsed:    0.0s remaining:    0.0s\n",
        "[Parallel(n_jobs=2)]: Done   2 out of   2 | elapsed:    0.0s finished\n"
       ]
      },
      {
       "output_type": "stream",
       "stream": "stdout",
       "text": [
        "Reading 22846 ... 22951  =    152.151 ...   152.850 secs...\n"
       ]
      },
      {
       "output_type": "stream",
       "stream": "stdout",
       "text": [
        "[done]\n"
       ]
      },
      {
       "output_type": "stream",
       "stream": "stdout",
       "text": [
        "Applying baseline correction ... (mode: mean)\n"
       ]
      },
      {
       "output_type": "stream",
       "stream": "stdout",
       "text": [
        "Processing epoch : 39\n"
       ]
      },
      {
       "output_type": "stream",
       "stream": "stdout",
       "text": [
        "Extracting time courses for 4 labels (mode: mean_flip)\n"
       ]
      },
      {
       "output_type": "stream",
       "stream": "stdout",
       "text": [
        "Reading 23239 ... 23344  =    154.768 ...   155.467 secs...\n"
       ]
      },
      {
       "output_type": "stream",
       "stream": "stdout",
       "text": [
        "[done]\n"
       ]
      },
      {
       "output_type": "stream",
       "stream": "stdout",
       "text": [
        "Applying baseline correction ... (mode: mean)\n"
       ]
      },
      {
       "output_type": "stream",
       "stream": "stdout",
       "text": [
        "Processing epoch : 40\n"
       ]
      },
      {
       "output_type": "stream",
       "stream": "stdout",
       "text": [
        "Extracting time courses for 4 labels (mode: mean_flip)\n"
       ]
      },
      {
       "output_type": "stream",
       "stream": "stdout",
       "text": [
        "    computing connectivity for epochs 39..40\n"
       ]
      },
      {
       "output_type": "stream",
       "stream": "stderr",
       "text": [
        "[Parallel(n_jobs=2)]: Done   1 out of   2 | elapsed:    0.0s remaining:    0.0s\n",
        "[Parallel(n_jobs=2)]: Done   2 out of   2 | elapsed:    0.0s finished\n"
       ]
      },
      {
       "output_type": "stream",
       "stream": "stdout",
       "text": [
        "Reading 23654 ... 23759  =    157.532 ...   158.231 secs...\n"
       ]
      },
      {
       "output_type": "stream",
       "stream": "stdout",
       "text": [
        "[done]\n"
       ]
      },
      {
       "output_type": "stream",
       "stream": "stdout",
       "text": [
        "Applying baseline correction ... (mode: mean)\n"
       ]
      },
      {
       "output_type": "stream",
       "stream": "stdout",
       "text": [
        "Processing epoch : 41\n"
       ]
      },
      {
       "output_type": "stream",
       "stream": "stdout",
       "text": [
        "Extracting time courses for 4 labels (mode: mean_flip)\n"
       ]
      },
      {
       "output_type": "stream",
       "stream": "stdout",
       "text": [
        "Reading 24074 ... 24179  =    160.329 ...   161.028 secs...\n"
       ]
      },
      {
       "output_type": "stream",
       "stream": "stdout",
       "text": [
        "[done]\n"
       ]
      },
      {
       "output_type": "stream",
       "stream": "stdout",
       "text": [
        "Applying baseline correction ... (mode: mean)\n"
       ]
      },
      {
       "output_type": "stream",
       "stream": "stdout",
       "text": [
        "Processing epoch : 42\n"
       ]
      },
      {
       "output_type": "stream",
       "stream": "stdout",
       "text": [
        "Extracting time courses for 4 labels (mode: mean_flip)\n"
       ]
      },
      {
       "output_type": "stream",
       "stream": "stdout",
       "text": [
        "    computing connectivity for epochs 41..42\n"
       ]
      },
      {
       "output_type": "stream",
       "stream": "stderr",
       "text": [
        "[Parallel(n_jobs=2)]: Done   1 out of   2 | elapsed:    0.0s remaining:    0.0s\n",
        "[Parallel(n_jobs=2)]: Done   2 out of   2 | elapsed:    0.0s finished\n"
       ]
      },
      {
       "output_type": "stream",
       "stream": "stdout",
       "text": [
        "Reading 24502 ... 24607  =    163.179 ...   163.879 secs...\n"
       ]
      },
      {
       "output_type": "stream",
       "stream": "stdout",
       "text": [
        "[done]\n"
       ]
      },
      {
       "output_type": "stream",
       "stream": "stdout",
       "text": [
        "Applying baseline correction ... (mode: mean)\n"
       ]
      },
      {
       "output_type": "stream",
       "stream": "stdout",
       "text": [
        "Processing epoch : 43\n"
       ]
      },
      {
       "output_type": "stream",
       "stream": "stdout",
       "text": [
        "Extracting time courses for 4 labels (mode: mean_flip)\n"
       ]
      },
      {
       "output_type": "stream",
       "stream": "stdout",
       "text": [
        "Reading 24947 ... 25052  =    166.143 ...   166.842 secs...\n"
       ]
      },
      {
       "output_type": "stream",
       "stream": "stdout",
       "text": [
        "[done]\n"
       ]
      },
      {
       "output_type": "stream",
       "stream": "stdout",
       "text": [
        "Applying baseline correction ... (mode: mean)\n"
       ]
      },
      {
       "output_type": "stream",
       "stream": "stdout",
       "text": [
        "Processing epoch : 44\n"
       ]
      },
      {
       "output_type": "stream",
       "stream": "stdout",
       "text": [
        "Extracting time courses for 4 labels (mode: mean_flip)\n"
       ]
      },
      {
       "output_type": "stream",
       "stream": "stdout",
       "text": [
        "    computing connectivity for epochs 43..44\n"
       ]
      },
      {
       "output_type": "stream",
       "stream": "stderr",
       "text": [
        "[Parallel(n_jobs=2)]: Done   1 out of   2 | elapsed:    0.0s remaining:    0.0s\n",
        "[Parallel(n_jobs=2)]: Done   2 out of   2 | elapsed:    0.0s finished\n"
       ]
      },
      {
       "output_type": "stream",
       "stream": "stdout",
       "text": [
        "Reading 25352 ... 25457  =    168.840 ...   169.540 secs...\n"
       ]
      },
      {
       "output_type": "stream",
       "stream": "stdout",
       "text": [
        "[done]\n"
       ]
      },
      {
       "output_type": "stream",
       "stream": "stdout",
       "text": [
        "Applying baseline correction ... (mode: mean)\n"
       ]
      },
      {
       "output_type": "stream",
       "stream": "stdout",
       "text": [
        "    Rejecting  epoch based on EOG : ['EOG 061']\n"
       ]
      },
      {
       "output_type": "stream",
       "stream": "stdout",
       "text": [
        "Reading 25751 ... 25856  =    171.498 ...   172.197 secs...\n"
       ]
      },
      {
       "output_type": "stream",
       "stream": "stdout",
       "text": [
        "[done]\n"
       ]
      },
      {
       "output_type": "stream",
       "stream": "stdout",
       "text": [
        "Applying baseline correction ... (mode: mean)\n"
       ]
      },
      {
       "output_type": "stream",
       "stream": "stdout",
       "text": [
        "Processing epoch : 45\n"
       ]
      },
      {
       "output_type": "stream",
       "stream": "stdout",
       "text": [
        "Extracting time courses for 4 labels (mode: mean_flip)\n"
       ]
      },
      {
       "output_type": "stream",
       "stream": "stdout",
       "text": [
        "Reading 26143 ... 26248  =    174.108 ...   174.807 secs...\n"
       ]
      },
      {
       "output_type": "stream",
       "stream": "stdout",
       "text": [
        "[done]\n"
       ]
      },
      {
       "output_type": "stream",
       "stream": "stdout",
       "text": [
        "Applying baseline correction ... (mode: mean)\n"
       ]
      },
      {
       "output_type": "stream",
       "stream": "stdout",
       "text": [
        "    Rejecting  epoch based on EOG : ['EOG 061']\n"
       ]
      },
      {
       "output_type": "stream",
       "stream": "stdout",
       "text": [
        "Reading 26540 ... 26645  =    176.752 ...   177.451 secs...\n"
       ]
      },
      {
       "output_type": "stream",
       "stream": "stdout",
       "text": [
        "[done]\n"
       ]
      },
      {
       "output_type": "stream",
       "stream": "stdout",
       "text": [
        "Applying baseline correction ... (mode: mean)\n"
       ]
      },
      {
       "output_type": "stream",
       "stream": "stdout",
       "text": [
        "Processing epoch : 46\n"
       ]
      },
      {
       "output_type": "stream",
       "stream": "stdout",
       "text": [
        "Extracting time courses for 4 labels (mode: mean_flip)\n"
       ]
      },
      {
       "output_type": "stream",
       "stream": "stdout",
       "text": [
        "    computing connectivity for epochs 45..46\n"
       ]
      },
      {
       "output_type": "stream",
       "stream": "stderr",
       "text": [
        "[Parallel(n_jobs=2)]: Done   1 out of   2 | elapsed:    0.0s remaining:    0.0s\n",
        "[Parallel(n_jobs=2)]: Done   2 out of   2 | elapsed:    0.0s finished\n"
       ]
      },
      {
       "output_type": "stream",
       "stream": "stdout",
       "text": [
        "Reading 27403 ... 27508  =    182.500 ...   183.199 secs...\n"
       ]
      },
      {
       "output_type": "stream",
       "stream": "stdout",
       "text": [
        "[done]\n"
       ]
      },
      {
       "output_type": "stream",
       "stream": "stdout",
       "text": [
        "Applying baseline correction ... (mode: mean)\n"
       ]
      },
      {
       "output_type": "stream",
       "stream": "stdout",
       "text": [
        "Processing epoch : 47\n"
       ]
      },
      {
       "output_type": "stream",
       "stream": "stdout",
       "text": [
        "Extracting time courses for 4 labels (mode: mean_flip)\n"
       ]
      },
      {
       "output_type": "stream",
       "stream": "stdout",
       "text": [
        "Reading 27803 ... 27908  =    185.164 ...   185.863 secs...\n"
       ]
      },
      {
       "output_type": "stream",
       "stream": "stdout",
       "text": [
        "[done]\n"
       ]
      },
      {
       "output_type": "stream",
       "stream": "stdout",
       "text": [
        "Applying baseline correction ... (mode: mean)\n"
       ]
      },
      {
       "output_type": "stream",
       "stream": "stdout",
       "text": [
        "Processing epoch : 48\n"
       ]
      },
      {
       "output_type": "stream",
       "stream": "stdout",
       "text": [
        "Extracting time courses for 4 labels (mode: mean_flip)\n"
       ]
      },
      {
       "output_type": "stream",
       "stream": "stdout",
       "text": [
        "    computing connectivity for epochs 47..48\n"
       ]
      },
      {
       "output_type": "stream",
       "stream": "stderr",
       "text": [
        "[Parallel(n_jobs=2)]: Done   1 out of   2 | elapsed:    0.0s remaining:    0.0s\n",
        "[Parallel(n_jobs=2)]: Done   2 out of   2 | elapsed:    0.0s finished\n"
       ]
      },
      {
       "output_type": "stream",
       "stream": "stdout",
       "text": [
        "Reading 28229 ... 28334  =    188.001 ...   188.700 secs...\n"
       ]
      },
      {
       "output_type": "stream",
       "stream": "stdout",
       "text": [
        "[done]\n"
       ]
      },
      {
       "output_type": "stream",
       "stream": "stdout",
       "text": [
        "Applying baseline correction ... (mode: mean)\n"
       ]
      },
      {
       "output_type": "stream",
       "stream": "stdout",
       "text": [
        "    Rejecting  epoch based on EOG : ['EOG 061']\n"
       ]
      },
      {
       "output_type": "stream",
       "stream": "stdout",
       "text": [
        "Reading 28673 ... 28778  =    190.958 ...   191.657 secs...\n"
       ]
      },
      {
       "output_type": "stream",
       "stream": "stdout",
       "text": [
        "[done]\n"
       ]
      },
      {
       "output_type": "stream",
       "stream": "stdout",
       "text": [
        "Applying baseline correction ... (mode: mean)\n"
       ]
      },
      {
       "output_type": "stream",
       "stream": "stdout",
       "text": [
        "    Rejecting  epoch based on EOG : ['EOG 061']\n"
       ]
      },
      {
       "output_type": "stream",
       "stream": "stdout",
       "text": [
        "Reading 29537 ... 29642  =    196.712 ...   197.411 secs...\n"
       ]
      },
      {
       "output_type": "stream",
       "stream": "stdout",
       "text": [
        "[done]\n"
       ]
      },
      {
       "output_type": "stream",
       "stream": "stdout",
       "text": [
        "Applying baseline correction ... (mode: mean)\n"
       ]
      },
      {
       "output_type": "stream",
       "stream": "stdout",
       "text": [
        "Processing epoch : 49\n"
       ]
      },
      {
       "output_type": "stream",
       "stream": "stdout",
       "text": [
        "Extracting time courses for 4 labels (mode: mean_flip)\n"
       ]
      },
      {
       "output_type": "stream",
       "stream": "stdout",
       "text": [
        "Reading 29936 ... 30041  =    199.369 ...   200.068 secs...\n"
       ]
      },
      {
       "output_type": "stream",
       "stream": "stdout",
       "text": [
        "[done]\n"
       ]
      },
      {
       "output_type": "stream",
       "stream": "stdout",
       "text": [
        "Applying baseline correction ... (mode: mean)\n"
       ]
      },
      {
       "output_type": "stream",
       "stream": "stdout",
       "text": [
        "Processing epoch : 50\n"
       ]
      },
      {
       "output_type": "stream",
       "stream": "stdout",
       "text": [
        "Extracting time courses for 4 labels (mode: mean_flip)\n"
       ]
      },
      {
       "output_type": "stream",
       "stream": "stdout",
       "text": [
        "    computing connectivity for epochs 49..50\n"
       ]
      },
      {
       "output_type": "stream",
       "stream": "stderr",
       "text": [
        "[Parallel(n_jobs=2)]: Done   1 out of   2 | elapsed:    0.0s remaining:    0.0s\n",
        "[Parallel(n_jobs=2)]: Done   2 out of   2 | elapsed:    0.0s finished\n"
       ]
      },
      {
       "output_type": "stream",
       "stream": "stdout",
       "text": [
        "Reading 30384 ... 30489  =    202.353 ...   203.052 secs...\n"
       ]
      },
      {
       "output_type": "stream",
       "stream": "stdout",
       "text": [
        "[done]\n"
       ]
      },
      {
       "output_type": "stream",
       "stream": "stdout",
       "text": [
        "Applying baseline correction ... (mode: mean)\n"
       ]
      },
      {
       "output_type": "stream",
       "stream": "stdout",
       "text": [
        "Processing epoch : 51\n"
       ]
      },
      {
       "output_type": "stream",
       "stream": "stdout",
       "text": [
        "Extracting time courses for 4 labels (mode: mean_flip)\n"
       ]
      },
      {
       "output_type": "stream",
       "stream": "stdout",
       "text": [
        "Reading 30810 ... 30915  =    205.190 ...   205.889 secs...\n"
       ]
      },
      {
       "output_type": "stream",
       "stream": "stdout",
       "text": [
        "[done]\n"
       ]
      },
      {
       "output_type": "stream",
       "stream": "stdout",
       "text": [
        "Applying baseline correction ... (mode: mean)\n"
       ]
      },
      {
       "output_type": "stream",
       "stream": "stdout",
       "text": [
        "Processing epoch : 52\n"
       ]
      },
      {
       "output_type": "stream",
       "stream": "stdout",
       "text": [
        "Extracting time courses for 4 labels (mode: mean_flip)\n"
       ]
      },
      {
       "output_type": "stream",
       "stream": "stdout",
       "text": [
        "    computing connectivity for epochs 51..52\n"
       ]
      },
      {
       "output_type": "stream",
       "stream": "stderr",
       "text": [
        "[Parallel(n_jobs=2)]: Done   1 out of   2 | elapsed:    0.0s remaining:    0.0s\n",
        "[Parallel(n_jobs=2)]: Done   2 out of   2 | elapsed:    0.0s finished\n"
       ]
      },
      {
       "output_type": "stream",
       "stream": "stdout",
       "text": [
        "Reading 31238 ... 31343  =    208.040 ...   208.739 secs...\n"
       ]
      },
      {
       "output_type": "stream",
       "stream": "stdout",
       "text": [
        "[done]\n"
       ]
      },
      {
       "output_type": "stream",
       "stream": "stdout",
       "text": [
        "Applying baseline correction ... (mode: mean)\n"
       ]
      },
      {
       "output_type": "stream",
       "stream": "stdout",
       "text": [
        "Processing epoch : 53\n"
       ]
      },
      {
       "output_type": "stream",
       "stream": "stdout",
       "text": [
        "Extracting time courses for 4 labels (mode: mean_flip)\n"
       ]
      },
      {
       "output_type": "stream",
       "stream": "stdout",
       "text": [
        "Reading 31626 ... 31731  =    210.624 ...   211.323 secs...\n"
       ]
      },
      {
       "output_type": "stream",
       "stream": "stdout",
       "text": [
        "[done]\n"
       ]
      },
      {
       "output_type": "stream",
       "stream": "stdout",
       "text": [
        "Applying baseline correction ... (mode: mean)\n"
       ]
      },
      {
       "output_type": "stream",
       "stream": "stdout",
       "text": [
        "Processing epoch : 54\n"
       ]
      },
      {
       "output_type": "stream",
       "stream": "stdout",
       "text": [
        "Extracting time courses for 4 labels (mode: mean_flip)\n"
       ]
      },
      {
       "output_type": "stream",
       "stream": "stdout",
       "text": [
        "    computing connectivity for epochs 53..54\n"
       ]
      },
      {
       "output_type": "stream",
       "stream": "stderr",
       "text": [
        "[Parallel(n_jobs=2)]: Done   1 out of   2 | elapsed:    0.0s remaining:    0.0s\n",
        "[Parallel(n_jobs=2)]: Done   2 out of   2 | elapsed:    0.0s finished\n"
       ]
      },
      {
       "output_type": "stream",
       "stream": "stdout",
       "text": [
        "Reading 32040 ... 32145  =    213.381 ...   214.081 secs...\n"
       ]
      },
      {
       "output_type": "stream",
       "stream": "stdout",
       "text": [
        "[done]\n"
       ]
      },
      {
       "output_type": "stream",
       "stream": "stdout",
       "text": [
        "Applying baseline correction ... (mode: mean)\n"
       ]
      },
      {
       "output_type": "stream",
       "stream": "stdout",
       "text": [
        "Processing epoch : 55\n"
       ]
      },
      {
       "output_type": "stream",
       "stream": "stdout",
       "text": [
        "Extracting time courses for 4 labels (mode: mean_flip)\n"
       ]
      },
      {
       "output_type": "stream",
       "stream": "stdout",
       "text": [
        "[done]\n"
       ]
      },
      {
       "output_type": "stream",
       "stream": "stdout",
       "text": [
        "    computing connectivity for epochs 55..55\n"
       ]
      },
      {
       "output_type": "stream",
       "stream": "stderr",
       "text": [
        "[Parallel(n_jobs=2)]: Done   1 out of   2 | elapsed:    0.0s remaining:    0.0s\n",
        "[Parallel(n_jobs=2)]: Done   2 out of   2 | elapsed:    0.0s finished\n"
       ]
      },
      {
       "output_type": "stream",
       "stream": "stdout",
       "text": [
        "    assembling connectivity matrix\n"
       ]
      },
      {
       "output_type": "stream",
       "stream": "stdout",
       "text": [
        "[Connectivity computation done]\n"
       ]
      },
      {
       "output_type": "stream",
       "stream": "stderr",
       "text": [
        "[Parallel(n_jobs=2)]: Done   1 out of   1 | elapsed:    0.0s remaining:    0.0s\n",
        "[Parallel(n_jobs=2)]: Done   1 out of   1 | elapsed:    0.0s finished\n"
       ]
      }
     ],
     "prompt_number": 168
    },
    {
     "cell_type": "code",
     "collapsed": false,
     "input": [
      "n_rows, n_colss = con.shape[:2]\n",
      "\n",
      "fig, axes = plt.subplots(n_rows, n_cols, sharex=True, sharey=True)\n",
      "plt.suptitle('Between labels connectivity')\n",
      "\n",
      "for i in range(n_rows):\n",
      "    for j in range(i + 1):\n",
      "        if i == j:\n",
      "            axes[i, j].set_axis_off()\n",
      "            continue\n",
      "\n",
      "        axes[i, j].plot(freqs, con[i, j, :])\n",
      "        axes[j, i].plot(freqs, con[i, j, :])\n",
      "\n",
      "        if j == 0:\n",
      "            axes[i, j].set_ylabel(names[i])\n",
      "            axes[0, i].set_title(names[i])\n",
      "        if i == (n_rows - 1):\n",
      "            axes[i, j].set_xlabel(names[j])\n",
      "        \n",
      "        axes[i, j].set_xlim([fmin, fmax])\n",
      "        axes[j, i].set_xlim([fmin, fmax])\n",
      "\n",
      "        # Show band limits\n",
      "        for f in [8, 12, 18, 35]:\n",
      "            axes[i, j].axvline(f, color='k')\n",
      "            axes[j, i].axvline(f, color='k')\n",
      "plt.show()"
     ],
     "language": "python",
     "metadata": {},
     "outputs": [
      {
       "metadata": {},
       "output_type": "display_data",
       "png": "[encoded data removed]",
       "text": [
        "<matplotlib.figure.Figure at 0x11ad98d90>"
       ]
      }
     ],
     "prompt_number": 189
    },
    {
     "cell_type": "markdown",
     "metadata": {},
     "source": [
      "Now a pythonic solution using iteration instead of indexing. Also We'll only show the lower triangle\n",
      "of the plot grid. Can you see a difference? Why is this.\n"
     ]
    },
    {
     "cell_type": "code",
     "collapsed": false,
     "input": [
      "n_rows, n_cols, n_freqs = con.shape\n",
      "n_cells = n_cols * n_rows\n",
      "\n",
      "fig, axes = plt.subplots(n_rows, n_cols, sharex=True, sharey=True)\n",
      "plt.suptitle('Between labels connectivity')\n",
      "\n",
      "my_iter = enumerate(zip(axes.flat, \n",
      "                        con.reshape(n_cells, n_freqs),\n",
      "                        [(a, b) for a in names for b in names]))\n",
      "\n",
      "for ii, (ax, my_con, (n1, n2)) in my_iter:\n",
      "   \n",
      "    ax.plot(freqs, my_con)\n",
      "    ax.set_xlim([fmin, fmax])\n",
      "    [ax.axvline(f, color='k') for f in 8, 12, 18, 35]\n",
      "\n",
      "    if ii < n_cols:\n",
      "        ax.set_title(n2)\n",
      "    if not ii % n_rows:\n",
      "        ax.set_ylabel(n1)\n",
      "    if ii >= n_cells - n_rows:\n",
      "        ax.set_xlabel(n2)\n",
      "\n",
      "[ax.set_visible(False) for ax in axes[np.triu_indices(4)]]\n",
      "plt.show()"
     ],
     "language": "python",
     "metadata": {},
     "outputs": [
      {
       "metadata": {},
       "output_type": "display_data",
       "png": "[encoded data removed]",
       "text": [
        "<matplotlib.figure.Figure at 0x11351b910>"
       ]
      }
     ],
     "prompt_number": 190
    },
    {
     "cell_type": "code",
     "collapsed": false,
     "input": [
      "axes[np.triu_indices(4)]"
     ],
     "language": "python",
     "metadata": {},
     "outputs": [
      {
       "metadata": {},
       "output_type": "pyout",
       "prompt_number": 180,
       "text": [
        "array([<matplotlib.axes.AxesSubplot object at 0x112b547d0>,\n",
        "       <matplotlib.axes.AxesSubplot object at 0x10f7e1f50>,\n",
        "       <matplotlib.axes.AxesSubplot object at 0x119180890>,\n",
        "       <matplotlib.axes.AxesSubplot object at 0x112495510>,\n",
        "       <matplotlib.axes.AxesSubplot object at 0x112486d50>,\n",
        "       <matplotlib.axes.AxesSubplot object at 0x112852210>,\n",
        "       <matplotlib.axes.AxesSubplot object at 0x112217150>,\n",
        "       <matplotlib.axes.AxesSubplot object at 0x114b24dd0>,\n",
        "       <matplotlib.axes.AxesSubplot object at 0x11026b050>,\n",
        "       <matplotlib.axes.AxesSubplot object at 0x11264f510>], dtype=object)"
       ]
      }
     ],
     "prompt_number": 180
    }
   ],
   "metadata": {}
  }
 ]
}