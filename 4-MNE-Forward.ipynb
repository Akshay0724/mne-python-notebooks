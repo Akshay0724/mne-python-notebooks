{
 "metadata": {
  "name": ""
 },
 "nbformat": 3,
 "nbformat_minor": 0,
 "worksheets": [
  {
   "cells": [
    {
     "cell_type": "markdown",
     "metadata": {},
     "source": [
      "Create a forward operator and display sensitivity maps\n",
      "======================================================\n",
      "\n",
      "Author: Eric Larson <larson.eric.d@gmail.com>\n",
      "License: BSD (3-clause)"
     ]
    },
    {
     "cell_type": "code",
     "collapsed": false,
     "input": [
      "import mne\n",
      "from mne.datasets import sample\n",
      "data_path = sample.data_path()\n",
      "\n",
      "raw_fname = data_path + '/MEG/sample/sample_audvis_raw.fif'\n",
      "mri = data_path + '/MEG/sample/sample_audvis_raw-trans.fif'\n",
      "src = data_path + '/subjects/sample/bem/sample-oct-6-src.fif'\n",
      "bem = data_path + '/subjects/sample/bem/sample-5120-5120-5120-bem-sol.fif'\n",
      "subjects_dir = data_path + '/subjects'\n"
     ],
     "language": "python",
     "metadata": {},
     "outputs": [],
     "prompt_number": 3
    },
    {
     "cell_type": "code",
     "collapsed": false,
     "input": [
      "fwd = mne.make_forward_solution(raw_fname, mri=mri, src=src, bem=bem,\n",
      "                                fname=None, meg=True, eeg=True, mindist=5.0,\n",
      "                                n_jobs=2, overwrite=True)\n",
      "\n",
      "# convert to surface orientation for better visualization\n",
      "fwd = mne.convert_forward_solution(fwd, surf_ori=True)\n",
      "leadfield = fwd['sol']['data']\n",
      "\n",
      "print \"Leadfield size : %d x %d\" % leadfield.shape\n",
      "\n",
      "grad_map = mne.sensitivity_map(fwd, ch_type='grad', mode='fixed')\n",
      "mag_map = mne.sensitivity_map(fwd, ch_type='mag', mode='fixed')\n",
      "eeg_map = mne.sensitivity_map(fwd, ch_type='eeg', mode='fixed')\n"
     ],
     "language": "python",
     "metadata": {},
     "outputs": [
      {
       "output_type": "stream",
       "stream": "stdout",
       "text": [
        "Source space                 : /Users/dengemann/python/mne-python/examples/MNE-sample-data/subjects/sample/bem/sample-oct-6-src.fif\n"
       ]
      },
      {
       "output_type": "stream",
       "stream": "stdout",
       "text": [
        "MRI -> head transform source : /Users/dengemann/python/mne-python/examples/MNE-sample-data/MEG/sample/sample_audvis_raw-trans.fif\n"
       ]
      },
      {
       "output_type": "stream",
       "stream": "stdout",
       "text": [
        "Measurement data             : /Users/dengemann/python/mne-python/examples/MNE-sample-data/MEG/sample/sample_audvis_raw.fif\n"
       ]
      },
      {
       "output_type": "stream",
       "stream": "stdout",
       "text": [
        "BEM model                    : /Users/dengemann/python/mne-python/examples/MNE-sample-data/subjects/sample/bem/sample-5120-5120-5120-bem-sol.fif\n"
       ]
      },
      {
       "output_type": "stream",
       "stream": "stdout",
       "text": [
        "Accurate field computations\n"
       ]
      },
      {
       "output_type": "stream",
       "stream": "stdout",
       "text": [
        "Do computations in head coordinates\n"
       ]
      },
      {
       "output_type": "stream",
       "stream": "stdout",
       "text": [
        "Free source orientations\n"
       ]
      },
      {
       "output_type": "stream",
       "stream": "stdout",
       "text": [
        "Destination for the solution : None\n"
       ]
      },
      {
       "output_type": "stream",
       "stream": "stdout",
       "text": [
        "\n"
       ]
      },
      {
       "output_type": "stream",
       "stream": "stdout",
       "text": [
        "Reading /Users/dengemann/python/mne-python/examples/MNE-sample-data/subjects/sample/bem/sample-oct-6-src.fif...\n"
       ]
      },
      {
       "output_type": "stream",
       "stream": "stdout",
       "text": [
        "Read 2 source spaces a total of 8196 active source locations\n"
       ]
      },
      {
       "output_type": "stream",
       "stream": "stdout",
       "text": [
        "\n"
       ]
      },
      {
       "output_type": "stream",
       "stream": "stdout",
       "text": [
        "Coordinate transformation: MRI (surface RAS) -> head\n"
       ]
      },
      {
       "output_type": "stream",
       "stream": "stdout",
       "text": [
        "     0.999310  0.009985 -0.035787      -3.17 mm\n"
       ]
      },
      {
       "output_type": "stream",
       "stream": "stdout",
       "text": [
        "     0.012759  0.812405  0.582954       6.86 mm\n"
       ]
      },
      {
       "output_type": "stream",
       "stream": "stdout",
       "text": [
        "     0.034894 -0.583008  0.811716      28.88 mm\n"
       ]
      },
      {
       "output_type": "stream",
       "stream": "stdout",
       "text": [
        "     0.000000  0.000000  0.000000    1000.00 mm\n"
       ]
      },
      {
       "output_type": "stream",
       "stream": "stdout",
       "text": [
        "\n"
       ]
      },
      {
       "output_type": "stream",
       "stream": "stdout",
       "text": [
        "Read 306 MEG channels from sample_audvis_raw.fif\n"
       ]
      },
      {
       "output_type": "stream",
       "stream": "stdout",
       "text": [
        "Coordinate transformation: MEG device -> head\n"
       ]
      },
      {
       "output_type": "stream",
       "stream": "stdout",
       "text": [
        "     0.991420 -0.039936 -0.124467      -6.13 mm\n"
       ]
      },
      {
       "output_type": "stream",
       "stream": "stdout",
       "text": [
        "     0.060661  0.984012  0.167456       0.06 mm\n"
       ]
      },
      {
       "output_type": "stream",
       "stream": "stdout",
       "text": [
        "     0.115790 -0.173570  0.977991      64.74 mm\n"
       ]
      },
      {
       "output_type": "stream",
       "stream": "stdout",
       "text": [
        "     0.000000  0.000000  0.000000    1000.00 mm\n"
       ]
      },
      {
       "output_type": "stream",
       "stream": "stdout",
       "text": [
        "Read  60 EEG channels from sample_audvis_raw.fif\n"
       ]
      },
      {
       "output_type": "stream",
       "stream": "stdout",
       "text": [
        "57 coil definitions read\n"
       ]
      },
      {
       "output_type": "stream",
       "stream": "stdout",
       "text": [
        "Head coordinate coil definitions created.\n"
       ]
      },
      {
       "output_type": "stream",
       "stream": "stdout",
       "text": [
        "Source spaces are now in head coordinates.\n"
       ]
      },
      {
       "output_type": "stream",
       "stream": "stdout",
       "text": [
        "\n"
       ]
      },
      {
       "output_type": "stream",
       "stream": "stdout",
       "text": [
        "Setting up the BEM model using /Users/dengemann/python/mne-python/examples/MNE-sample-data/subjects/sample/bem/sample-5120-5120-5120-bem-sol.fif...\n",
        "\n"
       ]
      },
      {
       "output_type": "stream",
       "stream": "stdout",
       "text": [
        "Loading surfaces...\n"
       ]
      },
      {
       "output_type": "stream",
       "stream": "stdout",
       "text": [
        "Three-layer model surfaces loaded.\n"
       ]
      },
      {
       "output_type": "stream",
       "stream": "stdout",
       "text": [
        "\n",
        "Loading the solution matrix...\n",
        "\n"
       ]
      },
      {
       "output_type": "stream",
       "stream": "stdout",
       "text": [
        "Loaded linear collocation BEM solution from /Users/dengemann/python/mne-python/examples/MNE-sample-data/subjects/sample/bem/sample-5120-5120-5120-bem-sol.fif\n"
       ]
      },
      {
       "output_type": "stream",
       "stream": "stdout",
       "text": [
        "Employing the head->MRI coordinate transform with the BEM model.\n"
       ]
      },
      {
       "output_type": "stream",
       "stream": "stdout",
       "text": [
        "BEM model sample-5120-5120-5120-bem-sol.fif is now set up\n"
       ]
      },
      {
       "output_type": "stream",
       "stream": "stdout",
       "text": [
        "\n"
       ]
      },
      {
       "output_type": "stream",
       "stream": "stdout",
       "text": [
        "Source spaces are in head coordinates.\n"
       ]
      },
      {
       "output_type": "stream",
       "stream": "stdout",
       "text": [
        "Checking that the sources are inside the bounding surface and at least    5.0 mm away (will take a few...)\n"
       ]
      },
      {
       "output_type": "stream",
       "stream": "stdout",
       "text": [
        "2 source space points omitted because they are outside the inner skull surface.\n"
       ]
      },
      {
       "output_type": "stream",
       "stream": "stdout",
       "text": [
        "364 source space points omitted because of the    5.0-mm distance limit.\n"
       ]
      },
      {
       "output_type": "stream",
       "stream": "stderr",
       "text": [
        "[Parallel(n_jobs=2)]: Done   1 out of   2 | elapsed:    2.8s remaining:    2.8s\n",
        "[Parallel(n_jobs=2)]: Done   2 out of   2 | elapsed:    2.8s finished\n"
       ]
      },
      {
       "output_type": "stream",
       "stream": "stdout",
       "text": [
        "1 source space point omitted because it is outside the inner skull surface.\n"
       ]
      },
      {
       "output_type": "stream",
       "stream": "stdout",
       "text": [
        "331 source space point omitted because of the    5.0-mm distance limit.\n"
       ]
      },
      {
       "output_type": "stream",
       "stream": "stdout",
       "text": [
        "Thank you for waiting.\n"
       ]
      },
      {
       "output_type": "stream",
       "stream": "stdout",
       "text": [
        "\n"
       ]
      },
      {
       "output_type": "stream",
       "stream": "stdout",
       "text": [
        "Setting up compensation data...\n"
       ]
      },
      {
       "output_type": "stream",
       "stream": "stdout",
       "text": [
        "    No compensation set. Nothing more to do.\n"
       ]
      },
      {
       "output_type": "stream",
       "stream": "stdout",
       "text": [
        "\n"
       ]
      },
      {
       "output_type": "stream",
       "stream": "stdout",
       "text": [
        "Composing the field computation matrix...\n"
       ]
      },
      {
       "output_type": "stream",
       "stream": "stderr",
       "text": [
        "[Parallel(n_jobs=2)]: Done   1 out of   2 | elapsed:    3.0s remaining:    3.0s\n",
        "[Parallel(n_jobs=2)]: Done   2 out of   2 | elapsed:    3.0s finished\n"
       ]
      },
      {
       "output_type": "stream",
       "stream": "stderr",
       "text": [
        "[Parallel(n_jobs=2)]: Done   1 out of   2 | elapsed:    3.8s remaining:    3.8s\n",
        "[Parallel(n_jobs=2)]: Done   2 out of   2 | elapsed:    3.8s finished\n"
       ]
      },
      {
       "output_type": "stream",
       "stream": "stderr",
       "text": [
        "[Parallel(n_jobs=2)]: Done   1 out of   2 | elapsed:    4.3s remaining:    4.3s\n",
        "[Parallel(n_jobs=2)]: Done   2 out of   2 | elapsed:    4.3s finished\n"
       ]
      },
      {
       "output_type": "stream",
       "stream": "stdout",
       "text": [
        "Computing MEG at 7498 source locations (free orientations)...\n"
       ]
      },
      {
       "output_type": "stream",
       "stream": "stderr",
       "text": [
        "[Parallel(n_jobs=2)]: Done   1 out of   2 | elapsed:    3.5s remaining:    3.5s\n",
        "[Parallel(n_jobs=2)]: Done   2 out of   2 | elapsed:    3.6s finished\n"
       ]
      },
      {
       "output_type": "stream",
       "stream": "stderr",
       "text": [
        "[Parallel(n_jobs=2)]: Done   1 out of   2 | elapsed:    6.7s remaining:    6.7s\n",
        "[Parallel(n_jobs=2)]: Done   2 out of   2 | elapsed:    6.8s finished\n"
       ]
      },
      {
       "output_type": "stream",
       "stream": "stdout",
       "text": [
        "Computing EEG at 7498 source locations (free orientations)...\n"
       ]
      },
      {
       "output_type": "stream",
       "stream": "stderr",
       "text": [
        "[Parallel(n_jobs=2)]: Done   1 out of   2 | elapsed:    6.7s remaining:    6.7s\n",
        "[Parallel(n_jobs=2)]: Done   2 out of   2 | elapsed:    6.7s finished\n"
       ]
      },
      {
       "output_type": "stream",
       "stream": "stdout",
       "text": [
        "\n"
       ]
      },
      {
       "output_type": "stream",
       "stream": "stdout",
       "text": [
        "Finished.\n"
       ]
      },
      {
       "output_type": "stream",
       "stream": "stdout",
       "text": [
        "    Converting to surface-based source orientations...\n"
       ]
      },
      {
       "output_type": "stream",
       "stream": "stdout",
       "text": [
        "[done]\n"
       ]
      },
      {
       "output_type": "stream",
       "stream": "stdout",
       "text": [
        "Leadfield size : 366 x 22494\n",
        "    204 out of 366 channels remain after picking\n"
       ]
      },
      {
       "output_type": "stream",
       "stream": "stdout",
       "text": [
        "    102 out of 366 channels remain after picking\n"
       ]
      },
      {
       "output_type": "stream",
       "stream": "stdout",
       "text": [
        "    60 out of 366 channels remain after picking\n"
       ]
      },
      {
       "output_type": "stream",
       "stream": "stdout",
       "text": [
        "Adding average EEG reference projection.\n"
       ]
      },
      {
       "output_type": "stream",
       "stream": "stderr",
       "text": [
        "[Parallel(n_jobs=2)]: Done   1 out of   2 | elapsed:    4.3s remaining:    4.3s\n",
        "[Parallel(n_jobs=2)]: Done   2 out of   2 | elapsed:    4.3s finished\n"
       ]
      }
     ],
     "prompt_number": 4
    },
    {
     "cell_type": "code",
     "collapsed": false,
     "input": [
      "###############################################################################\n",
      "# Show gain matrix a.k.a. leadfield matrix with sensitivy map\n",
      "\n",
      "import matplotlib.pyplot as plt\n",
      "# notebook inline plotting\n",
      "%pylab --no-import-all inline \n",
      "\n",
      "plt.matshow(leadfield[:, :500])\n",
      "plt.xlabel('sources')\n",
      "plt.ylabel('sensors')\n",
      "plt.title('Lead field matrix (500 dipoles only)')\n",
      "\n",
      "plt.figure()\n",
      "plt.hist([grad_map.data.ravel(), mag_map.data.ravel(), eeg_map.data.ravel()],\n",
      "         bins=20, label=['Gradiometers', 'Magnetometers', 'EEG'])\n",
      "plt.legend()\n",
      "plt.title('Normal orientation sensitivity')\n",
      "plt.show()\n",
      "\n",
      "# enable correct backend for 3d plotting\n",
      "%pylab qt4\n",
      "args = dict(fmin=0.1, fmid=0.5, fmax=0.9, smoothing_steps=7)\n",
      "grad_map.plot(subject='sample', time_label='Gradiometer sensitivity',\n",
      "              subjects_dir=subjects_dir, **args)"
     ],
     "language": "python",
     "metadata": {},
     "outputs": [
      {
       "output_type": "stream",
       "stream": "stdout",
       "text": [
        "Populating the interactive namespace from numpy and matplotlib\n"
       ]
      },
      {
       "metadata": {},
       "output_type": "display_data",
       "png": "[encoded data removed]",
       "text": [
        "<matplotlib.figure.Figure at 0x11172cb50>"
       ]
      },
      {
       "metadata": {},
       "output_type": "display_data",
       "png": "[encoded data removed]",
       "text": [
        "<matplotlib.figure.Figure at 0x11172cad0>"
       ]
      },
      {
       "output_type": "stream",
       "stream": "stderr",
       "text": [
        "WARNING: pylab import has clobbered these variables: ['sample']\n",
        "`%pylab --no-import-all` prevents importing * from pylab and numpy\n",
        "INFO:surfer:Updating smoothing matrix, be patient..\n"
       ]
      },
      {
       "output_type": "stream",
       "stream": "stderr",
       "text": [
        "INFO:surfer:Smoothing matrix creation, step 1\n"
       ]
      },
      {
       "output_type": "stream",
       "stream": "stderr",
       "text": [
        "INFO:surfer:Smoothing matrix creation, step 2\n"
       ]
      },
      {
       "output_type": "stream",
       "stream": "stderr",
       "text": [
        "INFO:surfer:Smoothing matrix creation, step 3\n"
       ]
      },
      {
       "output_type": "stream",
       "stream": "stderr",
       "text": [
        "INFO:surfer:Smoothing matrix creation, step 4\n"
       ]
      },
      {
       "output_type": "stream",
       "stream": "stderr",
       "text": [
        "INFO:surfer:Smoothing matrix creation, step 5\n"
       ]
      },
      {
       "output_type": "stream",
       "stream": "stderr",
       "text": [
        "INFO:surfer:Smoothing matrix creation, step 6\n"
       ]
      },
      {
       "output_type": "stream",
       "stream": "stderr",
       "text": [
        "INFO:surfer:Smoothing matrix creation, step 7\n"
       ]
      },
      {
       "output_type": "stream",
       "stream": "stderr",
       "text": [
        "INFO:surfer:colormap: fmin=1.00e-01 fmid=5.00e-01 fmax=9.00e-01 transparent=1\n"
       ]
      },
      {
       "output_type": "stream",
       "stream": "stdout",
       "text": [
        "Populating the interactive namespace from numpy and matplotlib\n"
       ]
      },
      {
       "metadata": {},
       "output_type": "pyout",
       "prompt_number": 6,
       "text": [
        "<surfer.viz.Brain at 0x125830c50>"
       ]
      }
     ],
     "prompt_number": 6
    },
    {
     "cell_type": "code",
     "collapsed": false,
     "input": [],
     "language": "python",
     "metadata": {},
     "outputs": []
    }
   ],
   "metadata": {}
  }
 ]
}