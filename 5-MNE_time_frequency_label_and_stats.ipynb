{
 "metadata": {
  "name": ""
 },
 "nbformat": 3,
 "nbformat_minor": 0,
 "worksheets": [
  {
   "cells": [
    {
     "cell_type": "markdown",
     "metadata": {},
     "source": [
      "# Plot time-frequency representations on topographies for MEG sensor\n",
      "\n",
      "Both induced power and phase locking values are displayed.\n",
      "\n",
      "Authors: Alexandre Gramfort <alexandre.gramfort@telecom-paristech.fr> and Denis Engemann <d.engemann@fz-juelich.de>\n",
      "License: BSD (3-clause)\n"
     ]
    },
    {
     "cell_type": "code",
     "collapsed": false,
     "input": [
      "# add plot inline in the page\n",
      "%pylab --no-import-all inline"
     ],
     "language": "python",
     "metadata": {},
     "outputs": [
      {
       "output_type": "stream",
       "stream": "stdout",
       "text": [
        "Populating the interactive namespace from numpy and matplotlib\n"
       ]
      }
     ],
     "prompt_number": 1
    },
    {
     "cell_type": "code",
     "collapsed": false,
     "input": [
      "###############################################################################\n",
      "# Calculate power and phase locking value\n",
      "\n",
      "import numpy as np\n",
      "import matplotlib.pyplot as plt\n",
      "import mne\n",
      "from mne import fiff\n",
      "from mne.time_frequency import induced_power\n",
      "from mne.viz import plot_topo_power, plot_topo_phase_lock\n",
      "from mne.datasets import sample\n",
      "\n",
      "data_path = sample.data_path()\n",
      "\n",
      "raw_fname = data_path + '/MEG/sample/sample_audvis_raw.fif'\n",
      "event_fname = data_path + '/MEG/sample/sample_audvis_raw-eve.fif'\n",
      "event_id, tmin, tmax = 1, -0.2, 0.5\n",
      "\n",
      "# Setup for reading the raw data\n",
      "raw = fiff.Raw(raw_fname)\n",
      "events = mne.read_events(event_fname)\n",
      "\n",
      "include = []\n",
      "raw.info['bads'] += ['MEG 2443']\n",
      "\n",
      "# picks MEG gradiometers\n",
      "picks = fiff.pick_types(raw.info, meg='grad', eeg=False, eog=True,\n",
      "                        stim=False, include=include, exclude='bads')\n",
      "\n",
      "epochs = mne.Epochs(raw, events, event_id, tmin, tmax, picks=picks,\n",
      "                    baseline=(None, 0), reject=dict(grad=4000e-13, eog=150e-6))\n",
      "data = epochs.get_data()  # as 3D matrix"
     ],
     "language": "python",
     "metadata": {},
     "outputs": [
      {
       "output_type": "stream",
       "stream": "stdout",
       "text": [
        "Opening raw data file /Users/dengemann/python/mne-python/examples/MNE-sample-data/MEG/sample/sample_audvis_raw.fif...\n"
       ]
      },
      {
       "output_type": "stream",
       "stream": "stdout",
       "text": [
        "    Read a total of 3 projection items:\n"
       ]
      },
      {
       "output_type": "stream",
       "stream": "stdout",
       "text": [
        "        PCA-v1 (1 x 102)  idle\n"
       ]
      },
      {
       "output_type": "stream",
       "stream": "stdout",
       "text": [
        "        PCA-v2 (1 x 102)  idle\n"
       ]
      },
      {
       "output_type": "stream",
       "stream": "stdout",
       "text": [
        "        PCA-v3 (1 x 102)  idle\n"
       ]
      },
      {
       "output_type": "stream",
       "stream": "stdout",
       "text": [
        "Current compensation grade : 0\n"
       ]
      },
      {
       "output_type": "stream",
       "stream": "stdout",
       "text": [
        "    Range : 25800 ... 192599 =     42.956 ...   320.670 secs\n"
       ]
      },
      {
       "output_type": "stream",
       "stream": "stdout",
       "text": [
        "Ready.\n"
       ]
      },
      {
       "output_type": "stream",
       "stream": "stdout",
       "text": [
        "Adding average EEG reference projection.\n"
       ]
      },
      {
       "output_type": "stream",
       "stream": "stdout",
       "text": [
        "4 projection items activated\n"
       ]
      },
      {
       "output_type": "stream",
       "stream": "stdout",
       "text": [
        "72 matching events found\n"
       ]
      },
      {
       "output_type": "stream",
       "stream": "stdout",
       "text": [
        "Reading 2851 ... 3271  =      4.747 ...     5.446 secs...\n"
       ]
      },
      {
       "output_type": "stream",
       "stream": "stdout",
       "text": [
        "[done]\n"
       ]
      },
      {
       "output_type": "stream",
       "stream": "stdout",
       "text": [
        "Applying baseline correction ... (mode: mean)\n"
       ]
      },
      {
       "output_type": "stream",
       "stream": "stdout",
       "text": [
        "Reading 4530 ... 4950  =      7.542 ...     8.242 secs...\n"
       ]
      },
      {
       "output_type": "stream",
       "stream": "stdout",
       "text": [
        "[done]\n"
       ]
      },
      {
       "output_type": "stream",
       "stream": "stdout",
       "text": [
        "Applying baseline correction ... (mode: mean)\n"
       ]
      },
      {
       "output_type": "stream",
       "stream": "stdout",
       "text": [
        "Reading 6181 ... 6601  =     10.291 ...    10.990 secs...\n"
       ]
      },
      {
       "output_type": "stream",
       "stream": "stdout",
       "text": [
        "[done]\n"
       ]
      },
      {
       "output_type": "stream",
       "stream": "stdout",
       "text": [
        "Applying baseline correction ... (mode: mean)\n"
       ]
      },
      {
       "output_type": "stream",
       "stream": "stdout",
       "text": [
        "Reading 7792 ... 8212  =     12.973 ...    13.673 secs...\n"
       ]
      },
      {
       "output_type": "stream",
       "stream": "stdout",
       "text": [
        "[done]\n"
       ]
      },
      {
       "output_type": "stream",
       "stream": "stdout",
       "text": [
        "Applying baseline correction ... (mode: mean)\n"
       ]
      },
      {
       "output_type": "stream",
       "stream": "stdout",
       "text": [
        "Reading 9508 ... 9928  =     15.830 ...    16.530 secs...\n"
       ]
      },
      {
       "output_type": "stream",
       "stream": "stdout",
       "text": [
        "[done]\n"
       ]
      },
      {
       "output_type": "stream",
       "stream": "stdout",
       "text": [
        "Applying baseline correction ... (mode: mean)\n"
       ]
      },
      {
       "output_type": "stream",
       "stream": "stdout",
       "text": [
        "Reading 11087 ... 11507  =     18.459 ...    19.159 secs...\n"
       ]
      },
      {
       "output_type": "stream",
       "stream": "stdout",
       "text": [
        "[done]\n"
       ]
      },
      {
       "output_type": "stream",
       "stream": "stdout",
       "text": [
        "Applying baseline correction ... (mode: mean)\n"
       ]
      },
      {
       "output_type": "stream",
       "stream": "stdout",
       "text": [
        "Reading 12791 ... 13211  =     21.297 ...    21.996 secs...\n"
       ]
      },
      {
       "output_type": "stream",
       "stream": "stdout",
       "text": [
        "[done]\n"
       ]
      },
      {
       "output_type": "stream",
       "stream": "stdout",
       "text": [
        "Applying baseline correction ... (mode: mean)\n"
       ]
      },
      {
       "output_type": "stream",
       "stream": "stdout",
       "text": [
        "Reading 14485 ... 14905  =     24.117 ...    24.816 secs...\n"
       ]
      },
      {
       "output_type": "stream",
       "stream": "stdout",
       "text": [
        "[done]\n"
       ]
      },
      {
       "output_type": "stream",
       "stream": "stdout",
       "text": [
        "Applying baseline correction ... (mode: mean)\n"
       ]
      },
      {
       "output_type": "stream",
       "stream": "stdout",
       "text": [
        "Reading 16206 ... 16626  =     26.982 ...    27.682 secs...\n"
       ]
      },
      {
       "output_type": "stream",
       "stream": "stdout",
       "text": [
        "[done]\n"
       ]
      },
      {
       "output_type": "stream",
       "stream": "stdout",
       "text": [
        "Applying baseline correction ... (mode: mean)\n"
       ]
      },
      {
       "output_type": "stream",
       "stream": "stdout",
       "text": [
        "Reading 17861 ... 18281  =     29.738 ...    30.437 secs...\n"
       ]
      },
      {
       "output_type": "stream",
       "stream": "stdout",
       "text": [
        "[done]\n"
       ]
      },
      {
       "output_type": "stream",
       "stream": "stdout",
       "text": [
        "Applying baseline correction ... (mode: mean)\n"
       ]
      },
      {
       "output_type": "stream",
       "stream": "stdout",
       "text": [
        "Reading 19566 ... 19986  =     32.577 ...    33.276 secs...\n"
       ]
      },
      {
       "output_type": "stream",
       "stream": "stdout",
       "text": [
        "[done]\n"
       ]
      },
      {
       "output_type": "stream",
       "stream": "stdout",
       "text": [
        "Applying baseline correction ... (mode: mean)\n"
       ]
      },
      {
       "output_type": "stream",
       "stream": "stdout",
       "text": [
        "    Rejecting  epoch based on EOG : ['EOG 061']\n"
       ]
      },
      {
       "output_type": "stream",
       "stream": "stdout",
       "text": [
        "Reading 21175 ... 21595  =     35.256 ...    35.955 secs...\n"
       ]
      },
      {
       "output_type": "stream",
       "stream": "stdout",
       "text": [
        "[done]\n"
       ]
      },
      {
       "output_type": "stream",
       "stream": "stdout",
       "text": [
        "Applying baseline correction ... (mode: mean)\n"
       ]
      },
      {
       "output_type": "stream",
       "stream": "stdout",
       "text": [
        "Reading 22802 ... 23222  =     37.964 ...    38.664 secs...\n"
       ]
      },
      {
       "output_type": "stream",
       "stream": "stdout",
       "text": [
        "[done]\n"
       ]
      },
      {
       "output_type": "stream",
       "stream": "stdout",
       "text": [
        "Applying baseline correction ... (mode: mean)\n"
       ]
      },
      {
       "output_type": "stream",
       "stream": "stdout",
       "text": [
        "Reading 24349 ... 24769  =     40.540 ...    41.239 secs...\n"
       ]
      },
      {
       "output_type": "stream",
       "stream": "stdout",
       "text": [
        "[done]\n"
       ]
      },
      {
       "output_type": "stream",
       "stream": "stdout",
       "text": [
        "Applying baseline correction ... (mode: mean)\n"
       ]
      },
      {
       "output_type": "stream",
       "stream": "stdout",
       "text": [
        "Reading 25961 ... 26381  =     43.224 ...    43.923 secs...\n"
       ]
      },
      {
       "output_type": "stream",
       "stream": "stdout",
       "text": [
        "[done]\n"
       ]
      },
      {
       "output_type": "stream",
       "stream": "stdout",
       "text": [
        "Applying baseline correction ... (mode: mean)\n"
       ]
      },
      {
       "output_type": "stream",
       "stream": "stdout",
       "text": [
        "    Rejecting  epoch based on EOG : ['EOG 061']\n"
       ]
      },
      {
       "output_type": "stream",
       "stream": "stdout",
       "text": [
        "Reading 27574 ... 27994  =     45.910 ...    46.609 secs...\n"
       ]
      },
      {
       "output_type": "stream",
       "stream": "stdout",
       "text": [
        "[done]\n"
       ]
      },
      {
       "output_type": "stream",
       "stream": "stdout",
       "text": [
        "Applying baseline correction ... (mode: mean)\n"
       ]
      },
      {
       "output_type": "stream",
       "stream": "stdout",
       "text": [
        "    Rejecting  epoch based on EOG : ['EOG 061']\n"
       ]
      },
      {
       "output_type": "stream",
       "stream": "stdout",
       "text": [
        "Reading 29180 ... 29600  =     48.584 ...    49.283 secs...\n"
       ]
      },
      {
       "output_type": "stream",
       "stream": "stdout",
       "text": [
        "[done]\n"
       ]
      },
      {
       "output_type": "stream",
       "stream": "stdout",
       "text": [
        "Applying baseline correction ... (mode: mean)\n"
       ]
      },
      {
       "output_type": "stream",
       "stream": "stdout",
       "text": [
        "Reading 30797 ... 31217  =     51.276 ...    51.975 secs...\n"
       ]
      },
      {
       "output_type": "stream",
       "stream": "stdout",
       "text": [
        "[done]\n"
       ]
      },
      {
       "output_type": "stream",
       "stream": "stdout",
       "text": [
        "Applying baseline correction ... (mode: mean)\n"
       ]
      },
      {
       "output_type": "stream",
       "stream": "stdout",
       "text": [
        "Reading 32528 ... 32948  =     54.158 ...    54.857 secs...\n"
       ]
      },
      {
       "output_type": "stream",
       "stream": "stdout",
       "text": [
        "[done]\n"
       ]
      },
      {
       "output_type": "stream",
       "stream": "stdout",
       "text": [
        "Applying baseline correction ... (mode: mean)\n"
       ]
      },
      {
       "output_type": "stream",
       "stream": "stdout",
       "text": [
        "Reading 34209 ... 34629  =     56.957 ...    57.656 secs...\n"
       ]
      },
      {
       "output_type": "stream",
       "stream": "stdout",
       "text": [
        "[done]\n"
       ]
      },
      {
       "output_type": "stream",
       "stream": "stdout",
       "text": [
        "Applying baseline correction ... (mode: mean)\n"
       ]
      },
      {
       "output_type": "stream",
       "stream": "stdout",
       "text": [
        "Reading 35948 ... 36368  =     59.852 ...    60.551 secs...\n"
       ]
      },
      {
       "output_type": "stream",
       "stream": "stdout",
       "text": [
        "[done]\n"
       ]
      },
      {
       "output_type": "stream",
       "stream": "stdout",
       "text": [
        "Applying baseline correction ... (mode: mean)\n"
       ]
      },
      {
       "output_type": "stream",
       "stream": "stdout",
       "text": [
        "    Rejecting  epoch based on EOG : ['EOG 061']\n"
       ]
      },
      {
       "output_type": "stream",
       "stream": "stdout",
       "text": [
        "Reading 37612 ... 38032  =     62.622 ...    63.322 secs...\n"
       ]
      },
      {
       "output_type": "stream",
       "stream": "stdout",
       "text": [
        "[done]\n"
       ]
      },
      {
       "output_type": "stream",
       "stream": "stdout",
       "text": [
        "Applying baseline correction ... (mode: mean)\n"
       ]
      },
      {
       "output_type": "stream",
       "stream": "stdout",
       "text": [
        "Reading 39261 ... 39681  =     65.368 ...    66.067 secs...\n"
       ]
      },
      {
       "output_type": "stream",
       "stream": "stdout",
       "text": [
        "[done]\n"
       ]
      },
      {
       "output_type": "stream",
       "stream": "stdout",
       "text": [
        "Applying baseline correction ... (mode: mean)\n"
       ]
      },
      {
       "output_type": "stream",
       "stream": "stdout",
       "text": [
        "Reading 41044 ... 41464  =     68.337 ...    69.036 secs...\n"
       ]
      },
      {
       "output_type": "stream",
       "stream": "stdout",
       "text": [
        "[done]\n"
       ]
      },
      {
       "output_type": "stream",
       "stream": "stdout",
       "text": [
        "Applying baseline correction ... (mode: mean)\n"
       ]
      },
      {
       "output_type": "stream",
       "stream": "stdout",
       "text": [
        "Reading 42746 ... 43166  =     71.170 ...    71.870 secs...\n"
       ]
      },
      {
       "output_type": "stream",
       "stream": "stdout",
       "text": [
        "[done]\n"
       ]
      },
      {
       "output_type": "stream",
       "stream": "stdout",
       "text": [
        "Applying baseline correction ... (mode: mean)\n"
       ]
      },
      {
       "output_type": "stream",
       "stream": "stdout",
       "text": [
        "    Rejecting  epoch based on EOG : ['EOG 061']\n"
       ]
      },
      {
       "output_type": "stream",
       "stream": "stdout",
       "text": [
        "Reading 44339 ... 44759  =     73.823 ...    74.522 secs...\n"
       ]
      },
      {
       "output_type": "stream",
       "stream": "stdout",
       "text": [
        "[done]\n"
       ]
      },
      {
       "output_type": "stream",
       "stream": "stdout",
       "text": [
        "Applying baseline correction ... (mode: mean)\n"
       ]
      },
      {
       "output_type": "stream",
       "stream": "stdout",
       "text": [
        "Reading 46071 ... 46491  =     76.706 ...    77.406 secs...\n"
       ]
      },
      {
       "output_type": "stream",
       "stream": "stdout",
       "text": [
        "[done]\n"
       ]
      },
      {
       "output_type": "stream",
       "stream": "stdout",
       "text": [
        "Applying baseline correction ... (mode: mean)\n"
       ]
      },
      {
       "output_type": "stream",
       "stream": "stdout",
       "text": [
        "Reading 47798 ... 48218  =     79.582 ...    80.281 secs...\n"
       ]
      },
      {
       "output_type": "stream",
       "stream": "stdout",
       "text": [
        "[done]\n"
       ]
      },
      {
       "output_type": "stream",
       "stream": "stdout",
       "text": [
        "Applying baseline correction ... (mode: mean)\n"
       ]
      },
      {
       "output_type": "stream",
       "stream": "stdout",
       "text": [
        "Reading 50974 ... 51394  =     84.870 ...    85.569 secs...\n"
       ]
      },
      {
       "output_type": "stream",
       "stream": "stdout",
       "text": [
        "[done]\n"
       ]
      },
      {
       "output_type": "stream",
       "stream": "stdout",
       "text": [
        "Applying baseline correction ... (mode: mean)\n"
       ]
      },
      {
       "output_type": "stream",
       "stream": "stdout",
       "text": [
        "Reading 52619 ... 53039  =     87.609 ...    88.308 secs...\n"
       ]
      },
      {
       "output_type": "stream",
       "stream": "stdout",
       "text": [
        "[done]\n"
       ]
      },
      {
       "output_type": "stream",
       "stream": "stdout",
       "text": [
        "Applying baseline correction ... (mode: mean)\n"
       ]
      },
      {
       "output_type": "stream",
       "stream": "stdout",
       "text": [
        "Reading 54289 ... 54709  =     90.389 ...    91.088 secs...\n"
       ]
      },
      {
       "output_type": "stream",
       "stream": "stdout",
       "text": [
        "[done]\n"
       ]
      },
      {
       "output_type": "stream",
       "stream": "stdout",
       "text": [
        "Applying baseline correction ... (mode: mean)\n"
       ]
      },
      {
       "output_type": "stream",
       "stream": "stdout",
       "text": [
        "Reading 55991 ... 56411  =     93.223 ...    93.922 secs...\n"
       ]
      },
      {
       "output_type": "stream",
       "stream": "stdout",
       "text": [
        "[done]\n"
       ]
      },
      {
       "output_type": "stream",
       "stream": "stdout",
       "text": [
        "Applying baseline correction ... (mode: mean)\n"
       ]
      },
      {
       "output_type": "stream",
       "stream": "stdout",
       "text": [
        "Reading 57648 ... 58068  =     95.982 ...    96.681 secs...\n"
       ]
      },
      {
       "output_type": "stream",
       "stream": "stdout",
       "text": [
        "[done]\n"
       ]
      },
      {
       "output_type": "stream",
       "stream": "stdout",
       "text": [
        "Applying baseline correction ... (mode: mean)\n"
       ]
      },
      {
       "output_type": "stream",
       "stream": "stdout",
       "text": [
        "Reading 59379 ... 59799  =     98.864 ...    99.563 secs...\n"
       ]
      },
      {
       "output_type": "stream",
       "stream": "stdout",
       "text": [
        "[done]\n"
       ]
      },
      {
       "output_type": "stream",
       "stream": "stdout",
       "text": [
        "Applying baseline correction ... (mode: mean)\n"
       ]
      },
      {
       "output_type": "stream",
       "stream": "stdout",
       "text": [
        "Reading 61051 ... 61471  =    101.647 ...   102.347 secs...\n"
       ]
      },
      {
       "output_type": "stream",
       "stream": "stdout",
       "text": [
        "[done]\n"
       ]
      },
      {
       "output_type": "stream",
       "stream": "stdout",
       "text": [
        "Applying baseline correction ... (mode: mean)\n"
       ]
      },
      {
       "output_type": "stream",
       "stream": "stdout",
       "text": [
        "    Rejecting  epoch based on EOG : ['EOG 061']\n"
       ]
      },
      {
       "output_type": "stream",
       "stream": "stdout",
       "text": [
        "Reading 62673 ... 63093  =    104.348 ...   105.047 secs...\n"
       ]
      },
      {
       "output_type": "stream",
       "stream": "stdout",
       "text": [
        "[done]\n"
       ]
      },
      {
       "output_type": "stream",
       "stream": "stdout",
       "text": [
        "Applying baseline correction ... (mode: mean)\n"
       ]
      },
      {
       "output_type": "stream",
       "stream": "stdout",
       "text": [
        "Reading 64499 ... 64919  =    107.388 ...   108.088 secs...\n"
       ]
      },
      {
       "output_type": "stream",
       "stream": "stdout",
       "text": [
        "[done]\n"
       ]
      },
      {
       "output_type": "stream",
       "stream": "stdout",
       "text": [
        "Applying baseline correction ... (mode: mean)\n"
       ]
      },
      {
       "output_type": "stream",
       "stream": "stdout",
       "text": [
        "Reading 66118 ... 66538  =    110.084 ...   110.783 secs...\n"
       ]
      },
      {
       "output_type": "stream",
       "stream": "stdout",
       "text": [
        "[done]\n"
       ]
      },
      {
       "output_type": "stream",
       "stream": "stdout",
       "text": [
        "Applying baseline correction ... (mode: mean)\n"
       ]
      },
      {
       "output_type": "stream",
       "stream": "stdout",
       "text": [
        "Reading 67749 ... 68169  =    112.799 ...   113.499 secs...\n"
       ]
      },
      {
       "output_type": "stream",
       "stream": "stdout",
       "text": [
        "[done]\n"
       ]
      },
      {
       "output_type": "stream",
       "stream": "stdout",
       "text": [
        "Applying baseline correction ... (mode: mean)\n"
       ]
      },
      {
       "output_type": "stream",
       "stream": "stdout",
       "text": [
        "    Rejecting  epoch based on EOG : ['EOG 061']\n"
       ]
      },
      {
       "output_type": "stream",
       "stream": "stdout",
       "text": [
        "Reading 69515 ... 69935  =    115.740 ...   116.439 secs...\n"
       ]
      },
      {
       "output_type": "stream",
       "stream": "stdout",
       "text": [
        "[done]\n"
       ]
      },
      {
       "output_type": "stream",
       "stream": "stdout",
       "text": [
        "Applying baseline correction ... (mode: mean)\n"
       ]
      },
      {
       "output_type": "stream",
       "stream": "stdout",
       "text": [
        "Reading 71314 ... 71734  =    118.735 ...   119.434 secs...\n"
       ]
      },
      {
       "output_type": "stream",
       "stream": "stdout",
       "text": [
        "[done]\n"
       ]
      },
      {
       "output_type": "stream",
       "stream": "stdout",
       "text": [
        "Applying baseline correction ... (mode: mean)\n"
       ]
      },
      {
       "output_type": "stream",
       "stream": "stdout",
       "text": [
        "Reading 72983 ... 73403  =    121.514 ...   122.213 secs...\n"
       ]
      },
      {
       "output_type": "stream",
       "stream": "stdout",
       "text": [
        "[done]\n"
       ]
      },
      {
       "output_type": "stream",
       "stream": "stdout",
       "text": [
        "Applying baseline correction ... (mode: mean)\n"
       ]
      },
      {
       "output_type": "stream",
       "stream": "stdout",
       "text": [
        "    Rejecting  epoch based on EOG : ['EOG 061']\n"
       ]
      },
      {
       "output_type": "stream",
       "stream": "stdout",
       "text": [
        "Reading 74700 ... 75120  =    124.373 ...   125.072 secs...\n"
       ]
      },
      {
       "output_type": "stream",
       "stream": "stdout",
       "text": [
        "[done]\n"
       ]
      },
      {
       "output_type": "stream",
       "stream": "stdout",
       "text": [
        "Applying baseline correction ... (mode: mean)\n"
       ]
      },
      {
       "output_type": "stream",
       "stream": "stdout",
       "text": [
        "Reading 76368 ... 76788  =    127.150 ...   127.849 secs...\n"
       ]
      },
      {
       "output_type": "stream",
       "stream": "stdout",
       "text": [
        "[done]\n"
       ]
      },
      {
       "output_type": "stream",
       "stream": "stdout",
       "text": [
        "Applying baseline correction ... (mode: mean)\n"
       ]
      },
      {
       "output_type": "stream",
       "stream": "stdout",
       "text": [
        "Reading 78113 ... 78533  =    130.055 ...   130.754 secs...\n"
       ]
      },
      {
       "output_type": "stream",
       "stream": "stdout",
       "text": [
        "[done]\n"
       ]
      },
      {
       "output_type": "stream",
       "stream": "stdout",
       "text": [
        "Applying baseline correction ... (mode: mean)\n"
       ]
      },
      {
       "output_type": "stream",
       "stream": "stdout",
       "text": [
        "    Rejecting  epoch based on EOG : ['EOG 061']\n"
       ]
      },
      {
       "output_type": "stream",
       "stream": "stdout",
       "text": [
        "Reading 79840 ... 80260  =    132.930 ...   133.630 secs...\n"
       ]
      },
      {
       "output_type": "stream",
       "stream": "stdout",
       "text": [
        "[done]\n"
       ]
      },
      {
       "output_type": "stream",
       "stream": "stdout",
       "text": [
        "Applying baseline correction ... (mode: mean)\n"
       ]
      },
      {
       "output_type": "stream",
       "stream": "stdout",
       "text": [
        "    Rejecting  epoch based on EOG : ['EOG 061']\n"
       ]
      },
      {
       "output_type": "stream",
       "stream": "stdout",
       "text": [
        "Reading 81435 ... 81855  =    135.586 ...   136.285 secs...\n"
       ]
      },
      {
       "output_type": "stream",
       "stream": "stdout",
       "text": [
        "[done]\n"
       ]
      },
      {
       "output_type": "stream",
       "stream": "stdout",
       "text": [
        "Applying baseline correction ... (mode: mean)\n"
       ]
      },
      {
       "output_type": "stream",
       "stream": "stdout",
       "text": [
        "Reading 84654 ... 85074  =    140.946 ...   141.645 secs...\n"
       ]
      },
      {
       "output_type": "stream",
       "stream": "stdout",
       "text": [
        "[done]\n"
       ]
      },
      {
       "output_type": "stream",
       "stream": "stdout",
       "text": [
        "Applying baseline correction ... (mode: mean)\n"
       ]
      },
      {
       "output_type": "stream",
       "stream": "stdout",
       "text": [
        "    Rejecting  epoch based on EOG : ['EOG 061']\n"
       ]
      },
      {
       "output_type": "stream",
       "stream": "stdout",
       "text": [
        "Reading 86372 ... 86792  =    143.806 ...   144.505 secs...\n"
       ]
      },
      {
       "output_type": "stream",
       "stream": "stdout",
       "text": [
        "[done]\n"
       ]
      },
      {
       "output_type": "stream",
       "stream": "stdout",
       "text": [
        "Applying baseline correction ... (mode: mean)\n"
       ]
      },
      {
       "output_type": "stream",
       "stream": "stdout",
       "text": [
        "    Rejecting  epoch based on EOG : ['EOG 061']\n"
       ]
      },
      {
       "output_type": "stream",
       "stream": "stdout",
       "text": [
        "Reading 88032 ... 88452  =    146.570 ...   147.269 secs...\n"
       ]
      },
      {
       "output_type": "stream",
       "stream": "stdout",
       "text": [
        "[done]\n"
       ]
      },
      {
       "output_type": "stream",
       "stream": "stdout",
       "text": [
        "Applying baseline correction ... (mode: mean)\n"
       ]
      },
      {
       "output_type": "stream",
       "stream": "stdout",
       "text": [
        "Reading 89699 ... 90119  =    149.345 ...   150.045 secs...\n"
       ]
      },
      {
       "output_type": "stream",
       "stream": "stdout",
       "text": [
        "[done]\n"
       ]
      },
      {
       "output_type": "stream",
       "stream": "stdout",
       "text": [
        "Applying baseline correction ... (mode: mean)\n"
       ]
      },
      {
       "output_type": "stream",
       "stream": "stdout",
       "text": [
        "Reading 91384 ... 91804  =    152.151 ...   152.850 secs...\n"
       ]
      },
      {
       "output_type": "stream",
       "stream": "stdout",
       "text": [
        "[done]\n"
       ]
      },
      {
       "output_type": "stream",
       "stream": "stdout",
       "text": [
        "Applying baseline correction ... (mode: mean)\n"
       ]
      },
      {
       "output_type": "stream",
       "stream": "stdout",
       "text": [
        "Reading 92959 ... 93379  =    154.773 ...   155.472 secs...\n"
       ]
      },
      {
       "output_type": "stream",
       "stream": "stdout",
       "text": [
        "[done]\n"
       ]
      },
      {
       "output_type": "stream",
       "stream": "stdout",
       "text": [
        "Applying baseline correction ... (mode: mean)\n"
       ]
      },
      {
       "output_type": "stream",
       "stream": "stdout",
       "text": [
        "Reading 94619 ... 95039  =    157.537 ...   158.236 secs...\n"
       ]
      },
      {
       "output_type": "stream",
       "stream": "stdout",
       "text": [
        "[done]\n"
       ]
      },
      {
       "output_type": "stream",
       "stream": "stdout",
       "text": [
        "Applying baseline correction ... (mode: mean)\n"
       ]
      },
      {
       "output_type": "stream",
       "stream": "stdout",
       "text": [
        "Reading 96298 ... 96718  =    160.332 ...   161.032 secs...\n"
       ]
      },
      {
       "output_type": "stream",
       "stream": "stdout",
       "text": [
        "[done]\n"
       ]
      },
      {
       "output_type": "stream",
       "stream": "stdout",
       "text": [
        "Applying baseline correction ... (mode: mean)\n"
       ]
      },
      {
       "output_type": "stream",
       "stream": "stdout",
       "text": [
        "Reading 98011 ... 98431  =    163.184 ...   163.884 secs...\n"
       ]
      },
      {
       "output_type": "stream",
       "stream": "stdout",
       "text": [
        "[done]\n"
       ]
      },
      {
       "output_type": "stream",
       "stream": "stdout",
       "text": [
        "Applying baseline correction ... (mode: mean)\n"
       ]
      },
      {
       "output_type": "stream",
       "stream": "stdout",
       "text": [
        "Reading 99789 ... 100209  =    166.145 ...   166.844 secs...\n"
       ]
      },
      {
       "output_type": "stream",
       "stream": "stdout",
       "text": [
        "[done]\n"
       ]
      },
      {
       "output_type": "stream",
       "stream": "stdout",
       "text": [
        "Applying baseline correction ... (mode: mean)\n"
       ]
      },
      {
       "output_type": "stream",
       "stream": "stdout",
       "text": [
        "Reading 101411 ... 101831  =    168.845 ...   169.545 secs...\n"
       ]
      },
      {
       "output_type": "stream",
       "stream": "stdout",
       "text": [
        "[done]\n"
       ]
      },
      {
       "output_type": "stream",
       "stream": "stdout",
       "text": [
        "Applying baseline correction ... (mode: mean)\n"
       ]
      },
      {
       "output_type": "stream",
       "stream": "stdout",
       "text": [
        "    Rejecting  epoch based on EOG : ['EOG 061']\n"
       ]
      },
      {
       "output_type": "stream",
       "stream": "stdout",
       "text": [
        "Reading 103005 ... 103425  =    171.499 ...   172.198 secs...\n"
       ]
      },
      {
       "output_type": "stream",
       "stream": "stdout",
       "text": [
        "[done]\n"
       ]
      },
      {
       "output_type": "stream",
       "stream": "stdout",
       "text": [
        "Applying baseline correction ... (mode: mean)\n"
       ]
      },
      {
       "output_type": "stream",
       "stream": "stdout",
       "text": [
        "Reading 104575 ... 104995  =    174.113 ...   174.812 secs...\n"
       ]
      },
      {
       "output_type": "stream",
       "stream": "stdout",
       "text": [
        "[done]\n"
       ]
      },
      {
       "output_type": "stream",
       "stream": "stdout",
       "text": [
        "Applying baseline correction ... (mode: mean)\n"
       ]
      },
      {
       "output_type": "stream",
       "stream": "stdout",
       "text": [
        "    Rejecting  epoch based on EOG : ['EOG 061']\n"
       ]
      },
      {
       "output_type": "stream",
       "stream": "stdout",
       "text": [
        "Reading 106161 ... 106581  =    176.754 ...   177.453 secs...\n"
       ]
      },
      {
       "output_type": "stream",
       "stream": "stdout",
       "text": [
        "[done]\n"
       ]
      },
      {
       "output_type": "stream",
       "stream": "stdout",
       "text": [
        "Applying baseline correction ... (mode: mean)\n"
       ]
      },
      {
       "output_type": "stream",
       "stream": "stdout",
       "text": [
        "Reading 109613 ... 110033  =    182.501 ...   183.201 secs...\n"
       ]
      },
      {
       "output_type": "stream",
       "stream": "stdout",
       "text": [
        "[done]\n"
       ]
      },
      {
       "output_type": "stream",
       "stream": "stdout",
       "text": [
        "Applying baseline correction ... (mode: mean)\n"
       ]
      },
      {
       "output_type": "stream",
       "stream": "stdout",
       "text": [
        "Reading 111213 ... 111633  =    185.165 ...   185.864 secs...\n"
       ]
      },
      {
       "output_type": "stream",
       "stream": "stdout",
       "text": [
        "[done]\n"
       ]
      },
      {
       "output_type": "stream",
       "stream": "stdout",
       "text": [
        "Applying baseline correction ... (mode: mean)\n"
       ]
      },
      {
       "output_type": "stream",
       "stream": "stdout",
       "text": [
        "Reading 112916 ... 113336  =    188.001 ...   188.700 secs...\n"
       ]
      },
      {
       "output_type": "stream",
       "stream": "stdout",
       "text": [
        "[done]\n"
       ]
      },
      {
       "output_type": "stream",
       "stream": "stdout",
       "text": [
        "Applying baseline correction ... (mode: mean)\n"
       ]
      },
      {
       "output_type": "stream",
       "stream": "stdout",
       "text": [
        "    Rejecting  epoch based on EOG : ['EOG 061']\n"
       ]
      },
      {
       "output_type": "stream",
       "stream": "stdout",
       "text": [
        "Reading 114692 ... 115112  =    190.958 ...   191.657 secs...\n"
       ]
      },
      {
       "output_type": "stream",
       "stream": "stdout",
       "text": [
        "[done]\n"
       ]
      },
      {
       "output_type": "stream",
       "stream": "stdout",
       "text": [
        "Applying baseline correction ... (mode: mean)\n"
       ]
      },
      {
       "output_type": "stream",
       "stream": "stdout",
       "text": [
        "    Rejecting  epoch based on EOG : ['EOG 061']\n"
       ]
      },
      {
       "output_type": "stream",
       "stream": "stdout",
       "text": [
        "Reading 118151 ... 118571  =    196.717 ...   197.416 secs...\n"
       ]
      },
      {
       "output_type": "stream",
       "stream": "stdout",
       "text": [
        "[done]\n"
       ]
      },
      {
       "output_type": "stream",
       "stream": "stdout",
       "text": [
        "Applying baseline correction ... (mode: mean)\n"
       ]
      },
      {
       "output_type": "stream",
       "stream": "stdout",
       "text": [
        "Reading 119746 ... 120166  =    199.372 ...   200.072 secs...\n"
       ]
      },
      {
       "output_type": "stream",
       "stream": "stdout",
       "text": [
        "[done]\n"
       ]
      },
      {
       "output_type": "stream",
       "stream": "stdout",
       "text": [
        "Applying baseline correction ... (mode: mean)\n"
       ]
      },
      {
       "output_type": "stream",
       "stream": "stdout",
       "text": [
        "Reading 121538 ... 121958  =    202.356 ...   203.055 secs...\n"
       ]
      },
      {
       "output_type": "stream",
       "stream": "stdout",
       "text": [
        "[done]\n"
       ]
      },
      {
       "output_type": "stream",
       "stream": "stdout",
       "text": [
        "Applying baseline correction ... (mode: mean)\n"
       ]
      },
      {
       "output_type": "stream",
       "stream": "stdout",
       "text": [
        "Reading 123242 ... 123662  =    205.193 ...   205.892 secs...\n"
       ]
      },
      {
       "output_type": "stream",
       "stream": "stdout",
       "text": [
        "[done]\n"
       ]
      },
      {
       "output_type": "stream",
       "stream": "stdout",
       "text": [
        "Applying baseline correction ... (mode: mean)\n"
       ]
      },
      {
       "output_type": "stream",
       "stream": "stdout",
       "text": [
        "Reading 124952 ... 125372  =    208.040 ...   208.739 secs...\n"
       ]
      },
      {
       "output_type": "stream",
       "stream": "stdout",
       "text": [
        "[done]\n"
       ]
      },
      {
       "output_type": "stream",
       "stream": "stdout",
       "text": [
        "Applying baseline correction ... (mode: mean)\n"
       ]
      },
      {
       "output_type": "stream",
       "stream": "stdout",
       "text": [
        "Reading 126506 ... 126926  =    210.627 ...   211.327 secs...\n"
       ]
      },
      {
       "output_type": "stream",
       "stream": "stdout",
       "text": [
        "[done]\n"
       ]
      },
      {
       "output_type": "stream",
       "stream": "stdout",
       "text": [
        "Applying baseline correction ... (mode: mean)\n"
       ]
      },
      {
       "output_type": "stream",
       "stream": "stdout",
       "text": [
        "Reading 128160 ... 128580  =    213.381 ...   214.081 secs...\n"
       ]
      },
      {
       "output_type": "stream",
       "stream": "stdout",
       "text": [
        "[done]\n"
       ]
      },
      {
       "output_type": "stream",
       "stream": "stdout",
       "text": [
        "Applying baseline correction ... (mode: mean)\n"
       ]
      },
      {
       "output_type": "stream",
       "stream": "stdout",
       "text": [
        "16 bad epochs dropped\n"
       ]
      },
      {
       "output_type": "stream",
       "stream": "stderr",
       "text": [
        "/Users/dengemann/Library/Enthought/Canopy_64bit/User/lib/python2.7/site-packages/sklearn/utils/__init__.py:11: RuntimeWarning: numpy.ufunc size changed, may indicate binary incompatibility\n",
        "  from .murmurhash import murmurhash3_32\n",
        "/Users/dengemann/Library/Enthought/Canopy_64bit/User/lib/python2.7/site-packages/sklearn/utils/sparsetools/__init__.py:3: RuntimeWarning: numpy.ufunc size changed, may indicate binary incompatibility\n",
        "  from ._min_spanning_tree import minimum_spanning_tree\n",
        "/Users/dengemann/Library/Enthought/Canopy_64bit/User/lib/python2.7/site-packages/sklearn/utils/sparsetools/_graph_validation.py:5: RuntimeWarning: numpy.ufunc size changed, may indicate binary incompatibility\n",
        "  from ._graph_tools import csgraph_to_dense, csgraph_from_dense,\\\n",
        "/Users/dengemann/Library/Enthought/Canopy_64bit/User/lib/python2.7/site-packages/sklearn/utils/sparsetools/__init__.py:4: RuntimeWarning: numpy.ufunc size changed, may indicate binary incompatibility\n",
        "  from ._traversal import connected_components\n",
        "/Users/dengemann/Library/Enthought/Canopy_64bit/User/lib/python2.7/site-packages/sklearn/utils/extmath.py:19: RuntimeWarning: numpy.ufunc size changed, may indicate binary incompatibility\n",
        "  from ._logistic_sigmoid import _log_logistic_sigmoid\n",
        "/Users/dengemann/Library/Enthought/Canopy_64bit/User/lib/python2.7/site-packages/sklearn/utils/extmath.py:21: RuntimeWarning: numpy.ufunc size changed, may indicate binary incompatibility\n",
        "  from .sparsefuncs import csr_row_norms\n",
        "/Users/dengemann/Library/Enthought/Canopy_64bit/User/lib/python2.7/site-packages/mne/datasets/utils.py:174: UserWarning: The sample dataset (version 0.7) is older than the mne-python (version 0.8.git). If the examples fail, you may need to update the sample dataset by usingforce_update=True\n",
        "  newest=mne_version))\n",
        "/Users/dengemann/Library/Enthought/Canopy_64bit/User/lib/python2.7/site-packages/mne/datasets/utils.py:174: UserWarning: The spm dataset (version 0.7) is older than the mne-python (version 0.8.git). If the examples fail, you may need to update the spm dataset by usingforce_update=True\n",
        "  newest=mne_version))\n"
       ]
      }
     ],
     "prompt_number": 2
    },
    {
     "cell_type": "code",
     "collapsed": false,
     "input": [
      "###############################################################################\n",
      "# Calculate power and phase locking value\n",
      "\n",
      "frequencies = np.arange(7, 30, 3)  # define frequencies of interest\n",
      "n_cycles = frequencies / float(7)  # different number of cycle per frequency\n",
      "Fs = raw.info['sfreq']  # sampling in Hz\n",
      "decim = 3\n",
      "power, phase_lock = induced_power(data, Fs=Fs, frequencies=frequencies,\n",
      "                                  n_cycles=n_cycles, n_jobs=1, use_fft=False,\n",
      "                                  decim=decim, zero_mean=True)\n",
      "\n",
      "\n",
      "baseline = (None, 0)  # set the baseline for induced power\n",
      "mode = 'ratio'  # set mode for baseline rescaling"
     ],
     "language": "python",
     "metadata": {},
     "outputs": [],
     "prompt_number": 3
    },
    {
     "cell_type": "code",
     "collapsed": false,
     "input": [
      "###############################################################################\n",
      "# Visualize results\n",
      "\n",
      "layout = mne.find_layout(epochs.info, 'meg')\n",
      "\n",
      "title = 'Induced power - MNE sample data'\n",
      "plot_topo_power(epochs, power, frequencies, layout, baseline=baseline,\n",
      "                mode=mode, decim=decim, vmin=0., vmax=14, title=title)\n",
      "plt.show()"
     ],
     "language": "python",
     "metadata": {},
     "outputs": [
      {
       "output_type": "stream",
       "stream": "stdout",
       "text": [
        "Applying baseline correction ... (mode: ratio)\n"
       ]
      },
      {
       "metadata": {},
       "output_type": "display_data",
       "png": "[encoded data removed]",
       "text": [
        "<matplotlib.figure.Figure at 0x10d1a4f90>"
       ]
      }
     ],
     "prompt_number": 4
    },
    {
     "cell_type": "code",
     "collapsed": false,
     "input": [
      "mode = None  # no baseline rescaling for PLV\n",
      "\n",
      "title = 'Phase locking value - MNE sample data'\n",
      "plot_topo_phase_lock(epochs, phase_lock, frequencies, layout,\n",
      "                     baseline=baseline, mode=mode, decim=decim, title=title)\n",
      "\n",
      "plt.show()"
     ],
     "language": "python",
     "metadata": {},
     "outputs": [
      {
       "metadata": {},
       "output_type": "display_data",
       "png": "[encoded data removed]",
       "text": [
        "<matplotlib.figure.Figure at 0x10f4c5290>"
       ]
      }
     ],
     "prompt_number": 5
    },
    {
     "cell_type": "markdown",
     "metadata": {},
     "source": [
      "Compute power and phase lock in label of the source space\n",
      "=========================================================\n",
      "\n",
      "Compute time-frequency maps of power and phase lock in the source space.\n",
      "The inverse method is linear based on dSPM inverse operator.\n",
      "\n",
      "The example also shows the difference in the time-frequency maps\n",
      "when they are computed with and without subtracting the evoked response\n",
      "from each epoch. The former results in induced activity only while the\n",
      "latter also includes evoked (stimulus-locked) activity.\n"
     ]
    },
    {
     "cell_type": "code",
     "collapsed": false,
     "input": [
      "from mne.minimum_norm import read_inverse_operator, source_induced_power\n",
      "\n",
      "###############################################################################\n",
      "# Set parameters\n",
      "\n",
      "data_path = sample.data_path()\n",
      "raw_fname = data_path + '/MEG/sample/sample_audvis_raw.fif'\n",
      "fname_inv = data_path + '/MEG/sample/sample_audvis-meg-oct-6-meg-inv.fif'\n",
      "label_name = 'Aud-rh'\n",
      "fname_label = data_path + '/MEG/sample/labels/%s.label' % label_name\n",
      "\n",
      "# Setup for reading the raw data\n",
      "events = mne.find_events(raw, stim_channel='STI 014')\n",
      "inverse_operator = read_inverse_operator(fname_inv)\n",
      "\n",
      "include = []\n",
      "\n",
      "# Picks MEG channels\n",
      "picks = fiff.pick_types(raw.info, meg=True, eeg=False, eog=True,\n",
      "                        stim=False, include=include, exclude='bads')\n",
      "reject = dict(grad=4000e-13, mag=4e-12, eog=150e-6)\n",
      "\n",
      "# Load epochs\n",
      "epochs = mne.Epochs(raw, events, event_id, tmin, tmax, picks=picks,\n",
      "                    baseline=(None, 0), reject=reject,\n",
      "                    preload=True)"
     ],
     "language": "python",
     "metadata": {},
     "outputs": [
      {
       "output_type": "stream",
       "stream": "stdout",
       "text": [
        "Reading 0 ... 166799  =      0.000 ...   277.714 secs...\n"
       ]
      },
      {
       "output_type": "stream",
       "stream": "stdout",
       "text": [
        "[done]\n"
       ]
      },
      {
       "output_type": "stream",
       "stream": "stdout",
       "text": [
        "320 events found\n"
       ]
      },
      {
       "output_type": "stream",
       "stream": "stdout",
       "text": [
        "Events id: [ 1  2  3  4  5 32]\n"
       ]
      },
      {
       "output_type": "stream",
       "stream": "stdout",
       "text": [
        "Reading inverse operator decomposition from /Users/dengemann/python/mne-python/examples/MNE-sample-data/MEG/sample/sample_audvis-meg-oct-6-meg-inv.fif...\n"
       ]
      },
      {
       "output_type": "stream",
       "stream": "stdout",
       "text": [
        "    Reading inverse operator info...\n"
       ]
      },
      {
       "output_type": "stream",
       "stream": "stdout",
       "text": [
        "    [done]\n"
       ]
      },
      {
       "output_type": "stream",
       "stream": "stdout",
       "text": [
        "    Reading inverse operator decomposition...\n"
       ]
      },
      {
       "output_type": "stream",
       "stream": "stdout",
       "text": [
        "    [done]\n"
       ]
      },
      {
       "output_type": "stream",
       "stream": "stdout",
       "text": [
        "    305 x 305 full covariance (kind = 1) found.\n"
       ]
      },
      {
       "output_type": "stream",
       "stream": "stdout",
       "text": [
        "    Read a total of 4 projection items:\n"
       ]
      },
      {
       "output_type": "stream",
       "stream": "stdout",
       "text": [
        "        PCA-v1 (1 x 102) active\n"
       ]
      },
      {
       "output_type": "stream",
       "stream": "stdout",
       "text": [
        "        PCA-v2 (1 x 102) active\n"
       ]
      },
      {
       "output_type": "stream",
       "stream": "stdout",
       "text": [
        "        PCA-v3 (1 x 102) active\n"
       ]
      },
      {
       "output_type": "stream",
       "stream": "stdout",
       "text": [
        "        Average EEG reference (1 x 60) active\n"
       ]
      },
      {
       "output_type": "stream",
       "stream": "stdout",
       "text": [
        "    Noise covariance matrix read.\n"
       ]
      },
      {
       "output_type": "stream",
       "stream": "stdout",
       "text": [
        "    22494 x 22494 diagonal covariance (kind = 2) found.\n"
       ]
      },
      {
       "output_type": "stream",
       "stream": "stdout",
       "text": [
        "    Source covariance matrix read.\n"
       ]
      },
      {
       "output_type": "stream",
       "stream": "stdout",
       "text": [
        "    22494 x 22494 diagonal covariance (kind = 6) found.\n"
       ]
      },
      {
       "output_type": "stream",
       "stream": "stdout",
       "text": [
        "    Orientation priors read.\n"
       ]
      },
      {
       "output_type": "stream",
       "stream": "stdout",
       "text": [
        "    22494 x 22494 diagonal covariance (kind = 5) found.\n"
       ]
      },
      {
       "output_type": "stream",
       "stream": "stdout",
       "text": [
        "    Depth priors read.\n"
       ]
      },
      {
       "output_type": "stream",
       "stream": "stdout",
       "text": [
        "    Did not find the desired covariance matrix (kind = 3)\n"
       ]
      },
      {
       "output_type": "stream",
       "stream": "stdout",
       "text": [
        "    Reading a source space...\n"
       ]
      },
      {
       "output_type": "stream",
       "stream": "stdout",
       "text": [
        "    Computing patch statistics...\n"
       ]
      },
      {
       "output_type": "stream",
       "stream": "stdout",
       "text": [
        "    Patch information added...\n"
       ]
      },
      {
       "output_type": "stream",
       "stream": "stdout",
       "text": [
        "    Distance information added...\n"
       ]
      },
      {
       "output_type": "stream",
       "stream": "stdout",
       "text": [
        "    [done]\n"
       ]
      },
      {
       "output_type": "stream",
       "stream": "stdout",
       "text": [
        "    Reading a source space...\n"
       ]
      },
      {
       "output_type": "stream",
       "stream": "stdout",
       "text": [
        "    Computing patch statistics...\n"
       ]
      },
      {
       "output_type": "stream",
       "stream": "stdout",
       "text": [
        "    Patch information added...\n"
       ]
      },
      {
       "output_type": "stream",
       "stream": "stdout",
       "text": [
        "    Distance information added...\n"
       ]
      },
      {
       "output_type": "stream",
       "stream": "stdout",
       "text": [
        "    [done]\n"
       ]
      },
      {
       "output_type": "stream",
       "stream": "stdout",
       "text": [
        "    2 source spaces read\n"
       ]
      },
      {
       "output_type": "stream",
       "stream": "stdout",
       "text": [
        "    Read a total of 4 projection items:\n"
       ]
      },
      {
       "output_type": "stream",
       "stream": "stdout",
       "text": [
        "        PCA-v1 (1 x 102) active\n"
       ]
      },
      {
       "output_type": "stream",
       "stream": "stdout",
       "text": [
        "        PCA-v2 (1 x 102) active\n"
       ]
      },
      {
       "output_type": "stream",
       "stream": "stdout",
       "text": [
        "        PCA-v3 (1 x 102) active\n"
       ]
      },
      {
       "output_type": "stream",
       "stream": "stdout",
       "text": [
        "        Average EEG reference (1 x 60) active\n"
       ]
      },
      {
       "output_type": "stream",
       "stream": "stdout",
       "text": [
        "    Source spaces transformed to the inverse solution coordinate frame\n"
       ]
      },
      {
       "output_type": "stream",
       "stream": "stdout",
       "text": [
        "Created an SSP operator (subspace dimension = 3)\n"
       ]
      },
      {
       "output_type": "stream",
       "stream": "stdout",
       "text": [
        "4 projection items activated\n"
       ]
      },
      {
       "output_type": "stream",
       "stream": "stdout",
       "text": [
        "72 matching events found\n"
       ]
      },
      {
       "output_type": "stream",
       "stream": "stdout",
       "text": [
        "Reading 2851 ... 3271  =      4.747 ...     5.446 secs...\n"
       ]
      },
      {
       "output_type": "stream",
       "stream": "stdout",
       "text": [
        "[done]\n"
       ]
      },
      {
       "output_type": "stream",
       "stream": "stdout",
       "text": [
        "Applying baseline correction ... (mode: mean)\n"
       ]
      },
      {
       "output_type": "stream",
       "stream": "stdout",
       "text": [
        "Reading 4530 ... 4950  =      7.542 ...     8.242 secs...\n"
       ]
      },
      {
       "output_type": "stream",
       "stream": "stdout",
       "text": [
        "[done]\n"
       ]
      },
      {
       "output_type": "stream",
       "stream": "stdout",
       "text": [
        "Applying baseline correction ... (mode: mean)\n"
       ]
      },
      {
       "output_type": "stream",
       "stream": "stdout",
       "text": [
        "Reading 6181 ... 6601  =     10.291 ...    10.990 secs...\n"
       ]
      },
      {
       "output_type": "stream",
       "stream": "stdout",
       "text": [
        "[done]\n"
       ]
      },
      {
       "output_type": "stream",
       "stream": "stdout",
       "text": [
        "Applying baseline correction ... (mode: mean)\n"
       ]
      },
      {
       "output_type": "stream",
       "stream": "stdout",
       "text": [
        "Reading 7792 ... 8212  =     12.973 ...    13.673 secs...\n"
       ]
      },
      {
       "output_type": "stream",
       "stream": "stdout",
       "text": [
        "[done]\n"
       ]
      },
      {
       "output_type": "stream",
       "stream": "stdout",
       "text": [
        "Applying baseline correction ... (mode: mean)\n"
       ]
      },
      {
       "output_type": "stream",
       "stream": "stdout",
       "text": [
        "Reading 9508 ... 9928  =     15.830 ...    16.530 secs...\n"
       ]
      },
      {
       "output_type": "stream",
       "stream": "stdout",
       "text": [
        "[done]\n"
       ]
      },
      {
       "output_type": "stream",
       "stream": "stdout",
       "text": [
        "Applying baseline correction ... (mode: mean)\n"
       ]
      },
      {
       "output_type": "stream",
       "stream": "stdout",
       "text": [
        "Reading 11087 ... 11507  =     18.459 ...    19.159 secs...\n"
       ]
      },
      {
       "output_type": "stream",
       "stream": "stdout",
       "text": [
        "[done]\n"
       ]
      },
      {
       "output_type": "stream",
       "stream": "stdout",
       "text": [
        "Applying baseline correction ... (mode: mean)\n"
       ]
      },
      {
       "output_type": "stream",
       "stream": "stdout",
       "text": [
        "Reading 12791 ... 13211  =     21.297 ...    21.996 secs...\n"
       ]
      },
      {
       "output_type": "stream",
       "stream": "stdout",
       "text": [
        "[done]\n"
       ]
      },
      {
       "output_type": "stream",
       "stream": "stdout",
       "text": [
        "Applying baseline correction ... (mode: mean)\n"
       ]
      },
      {
       "output_type": "stream",
       "stream": "stdout",
       "text": [
        "Reading 14485 ... 14905  =     24.117 ...    24.816 secs...\n"
       ]
      },
      {
       "output_type": "stream",
       "stream": "stdout",
       "text": [
        "[done]\n"
       ]
      },
      {
       "output_type": "stream",
       "stream": "stdout",
       "text": [
        "Applying baseline correction ... (mode: mean)\n"
       ]
      },
      {
       "output_type": "stream",
       "stream": "stdout",
       "text": [
        "Reading 16206 ... 16626  =     26.982 ...    27.682 secs...\n"
       ]
      },
      {
       "output_type": "stream",
       "stream": "stdout",
       "text": [
        "[done]\n"
       ]
      },
      {
       "output_type": "stream",
       "stream": "stdout",
       "text": [
        "Applying baseline correction ... (mode: mean)\n"
       ]
      },
      {
       "output_type": "stream",
       "stream": "stdout",
       "text": [
        "Reading 17861 ... 18281  =     29.738 ...    30.437 secs...\n"
       ]
      },
      {
       "output_type": "stream",
       "stream": "stdout",
       "text": [
        "[done]\n"
       ]
      },
      {
       "output_type": "stream",
       "stream": "stdout",
       "text": [
        "Applying baseline correction ... (mode: mean)\n"
       ]
      },
      {
       "output_type": "stream",
       "stream": "stdout",
       "text": [
        "Reading 19566 ... 19986  =     32.577 ...    33.276 secs...\n"
       ]
      },
      {
       "output_type": "stream",
       "stream": "stdout",
       "text": [
        "[done]\n"
       ]
      },
      {
       "output_type": "stream",
       "stream": "stdout",
       "text": [
        "Applying baseline correction ... (mode: mean)\n"
       ]
      },
      {
       "output_type": "stream",
       "stream": "stdout",
       "text": [
        "    Rejecting  epoch based on EOG : ['EOG 061']\n"
       ]
      },
      {
       "output_type": "stream",
       "stream": "stdout",
       "text": [
        "Reading 21175 ... 21595  =     35.256 ...    35.955 secs...\n"
       ]
      },
      {
       "output_type": "stream",
       "stream": "stdout",
       "text": [
        "[done]\n"
       ]
      },
      {
       "output_type": "stream",
       "stream": "stdout",
       "text": [
        "Applying baseline correction ... (mode: mean)\n"
       ]
      },
      {
       "output_type": "stream",
       "stream": "stdout",
       "text": [
        "Reading 22802 ... 23222  =     37.964 ...    38.664 secs...\n"
       ]
      },
      {
       "output_type": "stream",
       "stream": "stdout",
       "text": [
        "[done]\n"
       ]
      },
      {
       "output_type": "stream",
       "stream": "stdout",
       "text": [
        "Applying baseline correction ... (mode: mean)\n"
       ]
      },
      {
       "output_type": "stream",
       "stream": "stdout",
       "text": [
        "Reading 24349 ... 24769  =     40.540 ...    41.239 secs...\n"
       ]
      },
      {
       "output_type": "stream",
       "stream": "stdout",
       "text": [
        "[done]\n"
       ]
      },
      {
       "output_type": "stream",
       "stream": "stdout",
       "text": [
        "Applying baseline correction ... (mode: mean)\n"
       ]
      },
      {
       "output_type": "stream",
       "stream": "stdout",
       "text": [
        "Reading 25961 ... 26381  =     43.224 ...    43.923 secs...\n"
       ]
      },
      {
       "output_type": "stream",
       "stream": "stdout",
       "text": [
        "[done]\n"
       ]
      },
      {
       "output_type": "stream",
       "stream": "stdout",
       "text": [
        "Applying baseline correction ... (mode: mean)\n"
       ]
      },
      {
       "output_type": "stream",
       "stream": "stdout",
       "text": [
        "    Rejecting  epoch based on EOG : ['EOG 061']\n"
       ]
      },
      {
       "output_type": "stream",
       "stream": "stdout",
       "text": [
        "Reading 27574 ... 27994  =     45.910 ...    46.609 secs...\n"
       ]
      },
      {
       "output_type": "stream",
       "stream": "stdout",
       "text": [
        "[done]\n"
       ]
      },
      {
       "output_type": "stream",
       "stream": "stdout",
       "text": [
        "Applying baseline correction ... (mode: mean)\n"
       ]
      },
      {
       "output_type": "stream",
       "stream": "stdout",
       "text": [
        "    Rejecting  epoch based on EOG : ['EOG 061']\n"
       ]
      },
      {
       "output_type": "stream",
       "stream": "stdout",
       "text": [
        "Reading 29180 ... 29600  =     48.584 ...    49.283 secs...\n"
       ]
      },
      {
       "output_type": "stream",
       "stream": "stdout",
       "text": [
        "[done]\n"
       ]
      },
      {
       "output_type": "stream",
       "stream": "stdout",
       "text": [
        "Applying baseline correction ... (mode: mean)\n"
       ]
      },
      {
       "output_type": "stream",
       "stream": "stdout",
       "text": [
        "Reading 30797 ... 31217  =     51.276 ...    51.975 secs...\n"
       ]
      },
      {
       "output_type": "stream",
       "stream": "stdout",
       "text": [
        "[done]\n"
       ]
      },
      {
       "output_type": "stream",
       "stream": "stdout",
       "text": [
        "Applying baseline correction ... (mode: mean)\n"
       ]
      },
      {
       "output_type": "stream",
       "stream": "stdout",
       "text": [
        "Reading 32528 ... 32948  =     54.158 ...    54.857 secs...\n"
       ]
      },
      {
       "output_type": "stream",
       "stream": "stdout",
       "text": [
        "[done]\n"
       ]
      },
      {
       "output_type": "stream",
       "stream": "stdout",
       "text": [
        "Applying baseline correction ... (mode: mean)\n"
       ]
      },
      {
       "output_type": "stream",
       "stream": "stdout",
       "text": [
        "Reading 34209 ... 34629  =     56.957 ...    57.656 secs...\n"
       ]
      },
      {
       "output_type": "stream",
       "stream": "stdout",
       "text": [
        "[done]\n"
       ]
      },
      {
       "output_type": "stream",
       "stream": "stdout",
       "text": [
        "Applying baseline correction ... (mode: mean)\n"
       ]
      },
      {
       "output_type": "stream",
       "stream": "stdout",
       "text": [
        "Reading 35948 ... 36368  =     59.852 ...    60.551 secs...\n"
       ]
      },
      {
       "output_type": "stream",
       "stream": "stdout",
       "text": [
        "[done]\n"
       ]
      },
      {
       "output_type": "stream",
       "stream": "stdout",
       "text": [
        "Applying baseline correction ... (mode: mean)\n"
       ]
      },
      {
       "output_type": "stream",
       "stream": "stdout",
       "text": [
        "    Rejecting  epoch based on EOG : ['EOG 061']\n"
       ]
      },
      {
       "output_type": "stream",
       "stream": "stdout",
       "text": [
        "Reading 37612 ... 38032  =     62.622 ...    63.322 secs...\n"
       ]
      },
      {
       "output_type": "stream",
       "stream": "stdout",
       "text": [
        "[done]\n"
       ]
      },
      {
       "output_type": "stream",
       "stream": "stdout",
       "text": [
        "Applying baseline correction ... (mode: mean)\n"
       ]
      },
      {
       "output_type": "stream",
       "stream": "stdout",
       "text": [
        "Reading 39261 ... 39681  =     65.368 ...    66.067 secs...\n"
       ]
      },
      {
       "output_type": "stream",
       "stream": "stdout",
       "text": [
        "[done]\n"
       ]
      },
      {
       "output_type": "stream",
       "stream": "stdout",
       "text": [
        "Applying baseline correction ... (mode: mean)\n"
       ]
      },
      {
       "output_type": "stream",
       "stream": "stdout",
       "text": [
        "Reading 41044 ... 41464  =     68.337 ...    69.036 secs...\n"
       ]
      },
      {
       "output_type": "stream",
       "stream": "stdout",
       "text": [
        "[done]\n"
       ]
      },
      {
       "output_type": "stream",
       "stream": "stdout",
       "text": [
        "Applying baseline correction ... (mode: mean)\n"
       ]
      },
      {
       "output_type": "stream",
       "stream": "stdout",
       "text": [
        "Reading 42746 ... 43166  =     71.170 ...    71.870 secs...\n"
       ]
      },
      {
       "output_type": "stream",
       "stream": "stdout",
       "text": [
        "[done]\n"
       ]
      },
      {
       "output_type": "stream",
       "stream": "stdout",
       "text": [
        "Applying baseline correction ... (mode: mean)\n"
       ]
      },
      {
       "output_type": "stream",
       "stream": "stdout",
       "text": [
        "    Rejecting  epoch based on EOG : ['EOG 061']\n"
       ]
      },
      {
       "output_type": "stream",
       "stream": "stdout",
       "text": [
        "Reading 44339 ... 44759  =     73.823 ...    74.522 secs...\n"
       ]
      },
      {
       "output_type": "stream",
       "stream": "stdout",
       "text": [
        "[done]\n"
       ]
      },
      {
       "output_type": "stream",
       "stream": "stdout",
       "text": [
        "Applying baseline correction ... (mode: mean)\n"
       ]
      },
      {
       "output_type": "stream",
       "stream": "stdout",
       "text": [
        "Reading 46071 ... 46491  =     76.706 ...    77.406 secs...\n"
       ]
      },
      {
       "output_type": "stream",
       "stream": "stdout",
       "text": [
        "[done]\n"
       ]
      },
      {
       "output_type": "stream",
       "stream": "stdout",
       "text": [
        "Applying baseline correction ... (mode: mean)\n"
       ]
      },
      {
       "output_type": "stream",
       "stream": "stdout",
       "text": [
        "Reading 47798 ... 48218  =     79.582 ...    80.281 secs...\n"
       ]
      },
      {
       "output_type": "stream",
       "stream": "stdout",
       "text": [
        "[done]\n"
       ]
      },
      {
       "output_type": "stream",
       "stream": "stdout",
       "text": [
        "Applying baseline correction ... (mode: mean)\n"
       ]
      },
      {
       "output_type": "stream",
       "stream": "stdout",
       "text": [
        "Reading 50974 ... 51394  =     84.870 ...    85.569 secs...\n"
       ]
      },
      {
       "output_type": "stream",
       "stream": "stdout",
       "text": [
        "[done]\n"
       ]
      },
      {
       "output_type": "stream",
       "stream": "stdout",
       "text": [
        "Applying baseline correction ... (mode: mean)\n"
       ]
      },
      {
       "output_type": "stream",
       "stream": "stdout",
       "text": [
        "    Rejecting  epoch based on MAG : ['MEG 1711']\n"
       ]
      },
      {
       "output_type": "stream",
       "stream": "stdout",
       "text": [
        "Reading 52619 ... 53039  =     87.609 ...    88.308 secs...\n"
       ]
      },
      {
       "output_type": "stream",
       "stream": "stdout",
       "text": [
        "[done]\n"
       ]
      },
      {
       "output_type": "stream",
       "stream": "stdout",
       "text": [
        "Applying baseline correction ... (mode: mean)\n"
       ]
      },
      {
       "output_type": "stream",
       "stream": "stdout",
       "text": [
        "Reading 54289 ... 54709  =     90.389 ...    91.088 secs...\n"
       ]
      },
      {
       "output_type": "stream",
       "stream": "stdout",
       "text": [
        "[done]\n"
       ]
      },
      {
       "output_type": "stream",
       "stream": "stdout",
       "text": [
        "Applying baseline correction ... (mode: mean)\n"
       ]
      },
      {
       "output_type": "stream",
       "stream": "stdout",
       "text": [
        "Reading 55991 ... 56411  =     93.223 ...    93.922 secs...\n"
       ]
      },
      {
       "output_type": "stream",
       "stream": "stdout",
       "text": [
        "[done]\n"
       ]
      },
      {
       "output_type": "stream",
       "stream": "stdout",
       "text": [
        "Applying baseline correction ... (mode: mean)\n"
       ]
      },
      {
       "output_type": "stream",
       "stream": "stdout",
       "text": [
        "Reading 57648 ... 58068  =     95.982 ...    96.681 secs...\n"
       ]
      },
      {
       "output_type": "stream",
       "stream": "stdout",
       "text": [
        "[done]\n"
       ]
      },
      {
       "output_type": "stream",
       "stream": "stdout",
       "text": [
        "Applying baseline correction ... (mode: mean)\n"
       ]
      },
      {
       "output_type": "stream",
       "stream": "stdout",
       "text": [
        "Reading 59379 ... 59799  =     98.864 ...    99.563 secs...\n"
       ]
      },
      {
       "output_type": "stream",
       "stream": "stdout",
       "text": [
        "[done]\n"
       ]
      },
      {
       "output_type": "stream",
       "stream": "stdout",
       "text": [
        "Applying baseline correction ... (mode: mean)\n"
       ]
      },
      {
       "output_type": "stream",
       "stream": "stdout",
       "text": [
        "Reading 61051 ... 61471  =    101.647 ...   102.347 secs...\n"
       ]
      },
      {
       "output_type": "stream",
       "stream": "stdout",
       "text": [
        "[done]\n"
       ]
      },
      {
       "output_type": "stream",
       "stream": "stdout",
       "text": [
        "Applying baseline correction ... (mode: mean)\n"
       ]
      },
      {
       "output_type": "stream",
       "stream": "stdout",
       "text": [
        "    Rejecting  epoch based on EOG : ['EOG 061']\n"
       ]
      },
      {
       "output_type": "stream",
       "stream": "stdout",
       "text": [
        "Reading 62673 ... 63093  =    104.348 ...   105.047 secs...\n"
       ]
      },
      {
       "output_type": "stream",
       "stream": "stdout",
       "text": [
        "[done]\n"
       ]
      },
      {
       "output_type": "stream",
       "stream": "stdout",
       "text": [
        "Applying baseline correction ... (mode: mean)\n"
       ]
      },
      {
       "output_type": "stream",
       "stream": "stdout",
       "text": [
        "Reading 64499 ... 64919  =    107.388 ...   108.088 secs...\n"
       ]
      },
      {
       "output_type": "stream",
       "stream": "stdout",
       "text": [
        "[done]\n"
       ]
      },
      {
       "output_type": "stream",
       "stream": "stdout",
       "text": [
        "Applying baseline correction ... (mode: mean)\n"
       ]
      },
      {
       "output_type": "stream",
       "stream": "stdout",
       "text": [
        "Reading 66118 ... 66538  =    110.084 ...   110.783 secs...\n"
       ]
      },
      {
       "output_type": "stream",
       "stream": "stdout",
       "text": [
        "[done]\n"
       ]
      },
      {
       "output_type": "stream",
       "stream": "stdout",
       "text": [
        "Applying baseline correction ... (mode: mean)\n"
       ]
      },
      {
       "output_type": "stream",
       "stream": "stdout",
       "text": [
        "Reading 67749 ... 68169  =    112.799 ...   113.499 secs...\n"
       ]
      },
      {
       "output_type": "stream",
       "stream": "stdout",
       "text": [
        "[done]\n"
       ]
      },
      {
       "output_type": "stream",
       "stream": "stdout",
       "text": [
        "Applying baseline correction ... (mode: mean)\n"
       ]
      },
      {
       "output_type": "stream",
       "stream": "stdout",
       "text": [
        "    Rejecting  epoch based on EOG : ['EOG 061']\n"
       ]
      },
      {
       "output_type": "stream",
       "stream": "stdout",
       "text": [
        "Reading 69515 ... 69935  =    115.740 ...   116.439 secs...\n"
       ]
      },
      {
       "output_type": "stream",
       "stream": "stdout",
       "text": [
        "[done]\n"
       ]
      },
      {
       "output_type": "stream",
       "stream": "stdout",
       "text": [
        "Applying baseline correction ... (mode: mean)\n"
       ]
      },
      {
       "output_type": "stream",
       "stream": "stdout",
       "text": [
        "Reading 71314 ... 71734  =    118.735 ...   119.434 secs...\n"
       ]
      },
      {
       "output_type": "stream",
       "stream": "stdout",
       "text": [
        "[done]\n"
       ]
      },
      {
       "output_type": "stream",
       "stream": "stdout",
       "text": [
        "Applying baseline correction ... (mode: mean)\n"
       ]
      },
      {
       "output_type": "stream",
       "stream": "stdout",
       "text": [
        "Reading 72983 ... 73403  =    121.514 ...   122.213 secs...\n"
       ]
      },
      {
       "output_type": "stream",
       "stream": "stdout",
       "text": [
        "[done]\n"
       ]
      },
      {
       "output_type": "stream",
       "stream": "stdout",
       "text": [
        "Applying baseline correction ... (mode: mean)\n"
       ]
      },
      {
       "output_type": "stream",
       "stream": "stdout",
       "text": [
        "    Rejecting  epoch based on EOG : ['EOG 061']\n"
       ]
      },
      {
       "output_type": "stream",
       "stream": "stdout",
       "text": [
        "Reading 74700 ... 75120  =    124.373 ...   125.072 secs...\n"
       ]
      },
      {
       "output_type": "stream",
       "stream": "stdout",
       "text": [
        "[done]\n"
       ]
      },
      {
       "output_type": "stream",
       "stream": "stdout",
       "text": [
        "Applying baseline correction ... (mode: mean)\n"
       ]
      },
      {
       "output_type": "stream",
       "stream": "stdout",
       "text": [
        "Reading 76368 ... 76788  =    127.150 ...   127.849 secs...\n"
       ]
      },
      {
       "output_type": "stream",
       "stream": "stdout",
       "text": [
        "[done]\n"
       ]
      },
      {
       "output_type": "stream",
       "stream": "stdout",
       "text": [
        "Applying baseline correction ... (mode: mean)\n"
       ]
      },
      {
       "output_type": "stream",
       "stream": "stdout",
       "text": [
        "Reading 78113 ... 78533  =    130.055 ...   130.754 secs...\n"
       ]
      },
      {
       "output_type": "stream",
       "stream": "stdout",
       "text": [
        "[done]\n"
       ]
      },
      {
       "output_type": "stream",
       "stream": "stdout",
       "text": [
        "Applying baseline correction ... (mode: mean)\n"
       ]
      },
      {
       "output_type": "stream",
       "stream": "stdout",
       "text": [
        "    Rejecting  epoch based on EOG : ['EOG 061']\n"
       ]
      },
      {
       "output_type": "stream",
       "stream": "stdout",
       "text": [
        "Reading 79840 ... 80260  =    132.930 ...   133.630 secs...\n"
       ]
      },
      {
       "output_type": "stream",
       "stream": "stdout",
       "text": [
        "[done]\n"
       ]
      },
      {
       "output_type": "stream",
       "stream": "stdout",
       "text": [
        "Applying baseline correction ... (mode: mean)\n"
       ]
      },
      {
       "output_type": "stream",
       "stream": "stdout",
       "text": [
        "    Rejecting  epoch based on EOG : ['EOG 061']\n"
       ]
      },
      {
       "output_type": "stream",
       "stream": "stdout",
       "text": [
        "Reading 81435 ... 81855  =    135.586 ...   136.285 secs...\n"
       ]
      },
      {
       "output_type": "stream",
       "stream": "stdout",
       "text": [
        "[done]\n"
       ]
      },
      {
       "output_type": "stream",
       "stream": "stdout",
       "text": [
        "Applying baseline correction ... (mode: mean)\n"
       ]
      },
      {
       "output_type": "stream",
       "stream": "stdout",
       "text": [
        "Reading 84654 ... 85074  =    140.946 ...   141.645 secs...\n"
       ]
      },
      {
       "output_type": "stream",
       "stream": "stdout",
       "text": [
        "[done]\n"
       ]
      },
      {
       "output_type": "stream",
       "stream": "stdout",
       "text": [
        "Applying baseline correction ... (mode: mean)\n"
       ]
      },
      {
       "output_type": "stream",
       "stream": "stdout",
       "text": [
        "    Rejecting  epoch based on EOG : ['EOG 061']\n"
       ]
      },
      {
       "output_type": "stream",
       "stream": "stdout",
       "text": [
        "Reading 86372 ... 86792  =    143.806 ...   144.505 secs...\n"
       ]
      },
      {
       "output_type": "stream",
       "stream": "stdout",
       "text": [
        "[done]\n"
       ]
      },
      {
       "output_type": "stream",
       "stream": "stdout",
       "text": [
        "Applying baseline correction ... (mode: mean)\n"
       ]
      },
      {
       "output_type": "stream",
       "stream": "stdout",
       "text": [
        "    Rejecting  epoch based on EOG : ['EOG 061']\n"
       ]
      },
      {
       "output_type": "stream",
       "stream": "stdout",
       "text": [
        "Reading 88032 ... 88452  =    146.570 ...   147.269 secs...\n"
       ]
      },
      {
       "output_type": "stream",
       "stream": "stdout",
       "text": [
        "[done]\n"
       ]
      },
      {
       "output_type": "stream",
       "stream": "stdout",
       "text": [
        "Applying baseline correction ... (mode: mean)\n"
       ]
      },
      {
       "output_type": "stream",
       "stream": "stdout",
       "text": [
        "Reading 89699 ... 90119  =    149.345 ...   150.045 secs...\n"
       ]
      },
      {
       "output_type": "stream",
       "stream": "stdout",
       "text": [
        "[done]\n"
       ]
      },
      {
       "output_type": "stream",
       "stream": "stdout",
       "text": [
        "Applying baseline correction ... (mode: mean)\n"
       ]
      },
      {
       "output_type": "stream",
       "stream": "stdout",
       "text": [
        "Reading 91384 ... 91804  =    152.151 ...   152.850 secs...\n"
       ]
      },
      {
       "output_type": "stream",
       "stream": "stdout",
       "text": [
        "[done]\n"
       ]
      },
      {
       "output_type": "stream",
       "stream": "stdout",
       "text": [
        "Applying baseline correction ... (mode: mean)\n"
       ]
      },
      {
       "output_type": "stream",
       "stream": "stdout",
       "text": [
        "Reading 92959 ... 93379  =    154.773 ...   155.472 secs...\n"
       ]
      },
      {
       "output_type": "stream",
       "stream": "stdout",
       "text": [
        "[done]\n"
       ]
      },
      {
       "output_type": "stream",
       "stream": "stdout",
       "text": [
        "Applying baseline correction ... (mode: mean)\n"
       ]
      },
      {
       "output_type": "stream",
       "stream": "stdout",
       "text": [
        "Reading 94619 ... 95039  =    157.537 ...   158.236 secs...\n"
       ]
      },
      {
       "output_type": "stream",
       "stream": "stdout",
       "text": [
        "[done]\n"
       ]
      },
      {
       "output_type": "stream",
       "stream": "stdout",
       "text": [
        "Applying baseline correction ... (mode: mean)\n"
       ]
      },
      {
       "output_type": "stream",
       "stream": "stdout",
       "text": [
        "Reading 96298 ... 96718  =    160.332 ...   161.032 secs...\n"
       ]
      },
      {
       "output_type": "stream",
       "stream": "stdout",
       "text": [
        "[done]\n"
       ]
      },
      {
       "output_type": "stream",
       "stream": "stdout",
       "text": [
        "Applying baseline correction ... (mode: mean)\n"
       ]
      },
      {
       "output_type": "stream",
       "stream": "stdout",
       "text": [
        "Reading 98011 ... 98431  =    163.184 ...   163.884 secs...\n"
       ]
      },
      {
       "output_type": "stream",
       "stream": "stdout",
       "text": [
        "[done]\n"
       ]
      },
      {
       "output_type": "stream",
       "stream": "stdout",
       "text": [
        "Applying baseline correction ... (mode: mean)\n"
       ]
      },
      {
       "output_type": "stream",
       "stream": "stdout",
       "text": [
        "Reading 99789 ... 100209  =    166.145 ...   166.844 secs...\n"
       ]
      },
      {
       "output_type": "stream",
       "stream": "stdout",
       "text": [
        "[done]\n"
       ]
      },
      {
       "output_type": "stream",
       "stream": "stdout",
       "text": [
        "Applying baseline correction ... (mode: mean)\n"
       ]
      },
      {
       "output_type": "stream",
       "stream": "stdout",
       "text": [
        "Reading 101411 ... 101831  =    168.845 ...   169.545 secs...\n"
       ]
      },
      {
       "output_type": "stream",
       "stream": "stdout",
       "text": [
        "[done]\n"
       ]
      },
      {
       "output_type": "stream",
       "stream": "stdout",
       "text": [
        "Applying baseline correction ... (mode: mean)\n"
       ]
      },
      {
       "output_type": "stream",
       "stream": "stdout",
       "text": [
        "    Rejecting  epoch based on EOG : ['EOG 061']\n"
       ]
      },
      {
       "output_type": "stream",
       "stream": "stdout",
       "text": [
        "Reading 103005 ... 103425  =    171.499 ...   172.198 secs...\n"
       ]
      },
      {
       "output_type": "stream",
       "stream": "stdout",
       "text": [
        "[done]\n"
       ]
      },
      {
       "output_type": "stream",
       "stream": "stdout",
       "text": [
        "Applying baseline correction ... (mode: mean)\n"
       ]
      },
      {
       "output_type": "stream",
       "stream": "stdout",
       "text": [
        "Reading 104575 ... 104995  =    174.113 ...   174.812 secs...\n"
       ]
      },
      {
       "output_type": "stream",
       "stream": "stdout",
       "text": [
        "[done]\n"
       ]
      },
      {
       "output_type": "stream",
       "stream": "stdout",
       "text": [
        "Applying baseline correction ... (mode: mean)\n"
       ]
      },
      {
       "output_type": "stream",
       "stream": "stdout",
       "text": [
        "    Rejecting  epoch based on EOG : ['EOG 061']\n"
       ]
      },
      {
       "output_type": "stream",
       "stream": "stdout",
       "text": [
        "Reading 106161 ... 106581  =    176.754 ...   177.453 secs...\n"
       ]
      },
      {
       "output_type": "stream",
       "stream": "stdout",
       "text": [
        "[done]\n"
       ]
      },
      {
       "output_type": "stream",
       "stream": "stdout",
       "text": [
        "Applying baseline correction ... (mode: mean)\n"
       ]
      },
      {
       "output_type": "stream",
       "stream": "stdout",
       "text": [
        "Reading 109613 ... 110033  =    182.501 ...   183.201 secs...\n"
       ]
      },
      {
       "output_type": "stream",
       "stream": "stdout",
       "text": [
        "[done]\n"
       ]
      },
      {
       "output_type": "stream",
       "stream": "stdout",
       "text": [
        "Applying baseline correction ... (mode: mean)\n"
       ]
      },
      {
       "output_type": "stream",
       "stream": "stdout",
       "text": [
        "Reading 111213 ... 111633  =    185.165 ...   185.864 secs...\n"
       ]
      },
      {
       "output_type": "stream",
       "stream": "stdout",
       "text": [
        "[done]\n"
       ]
      },
      {
       "output_type": "stream",
       "stream": "stdout",
       "text": [
        "Applying baseline correction ... (mode: mean)\n"
       ]
      },
      {
       "output_type": "stream",
       "stream": "stdout",
       "text": [
        "Reading 112916 ... 113336  =    188.001 ...   188.700 secs...\n"
       ]
      },
      {
       "output_type": "stream",
       "stream": "stdout",
       "text": [
        "[done]\n"
       ]
      },
      {
       "output_type": "stream",
       "stream": "stdout",
       "text": [
        "Applying baseline correction ... (mode: mean)\n"
       ]
      },
      {
       "output_type": "stream",
       "stream": "stdout",
       "text": [
        "    Rejecting  epoch based on EOG : ['EOG 061']\n"
       ]
      },
      {
       "output_type": "stream",
       "stream": "stdout",
       "text": [
        "Reading 114692 ... 115112  =    190.958 ...   191.657 secs...\n"
       ]
      },
      {
       "output_type": "stream",
       "stream": "stdout",
       "text": [
        "[done]\n"
       ]
      },
      {
       "output_type": "stream",
       "stream": "stdout",
       "text": [
        "Applying baseline correction ... (mode: mean)\n"
       ]
      },
      {
       "output_type": "stream",
       "stream": "stdout",
       "text": [
        "    Rejecting  epoch based on EOG : ['EOG 061']\n"
       ]
      },
      {
       "output_type": "stream",
       "stream": "stdout",
       "text": [
        "Reading 118151 ... 118571  =    196.717 ...   197.416 secs...\n"
       ]
      },
      {
       "output_type": "stream",
       "stream": "stdout",
       "text": [
        "[done]\n"
       ]
      },
      {
       "output_type": "stream",
       "stream": "stdout",
       "text": [
        "Applying baseline correction ... (mode: mean)\n"
       ]
      },
      {
       "output_type": "stream",
       "stream": "stdout",
       "text": [
        "Reading 119746 ... 120166  =    199.372 ...   200.072 secs...\n"
       ]
      },
      {
       "output_type": "stream",
       "stream": "stdout",
       "text": [
        "[done]\n"
       ]
      },
      {
       "output_type": "stream",
       "stream": "stdout",
       "text": [
        "Applying baseline correction ... (mode: mean)\n"
       ]
      },
      {
       "output_type": "stream",
       "stream": "stdout",
       "text": [
        "Reading 121538 ... 121958  =    202.356 ...   203.055 secs...\n"
       ]
      },
      {
       "output_type": "stream",
       "stream": "stdout",
       "text": [
        "[done]\n"
       ]
      },
      {
       "output_type": "stream",
       "stream": "stdout",
       "text": [
        "Applying baseline correction ... (mode: mean)\n"
       ]
      },
      {
       "output_type": "stream",
       "stream": "stdout",
       "text": [
        "Reading 123242 ... 123662  =    205.193 ...   205.892 secs...\n"
       ]
      },
      {
       "output_type": "stream",
       "stream": "stdout",
       "text": [
        "[done]\n"
       ]
      },
      {
       "output_type": "stream",
       "stream": "stdout",
       "text": [
        "Applying baseline correction ... (mode: mean)\n"
       ]
      },
      {
       "output_type": "stream",
       "stream": "stdout",
       "text": [
        "Reading 124952 ... 125372  =    208.040 ...   208.739 secs...\n"
       ]
      },
      {
       "output_type": "stream",
       "stream": "stdout",
       "text": [
        "[done]\n"
       ]
      },
      {
       "output_type": "stream",
       "stream": "stdout",
       "text": [
        "Applying baseline correction ... (mode: mean)\n"
       ]
      },
      {
       "output_type": "stream",
       "stream": "stdout",
       "text": [
        "Reading 126506 ... 126926  =    210.627 ...   211.327 secs...\n"
       ]
      },
      {
       "output_type": "stream",
       "stream": "stdout",
       "text": [
        "[done]\n"
       ]
      },
      {
       "output_type": "stream",
       "stream": "stdout",
       "text": [
        "Applying baseline correction ... (mode: mean)\n"
       ]
      },
      {
       "output_type": "stream",
       "stream": "stdout",
       "text": [
        "Reading 128160 ... 128580  =    213.381 ...   214.081 secs...\n"
       ]
      },
      {
       "output_type": "stream",
       "stream": "stdout",
       "text": [
        "[done]\n"
       ]
      },
      {
       "output_type": "stream",
       "stream": "stdout",
       "text": [
        "Applying baseline correction ... (mode: mean)\n"
       ]
      },
      {
       "output_type": "stream",
       "stream": "stdout",
       "text": [
        "17 bad epochs dropped\n"
       ]
      }
     ],
     "prompt_number": 6
    },
    {
     "cell_type": "code",
     "collapsed": false,
     "input": [
      "# Compute a source estimate per frequency band including and excluding the\n",
      "# evoked response\n",
      "frequencies = np.arange(7, 30, 2)  # define frequencies of interest\n",
      "label = mne.read_label(fname_label)\n",
      "n_cycles = frequencies / 3.  # different number of cycle per frequency\n",
      "\n",
      "\n",
      "plt.close('all')\n",
      "\n",
      "# compute the source space power and phase lock\n",
      "power, phase_lock = source_induced_power(epochs, inverse_operator,\n",
      "                                         frequencies, label,\n",
      "                                         baseline=(-0.1, 0),\n",
      "                                         baseline_mode='percent',\n",
      "                                         n_cycles=n_cycles, n_jobs=1)\n",
      "\n",
      "power = np.mean(power, axis=0)  # average over sources\n",
      "phase_lock = np.mean(phase_lock, axis=0)  # average over sources\n",
      "times = epochs.times"
     ],
     "language": "python",
     "metadata": {},
     "outputs": [
      {
       "output_type": "stream",
       "stream": "stdout",
       "text": [
        "Preparing the inverse operator for use...\n"
       ]
      },
      {
       "output_type": "stream",
       "stream": "stdout",
       "text": [
        "    Scaled noise and source covariance from nave = 1 to nave = 1\n"
       ]
      },
      {
       "output_type": "stream",
       "stream": "stdout",
       "text": [
        "    Created the regularized inverter\n"
       ]
      },
      {
       "output_type": "stream",
       "stream": "stdout",
       "text": [
        "    Created an SSP operator (subspace dimension = 3)\n"
       ]
      },
      {
       "output_type": "stream",
       "stream": "stdout",
       "text": [
        "    Created the whitener using a full noise covariance matrix (3 small eigenvalues omitted)\n"
       ]
      },
      {
       "output_type": "stream",
       "stream": "stdout",
       "text": [
        "    Computing noise-normalization factors (dSPM)...\n"
       ]
      },
      {
       "output_type": "stream",
       "stream": "stdout",
       "text": [
        "[done]\n"
       ]
      },
      {
       "output_type": "stream",
       "stream": "stdout",
       "text": [
        "Picked 305 channels from the data\n"
       ]
      },
      {
       "output_type": "stream",
       "stream": "stdout",
       "text": [
        "Computing inverse...\n"
       ]
      },
      {
       "output_type": "stream",
       "stream": "stdout",
       "text": [
        "(eigenleads need to be weighted)...\n"
       ]
      },
      {
       "output_type": "stream",
       "stream": "stdout",
       "text": [
        "Reducing data rank to 81\n"
       ]
      },
      {
       "output_type": "stream",
       "stream": "stdout",
       "text": [
        "Computing source power ...\n"
       ]
      },
      {
       "output_type": "stream",
       "stream": "stdout",
       "text": [
        "Applying baseline correction ... (mode: percent)\n"
       ]
      }
     ],
     "prompt_number": 7
    },
    {
     "cell_type": "code",
     "collapsed": false,
     "input": [
      "##########################################################################\n",
      "# View time-frequency plots\n",
      "\n",
      "for data, kind in [(power, 'Power'), (phase_lock, 'Phase-lock')]:\n",
      "\n",
      "    plt.figure()\n",
      "    plt.imshow(20 * data,\n",
      "               extent=[times[0], times[-1], frequencies[0], frequencies[-1]],\n",
      "               aspect='auto', origin='lower', vmin=0., vmax=30.)\n",
      "    plt.xlabel('Time (s)')\n",
      "    plt.ylabel('Frequency (Hz)')\n",
      "    plt.title('%s (%s)' % (kind, label))\n",
      "    plt.colorbar()\n",
      "    \n",
      "    "
     ],
     "language": "python",
     "metadata": {},
     "outputs": [
      {
       "metadata": {},
       "output_type": "display_data",
       "png": "[encoded data removed]",
       "text": [
        "<matplotlib.figure.Figure at 0x11edc96d0>"
       ]
      },
      {
       "metadata": {},
       "output_type": "display_data",
       "png": "[encoded data removed]",
       "text": [
        "<matplotlib.figure.Figure at 0x10f63d090>"
       ]
      }
     ],
     "prompt_number": 9
    },
    {
     "cell_type": "markdown",
     "metadata": {},
     "source": [
      "Non-parametric between conditions cluster statistic on single trial power\n",
      "=========================================================================\n",
      "\n",
      "This script shows how to compare clusters in time-frequency\n",
      "power estimates between conditions. It uses a non-parametric\n",
      "statistical procedure based on permutations and cluster\n",
      "level statistics.\n",
      "\n",
      "The procedure consists in:\n",
      "\n",
      "  - extracting epochs for 2 conditions\n",
      "  - compute single trial power estimates\n",
      "  - baseline line correct the power estimates (power ratios)\n",
      "  - compute stats to see if the power estimates are significantly different\n",
      "    between conditions.\n"
     ]
    },
    {
     "cell_type": "code",
     "collapsed": false,
     "input": [
      "import mne\n",
      "from mne import fiff\n",
      "from mne.time_frequency import single_trial_power\n",
      "from mne.stats import permutation_cluster_test\n",
      "from mne.datasets import sample\n",
      "\n",
      "###############################################################################\n",
      "# Set parameters\n",
      "\n",
      "event_id = 1\n",
      "tmin = -0.2\n",
      "tmax = 0.5\n",
      "\n",
      "ch_name = raw.info['ch_names'][picks[0]]\n",
      "\n",
      "# Load condition 1\n",
      "reject = dict(grad=4000e-13, eog=150e-6)\n",
      "event_id = 1\n",
      "epochs_condition_1 = mne.Epochs(raw, events, event_id, tmin, tmax,\n",
      "                                picks=picks, baseline=(None, 0),\n",
      "                                reject=reject)\n",
      "data_condition_1 = epochs_condition_1.get_data()  # as 3D matrix\n",
      "data_condition_1 *= 1e13  # change unit to fT / cm\n",
      "\n",
      "# Load condition 2\n",
      "event_id = 2\n",
      "epochs_condition_2 = mne.Epochs(raw, events, event_id, tmin, tmax,\n",
      "                                picks=picks, baseline=(None, 0),\n",
      "                                reject=reject)\n",
      "data_condition_2 = epochs_condition_2.get_data()  # as 3D matrix\n",
      "data_condition_2 *= 1e13  # change unit to fT / cm\n",
      "\n",
      "# Take only one channel\n",
      "data_condition_1 = data_condition_1[:, 97:98, :]\n",
      "data_condition_2 = data_condition_2[:, 97:98, :]\n",
      "\n",
      "# Time vector\n",
      "times = 1e3 * epochs_condition_1.times  # change unit to ms"
     ],
     "language": "python",
     "metadata": {},
     "outputs": []
    },
    {
     "cell_type": "code",
     "collapsed": false,
     "input": [
      "# Factor to downsample the temporal dimension of the PSD computed by\n",
      "# single_trial_power.  Decimation occurs after frequency decomposition and can\n",
      "# be used to reduce memory usage (and possibly comptuational time of downstream\n",
      "# operations such as nonparametric statistics) if you don't need high\n",
      "# spectrotemporal resolution.\n",
      "decim = 2\n",
      "frequencies = np.arange(7, 30, 3)  # define frequencies of interest\n",
      "Fs = raw.info['sfreq']  # sampling in Hz\n",
      "n_cycles = 1.5\n",
      "epochs_power_1 = single_trial_power(data_condition_1, Fs=Fs,\n",
      "                                    frequencies=frequencies,\n",
      "                                    n_cycles=n_cycles, use_fft=False,\n",
      "                                    decim=decim)\n",
      "\n",
      "epochs_power_2 = single_trial_power(data_condition_2, Fs=Fs,\n",
      "                                    frequencies=frequencies,\n",
      "                                    n_cycles=n_cycles, use_fft=False,\n",
      "                                    decim=decim)\n",
      "\n",
      "epochs_power_1 = epochs_power_1[:, 0, :, :]  # only 1 channel to get 3D matrix\n",
      "epochs_power_2 = epochs_power_2[:, 0, :, :]  # only 1 channel to get 3D matrix\n",
      "\n",
      "# Compute ratio with baseline power (be sure to correct time vector with\n",
      "# decimation factor)\n",
      "baseline_mask = times[::decim] < 0\n",
      "epochs_baseline_1 = np.mean(epochs_power_1[:, :, baseline_mask], axis=2)\n",
      "epochs_power_1 /= epochs_baseline_1[..., np.newaxis]\n",
      "epochs_baseline_2 = np.mean(epochs_power_2[:, :, baseline_mask], axis=2)\n",
      "epochs_power_2 /= epochs_baseline_2[..., np.newaxis]"
     ],
     "language": "python",
     "metadata": {},
     "outputs": []
    },
    {
     "cell_type": "code",
     "collapsed": false,
     "input": [
      "###############################################################################\n",
      "# Compute statistic\n",
      "threshold = 6.0\n",
      "T_obs, clusters, cluster_p_values, H0 = \\\n",
      "                   permutation_cluster_test([epochs_power_1, epochs_power_2],\n",
      "                               n_permutations=100, threshold=threshold, tail=0)\n",
      "\n",
      "###############################################################################\n",
      "# View time-frequency plots\n",
      "plt.clf()\n",
      "plt.subplots_adjust(0.12, 0.08, 0.96, 0.94, 0.2, 0.43)\n",
      "plt.subplot(2, 1, 1)\n",
      "evoked_contrast = np.mean(data_condition_1, 0) - np.mean(data_condition_2, 0)\n",
      "plt.plot(times, evoked_contrast.T)\n",
      "plt.title('Contrast of evoked response (%s)' % ch_name)\n",
      "plt.xlabel('time (ms)')\n",
      "plt.ylabel('Magnetic Field (fT/cm)')\n",
      "plt.xlim(times[0], times[-1])\n",
      "plt.ylim(-100, 200)\n",
      "\n",
      "plt.subplot(2, 1, 2)\n",
      "\n",
      "# Create new stats image with only significant clusters\n",
      "T_obs_plot = np.nan * np.ones_like(T_obs)\n",
      "for c, p_val in zip(clusters, cluster_p_values):\n",
      "    if p_val <= 0.05:\n",
      "        T_obs_plot[c] = T_obs[c]\n",
      "\n",
      "plt.imshow(T_obs, cmap=plt.cm.gray,\n",
      "           extent=[times[0], times[-1], frequencies[0], frequencies[-1]],\n",
      "           aspect='auto', origin='lower')\n",
      "plt.imshow(T_obs_plot, cmap=plt.cm.jet,\n",
      "           extent=[times[0], times[-1], frequencies[0], frequencies[-1]],\n",
      "           aspect='auto', origin='lower')\n",
      "\n",
      "plt.xlabel('time (ms)')\n",
      "plt.ylabel('Frequency (Hz)')\n",
      "plt.title('Induced power (%s)' % ch_name)\n",
      "plt.show()"
     ],
     "language": "python",
     "metadata": {},
     "outputs": []
    }
   ],
   "metadata": {}
  }
 ]
}