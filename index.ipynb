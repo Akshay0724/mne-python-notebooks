{
 "cells": [
  {
   "cell_type": "markdown",
   "metadata": {},
   "source": [
    "# MNE Course\n",
    "\n",
    "Please refer to the [github repository](http://github.com/mne-tools/mne-python-notebooks) for this tutorial for any updates."
   ]
  },
  {
   "cell_type": "markdown",
   "metadata": {},
   "source": [
    "The following links are to notebooks containing the course materials. If there is not enough time during the course to cover all of this material, take the time to go deeper on your own. The [MNE website](http://martinos.org/mne/) is also there to help.\n",
    "\n",
    "### Preliminaries\n",
    "\n",
    "  + Intro Python [notebook](Intro_Python.ipynb) [html](Intro_Python.html)\n",
    "  + [What is MNE? (pdf)](intro_mne.pdf)\n",
    "  \n",
    "### Sensor Space Analysis\n",
    "\n",
    "  + From raw to epochs to evoked (ERF/ERP) [notebook](From_raw_to_epochs_evoked_ERF_ERP.ipynb) [html](From_raw_to_epochs_evoked_ERF_ERP.html)\n",
    "  + Preprocessing with SSP [notebook](Preprocessing_SSP.ipynb) [html](Preprocessing_SSP.html)\n",
    "  + Preprocessing with ICA [notebook](Preprocessing_ICA.ipynb) [html](Preprocessing_ICA.html)\n",
    "  + Sensors and Time Frequency [notebook](Sensors_Time_Frequency.ipynb) [html](Sensors_Time_Frequency.html)\n",
    "\n",
    "### Source Space Analysis\n",
    "\n",
    "  + [Anatomical Pipeline and Freesurfer (pdf)](mne_anatomical_workflow.pdf)\n",
    "  + Forward modeling [notebook](Forward.ipynb) [html](Forward.html)\n",
    "  + Source localization with MNE/dSPM/sLORETA [notebook](Inverse_source_localization_MNE_dSPM_sLORETA.ipynb) [html](Inverse_source_localization_MNE_dSPM_sLORETA.html)\n",
    "  + Source localization with Time-frequency MxNE [notebook](Time-frequency_MxNE_source_localization.ipynb) [html](Time-frequency_MxNE_source_localization.html)\n",
    "\n",
    "### Statistics\n",
    "\n",
    "  + Multivariate Statistics / Decoding [notebook](Stats_Decoding_multivariate_statistics.ipynb) [html](Stats_Decoding_multivariate_statistics.html)\n",
    "  + Non-parametric cluster based statistics [notebook](Stats_spatio_temporal_clustering.ipynb) [html](Stats_spatio_temporal_clustering.ipynb)\n",
    "\n",
    "### Organizing your code and reporting results\n",
    "\n",
    "  + Guidelines for group analysis [notebook](Group_analysis.ipynb) [html](Group_analysis.html)\n",
    "  + Using the report [notebook](mne_report.ipynb) [html](mne_report.html)\n",
    "\n",
    "### Contributing to MNE\n",
    "\n",
    "  + [Contributing to MNE (pdf)](contributing_to_mne.pdf)"
   ]
  }
 ],
 "metadata": {
  "kernelspec": {
   "display_name": "Python 2",
   "language": "python",
   "name": "python2"
  },
  "language_info": {
   "codemirror_mode": {
    "name": "ipython",
    "version": 2
   },
   "file_extension": ".py",
   "mimetype": "text/x-python",
   "name": "python",
   "nbconvert_exporter": "python",
   "pygments_lexer": "ipython2",
   "version": "2.7.11"
  }
 },
 "nbformat": 4,
 "nbformat_minor": 0
}
